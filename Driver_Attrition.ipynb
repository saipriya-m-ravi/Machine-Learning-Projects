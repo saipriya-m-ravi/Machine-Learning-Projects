{
  "nbformat": 4,
  "nbformat_minor": 0,
  "metadata": {
    "colab": {
      "provenance": []
    },
    "kernelspec": {
      "name": "python3",
      "display_name": "Python 3"
    },
    "language_info": {
      "name": "python"
    }
  },
  "cells": [
    {
      "cell_type": "markdown",
      "source": [
        "## Problem Statement\n",
        "\n",
        "Based on monthly information for a segment of drivers of a cab sharing company, we need to predict whether a driver will be leaving the company or not based on their attributes like performance history, demographics and tenure.\n",
        "\n",
        "Concepts : Bagging, Boosting, Decision Tree, Random Forest"
      ],
      "metadata": {
        "id": "eD8gsZRT0543"
      }
    },
    {
      "cell_type": "code",
      "execution_count": null,
      "metadata": {
        "id": "e8LIsMZrv5nI"
      },
      "outputs": [],
      "source": [
        "import pandas as pd\n",
        "import numpy as np\n",
        "import os\n",
        "import random\n",
        "import time\n",
        "import matplotlib.pyplot as plt\n",
        "import seaborn as sns\n",
        "from sklearn.preprocessing import MinMaxScaler\n",
        "from sklearn.model_selection import train_test_split,GridSearchCV\n",
        "from sklearn.utils import class_weight\n",
        "from sklearn.ensemble import RandomForestClassifier\n",
        "from sklearn.metrics import (\n",
        "    classification_report,confusion_matrix,\n",
        "    roc_auc_score,roc_curve,auc\n",
        "    )\n",
        "from sklearn.tree import DecisionTreeClassifier\n",
        "import xgboost as xgb\n",
        "\n",
        "from imblearn.over_sampling import SMOTE"
      ]
    },
    {
      "cell_type": "code",
      "source": [
        "data=pd.read_csv(\"driver.csv\")\n",
        "print(data.columns)\n",
        "data.head()"
      ],
      "metadata": {
        "id": "iBdoeQFq7K-I"
      },
      "execution_count": null,
      "outputs": []
    },
    {
      "cell_type": "code",
      "source": [
        "data.drop(columns=['Unnamed: 0'],inplace=True)\n",
        "data.head()"
      ],
      "metadata": {
        "id": "Mv6671Ki7lT-"
      },
      "execution_count": null,
      "outputs": []
    },
    {
      "cell_type": "code",
      "source": [
        "data.info()"
      ],
      "metadata": {
        "colab": {
          "base_uri": "https://localhost:8080/"
        },
        "id": "rWEXdJCh792X",
        "outputId": "70a57fa7-1d33-4827-fe2f-541e7bbd44cc"
      },
      "execution_count": null,
      "outputs": [
        {
          "output_type": "stream",
          "name": "stdout",
          "text": [
            "<class 'pandas.core.frame.DataFrame'>\n",
            "RangeIndex: 19104 entries, 0 to 19103\n",
            "Data columns (total 13 columns):\n",
            " #   Column                Non-Null Count  Dtype  \n",
            "---  ------                --------------  -----  \n",
            " 0   MMM-YY                19104 non-null  object \n",
            " 1   Driver_ID             19104 non-null  int64  \n",
            " 2   Age                   19043 non-null  float64\n",
            " 3   Gender                19052 non-null  float64\n",
            " 4   City                  19104 non-null  object \n",
            " 5   Education_Level       19104 non-null  int64  \n",
            " 6   Income                19104 non-null  int64  \n",
            " 7   Dateofjoining         19104 non-null  object \n",
            " 8   LastWorkingDate       1616 non-null   object \n",
            " 9   Joining Designation   19104 non-null  int64  \n",
            " 10  Grade                 19104 non-null  int64  \n",
            " 11  Total Business Value  19104 non-null  int64  \n",
            " 12  Quarterly Rating      19104 non-null  int64  \n",
            "dtypes: float64(2), int64(7), object(4)\n",
            "memory usage: 1.9+ MB\n"
          ]
        }
      ]
    },
    {
      "cell_type": "code",
      "source": [
        "data['MMM-YY']=pd.to_datetime(data['MMM-YY'])\n",
        "data['Dateofjoining']=pd.to_datetime(data['Dateofjoining'])\n",
        "data['LastWorkingDate']=pd.to_datetime(data['LastWorkingDate'])\n",
        "data.info()"
      ],
      "metadata": {
        "colab": {
          "base_uri": "https://localhost:8080/"
        },
        "id": "BTW_IH518FNM",
        "outputId": "dfc1a7d8-17a5-4f5b-82fe-baff9f97306b"
      },
      "execution_count": null,
      "outputs": [
        {
          "output_type": "stream",
          "name": "stdout",
          "text": [
            "<class 'pandas.core.frame.DataFrame'>\n",
            "RangeIndex: 19104 entries, 0 to 19103\n",
            "Data columns (total 13 columns):\n",
            " #   Column                Non-Null Count  Dtype         \n",
            "---  ------                --------------  -----         \n",
            " 0   MMM-YY                19104 non-null  datetime64[ns]\n",
            " 1   Driver_ID             19104 non-null  int64         \n",
            " 2   Age                   19043 non-null  float64       \n",
            " 3   Gender                19052 non-null  float64       \n",
            " 4   City                  19104 non-null  object        \n",
            " 5   Education_Level       19104 non-null  int64         \n",
            " 6   Income                19104 non-null  int64         \n",
            " 7   Dateofjoining         19104 non-null  datetime64[ns]\n",
            " 8   LastWorkingDate       1616 non-null   datetime64[ns]\n",
            " 9   Joining Designation   19104 non-null  int64         \n",
            " 10  Grade                 19104 non-null  int64         \n",
            " 11  Total Business Value  19104 non-null  int64         \n",
            " 12  Quarterly Rating      19104 non-null  int64         \n",
            "dtypes: datetime64[ns](3), float64(2), int64(7), object(1)\n",
            "memory usage: 1.9+ MB\n"
          ]
        },
        {
          "output_type": "stream",
          "name": "stderr",
          "text": [
            "<ipython-input-5-32fbf07b9a81>:1: UserWarning: Could not infer format, so each element will be parsed individually, falling back to `dateutil`. To ensure parsing is consistent and as-expected, please specify a format.\n",
            "  data['MMM-YY']=pd.to_datetime(data['MMM-YY'])\n",
            "<ipython-input-5-32fbf07b9a81>:2: UserWarning: Could not infer format, so each element will be parsed individually, falling back to `dateutil`. To ensure parsing is consistent and as-expected, please specify a format.\n",
            "  data['Dateofjoining']=pd.to_datetime(data['Dateofjoining'])\n",
            "<ipython-input-5-32fbf07b9a81>:3: UserWarning: Could not infer format, so each element will be parsed individually, falling back to `dateutil`. To ensure parsing is consistent and as-expected, please specify a format.\n",
            "  data['LastWorkingDate']=pd.to_datetime(data['LastWorkingDate'])\n"
          ]
        }
      ]
    },
    {
      "cell_type": "code",
      "source": [
        "data.isnull().sum()/len(data)*100"
      ],
      "metadata": {
        "colab": {
          "base_uri": "https://localhost:8080/"
        },
        "id": "iUvcsdtl8wQm",
        "outputId": "daff675d-0919-4ad5-fa79-9a29abedc6b1"
      },
      "execution_count": null,
      "outputs": [
        {
          "output_type": "execute_result",
          "data": {
            "text/plain": [
              "MMM-YY                   0.000000\n",
              "Driver_ID                0.000000\n",
              "Age                      0.319305\n",
              "Gender                   0.272194\n",
              "City                     0.000000\n",
              "Education_Level          0.000000\n",
              "Income                   0.000000\n",
              "Dateofjoining            0.000000\n",
              "LastWorkingDate         91.541039\n",
              "Joining Designation      0.000000\n",
              "Grade                    0.000000\n",
              "Total Business Value     0.000000\n",
              "Quarterly Rating         0.000000\n",
              "dtype: float64"
            ]
          },
          "metadata": {},
          "execution_count": 6
        }
      ]
    },
    {
      "cell_type": "markdown",
      "source": [
        "There are missing values in columns Age and Gender."
      ],
      "metadata": {
        "id": "Zg5ltWiw9Unw"
      }
    },
    {
      "cell_type": "code",
      "source": [
        "data['Gender'].value_counts()"
      ],
      "metadata": {
        "colab": {
          "base_uri": "https://localhost:8080/"
        },
        "id": "tbVRuf9m9Dlx",
        "outputId": "4582b1c7-c3b2-486f-ec83-2c507c5a9cde"
      },
      "execution_count": null,
      "outputs": [
        {
          "output_type": "execute_result",
          "data": {
            "text/plain": [
              "Gender\n",
              "0.0    11074\n",
              "1.0     7978\n",
              "Name: count, dtype: int64"
            ]
          },
          "metadata": {},
          "execution_count": 7
        }
      ]
    },
    {
      "cell_type": "code",
      "source": [
        "data['Education_Level'].value_counts()"
      ],
      "metadata": {
        "colab": {
          "base_uri": "https://localhost:8080/"
        },
        "id": "_sldaPCB89C2",
        "outputId": "6ac9ad30-eb81-493e-8417-393ee0c4a8d2"
      },
      "execution_count": null,
      "outputs": [
        {
          "output_type": "execute_result",
          "data": {
            "text/plain": [
              "Education_Level\n",
              "1    6864\n",
              "2    6327\n",
              "0    5913\n",
              "Name: count, dtype: int64"
            ]
          },
          "metadata": {},
          "execution_count": 8
        }
      ]
    },
    {
      "cell_type": "markdown",
      "source": [
        "### KNN Imputation"
      ],
      "metadata": {
        "id": "8e0ybZmG9vMj"
      }
    },
    {
      "cell_type": "code",
      "source": [
        "data_nums=data.select_dtypes(np.number)\n",
        "data_nums.drop(columns=['Driver_ID'],inplace=True)\n",
        "cols=data_nums.columns\n",
        "cols"
      ],
      "metadata": {
        "colab": {
          "base_uri": "https://localhost:8080/"
        },
        "id": "m46P0Tl59KsW",
        "outputId": "977ad8ec-9530-4006-ebe3-8f5da5a5a6a2"
      },
      "execution_count": null,
      "outputs": [
        {
          "output_type": "execute_result",
          "data": {
            "text/plain": [
              "Index(['Age', 'Gender', 'Education_Level', 'Income', 'Joining Designation',\n",
              "       'Grade', 'Total Business Value', 'Quarterly Rating'],\n",
              "      dtype='object')"
            ]
          },
          "metadata": {},
          "execution_count": 9
        }
      ]
    },
    {
      "cell_type": "code",
      "source": [
        "from sklearn.impute import KNNImputer\n",
        "imputer = KNNImputer(n_neighbors=5, weights='uniform', metric='nan_euclidean')\n",
        "imputer.fit(data_nums)"
      ],
      "metadata": {
        "colab": {
          "base_uri": "https://localhost:8080/",
          "height": 75
        },
        "id": "V_z1QLWv-P4-",
        "outputId": "7358239c-f3cf-453c-aaf8-a17d96446b33"
      },
      "execution_count": null,
      "outputs": [
        {
          "output_type": "execute_result",
          "data": {
            "text/plain": [
              "KNNImputer()"
            ],
            "text/html": [
              "<style>#sk-container-id-1 {color: black;background-color: white;}#sk-container-id-1 pre{padding: 0;}#sk-container-id-1 div.sk-toggleable {background-color: white;}#sk-container-id-1 label.sk-toggleable__label {cursor: pointer;display: block;width: 100%;margin-bottom: 0;padding: 0.3em;box-sizing: border-box;text-align: center;}#sk-container-id-1 label.sk-toggleable__label-arrow:before {content: \"▸\";float: left;margin-right: 0.25em;color: #696969;}#sk-container-id-1 label.sk-toggleable__label-arrow:hover:before {color: black;}#sk-container-id-1 div.sk-estimator:hover label.sk-toggleable__label-arrow:before {color: black;}#sk-container-id-1 div.sk-toggleable__content {max-height: 0;max-width: 0;overflow: hidden;text-align: left;background-color: #f0f8ff;}#sk-container-id-1 div.sk-toggleable__content pre {margin: 0.2em;color: black;border-radius: 0.25em;background-color: #f0f8ff;}#sk-container-id-1 input.sk-toggleable__control:checked~div.sk-toggleable__content {max-height: 200px;max-width: 100%;overflow: auto;}#sk-container-id-1 input.sk-toggleable__control:checked~label.sk-toggleable__label-arrow:before {content: \"▾\";}#sk-container-id-1 div.sk-estimator input.sk-toggleable__control:checked~label.sk-toggleable__label {background-color: #d4ebff;}#sk-container-id-1 div.sk-label input.sk-toggleable__control:checked~label.sk-toggleable__label {background-color: #d4ebff;}#sk-container-id-1 input.sk-hidden--visually {border: 0;clip: rect(1px 1px 1px 1px);clip: rect(1px, 1px, 1px, 1px);height: 1px;margin: -1px;overflow: hidden;padding: 0;position: absolute;width: 1px;}#sk-container-id-1 div.sk-estimator {font-family: monospace;background-color: #f0f8ff;border: 1px dotted black;border-radius: 0.25em;box-sizing: border-box;margin-bottom: 0.5em;}#sk-container-id-1 div.sk-estimator:hover {background-color: #d4ebff;}#sk-container-id-1 div.sk-parallel-item::after {content: \"\";width: 100%;border-bottom: 1px solid gray;flex-grow: 1;}#sk-container-id-1 div.sk-label:hover label.sk-toggleable__label {background-color: #d4ebff;}#sk-container-id-1 div.sk-serial::before {content: \"\";position: absolute;border-left: 1px solid gray;box-sizing: border-box;top: 0;bottom: 0;left: 50%;z-index: 0;}#sk-container-id-1 div.sk-serial {display: flex;flex-direction: column;align-items: center;background-color: white;padding-right: 0.2em;padding-left: 0.2em;position: relative;}#sk-container-id-1 div.sk-item {position: relative;z-index: 1;}#sk-container-id-1 div.sk-parallel {display: flex;align-items: stretch;justify-content: center;background-color: white;position: relative;}#sk-container-id-1 div.sk-item::before, #sk-container-id-1 div.sk-parallel-item::before {content: \"\";position: absolute;border-left: 1px solid gray;box-sizing: border-box;top: 0;bottom: 0;left: 50%;z-index: -1;}#sk-container-id-1 div.sk-parallel-item {display: flex;flex-direction: column;z-index: 1;position: relative;background-color: white;}#sk-container-id-1 div.sk-parallel-item:first-child::after {align-self: flex-end;width: 50%;}#sk-container-id-1 div.sk-parallel-item:last-child::after {align-self: flex-start;width: 50%;}#sk-container-id-1 div.sk-parallel-item:only-child::after {width: 0;}#sk-container-id-1 div.sk-dashed-wrapped {border: 1px dashed gray;margin: 0 0.4em 0.5em 0.4em;box-sizing: border-box;padding-bottom: 0.4em;background-color: white;}#sk-container-id-1 div.sk-label label {font-family: monospace;font-weight: bold;display: inline-block;line-height: 1.2em;}#sk-container-id-1 div.sk-label-container {text-align: center;}#sk-container-id-1 div.sk-container {/* jupyter's `normalize.less` sets `[hidden] { display: none; }` but bootstrap.min.css set `[hidden] { display: none !important; }` so we also need the `!important` here to be able to override the default hidden behavior on the sphinx rendered scikit-learn.org. See: https://github.com/scikit-learn/scikit-learn/issues/21755 */display: inline-block !important;position: relative;}#sk-container-id-1 div.sk-text-repr-fallback {display: none;}</style><div id=\"sk-container-id-1\" class=\"sk-top-container\"><div class=\"sk-text-repr-fallback\"><pre>KNNImputer()</pre><b>In a Jupyter environment, please rerun this cell to show the HTML representation or trust the notebook. <br />On GitHub, the HTML representation is unable to render, please try loading this page with nbviewer.org.</b></div><div class=\"sk-container\" hidden><div class=\"sk-item\"><div class=\"sk-estimator sk-toggleable\"><input class=\"sk-toggleable__control sk-hidden--visually\" id=\"sk-estimator-id-1\" type=\"checkbox\" checked><label for=\"sk-estimator-id-1\" class=\"sk-toggleable__label sk-toggleable__label-arrow\">KNNImputer</label><div class=\"sk-toggleable__content\"><pre>KNNImputer()</pre></div></div></div></div></div>"
            ]
          },
          "metadata": {},
          "execution_count": 10
        }
      ]
    },
    {
      "cell_type": "code",
      "source": [
        "data_new=imputer.transform(data_nums)\n",
        "print(type(data_new))\n",
        "data_new=pd.DataFrame(data_new)\n",
        "data_new.columns=cols\n",
        "data_new.head()"
      ],
      "metadata": {
        "id": "eFYtlcFD_QLu"
      },
      "execution_count": null,
      "outputs": []
    },
    {
      "cell_type": "code",
      "source": [
        "data_new.isnull().sum()/len(data_new)*100"
      ],
      "metadata": {
        "colab": {
          "base_uri": "https://localhost:8080/"
        },
        "id": "8sglr1Rc_Rl6",
        "outputId": "d9a47f1e-a79e-4600-8225-1039b11980e3"
      },
      "execution_count": null,
      "outputs": [
        {
          "output_type": "execute_result",
          "data": {
            "text/plain": [
              "Age                     0.0\n",
              "Gender                  0.0\n",
              "Education_Level         0.0\n",
              "Income                  0.0\n",
              "Joining Designation     0.0\n",
              "Grade                   0.0\n",
              "Total Business Value    0.0\n",
              "Quarterly Rating        0.0\n",
              "dtype: float64"
            ]
          },
          "metadata": {},
          "execution_count": 12
        }
      ]
    },
    {
      "cell_type": "code",
      "source": [
        "rem_cols=list(set(data.columns).difference(set(cols)))\n",
        "rem_cols"
      ],
      "metadata": {
        "colab": {
          "base_uri": "https://localhost:8080/"
        },
        "id": "7FGXntAZ_ZP5",
        "outputId": "8b9f28ed-f2ef-4ffe-98ec-73f9bf235a96"
      },
      "execution_count": null,
      "outputs": [
        {
          "output_type": "execute_result",
          "data": {
            "text/plain": [
              "['LastWorkingDate', 'Driver_ID', 'MMM-YY', 'City', 'Dateofjoining']"
            ]
          },
          "metadata": {},
          "execution_count": 13
        }
      ]
    },
    {
      "cell_type": "code",
      "source": [
        "df=pd.concat([data_new,data[rem_cols]],axis=1)\n",
        "df.head()"
      ],
      "metadata": {
        "id": "-BS33BBfAkl-"
      },
      "execution_count": null,
      "outputs": []
    },
    {
      "cell_type": "code",
      "source": [
        "print(data[data['Driver_ID']==2788])\n",
        "print(df[df['Driver_ID']==2788])"
      ],
      "metadata": {
        "colab": {
          "base_uri": "https://localhost:8080/"
        },
        "id": "lEnyaC-hA30x",
        "outputId": "ecd98c0e-ef65-4848-b43e-85bae762f47b"
      },
      "execution_count": null,
      "outputs": [
        {
          "output_type": "stream",
          "name": "stdout",
          "text": [
            "          MMM-YY  Driver_ID   Age  Gender City  Education_Level  Income  \\\n",
            "19097 2020-06-01       2788  29.0     0.0  C27                2   70254   \n",
            "19098 2020-07-01       2788  30.0     0.0  C27                2   70254   \n",
            "19099 2020-08-01       2788  30.0     0.0  C27                2   70254   \n",
            "19100 2020-09-01       2788  30.0     0.0  C27                2   70254   \n",
            "19101 2020-10-01       2788  30.0     0.0  C27                2   70254   \n",
            "19102 2020-11-01       2788  30.0     0.0  C27                2   70254   \n",
            "19103 2020-12-01       2788  30.0     0.0  C27                2   70254   \n",
            "\n",
            "      Dateofjoining LastWorkingDate  Joining Designation  Grade  \\\n",
            "19097    2020-06-08             NaT                    2      2   \n",
            "19098    2020-06-08             NaT                    2      2   \n",
            "19099    2020-06-08             NaT                    2      2   \n",
            "19100    2020-06-08             NaT                    2      2   \n",
            "19101    2020-06-08             NaT                    2      2   \n",
            "19102    2020-06-08             NaT                    2      2   \n",
            "19103    2020-06-08             NaT                    2      2   \n",
            "\n",
            "       Total Business Value  Quarterly Rating  \n",
            "19097                     0                 1  \n",
            "19098                497690                 3  \n",
            "19099                740280                 3  \n",
            "19100                448370                 3  \n",
            "19101                     0                 2  \n",
            "19102                200420                 2  \n",
            "19103                411480                 2  \n",
            "        Age  Gender  Education_Level   Income  Joining Designation  Grade  \\\n",
            "19097  29.0     0.0              2.0  70254.0                  2.0    2.0   \n",
            "19098  30.0     0.0              2.0  70254.0                  2.0    2.0   \n",
            "19099  30.0     0.0              2.0  70254.0                  2.0    2.0   \n",
            "19100  30.0     0.0              2.0  70254.0                  2.0    2.0   \n",
            "19101  30.0     0.0              2.0  70254.0                  2.0    2.0   \n",
            "19102  30.0     0.0              2.0  70254.0                  2.0    2.0   \n",
            "19103  30.0     0.0              2.0  70254.0                  2.0    2.0   \n",
            "\n",
            "       Total Business Value  Quarterly Rating LastWorkingDate  Driver_ID  \\\n",
            "19097                   0.0               1.0             NaT       2788   \n",
            "19098              497690.0               3.0             NaT       2788   \n",
            "19099              740280.0               3.0             NaT       2788   \n",
            "19100              448370.0               3.0             NaT       2788   \n",
            "19101                   0.0               2.0             NaT       2788   \n",
            "19102              200420.0               2.0             NaT       2788   \n",
            "19103              411480.0               2.0             NaT       2788   \n",
            "\n",
            "          MMM-YY City Dateofjoining  \n",
            "19097 2020-06-01  C27    2020-06-08  \n",
            "19098 2020-07-01  C27    2020-06-08  \n",
            "19099 2020-08-01  C27    2020-06-08  \n",
            "19100 2020-09-01  C27    2020-06-08  \n",
            "19101 2020-10-01  C27    2020-06-08  \n",
            "19102 2020-11-01  C27    2020-06-08  \n",
            "19103 2020-12-01  C27    2020-06-08  \n"
          ]
        }
      ]
    },
    {
      "cell_type": "markdown",
      "source": [
        "Concat looks correct."
      ],
      "metadata": {
        "id": "u_NnmDPdB0Fr"
      }
    },
    {
      "cell_type": "code",
      "source": [
        "function_dict = {'Age':'max', 'Gender':'first','City':'first',\n",
        " 'Education_Level':'last', 'Income':'last',\n",
        " 'Joining Designation':'last','Grade':'last',\n",
        " 'Dateofjoining':'last','LastWorkingDate':'last',\n",
        " 'Total Business Value':'sum','Quarterly Rating':'last'}\n",
        "new_train=df.groupby(['Driver_ID','MMM-YY']).aggregate(function_dict)\n",
        "new_train.head(10)"
      ],
      "metadata": {
        "id": "RIfGt3wuBD3d"
      },
      "execution_count": null,
      "outputs": []
    },
    {
      "cell_type": "code",
      "source": [
        "df_new=new_train.sort_index( ascending=[True,True])\n",
        "df_new.head(10)"
      ],
      "metadata": {
        "id": "iuHImzn0Z6pD"
      },
      "execution_count": null,
      "outputs": []
    },
    {
      "cell_type": "markdown",
      "source": [
        "### Aggregation at driver level"
      ],
      "metadata": {
        "id": "W5VjHw4Jb8ax"
      }
    },
    {
      "cell_type": "code",
      "source": [
        "df1=pd.DataFrame()\n",
        "df1['Driver_ID']=df['Driver_ID'].unique()"
      ],
      "metadata": {
        "id": "NvN2jcunbUln"
      },
      "execution_count": null,
      "outputs": []
    },
    {
      "cell_type": "code",
      "source": [
        "df1['Age'] = list(df_new.groupby('Driver_ID',axis=0).max('MMM-YY')['Age'])\n",
        "df1['Gender'] = list(df_new.groupby('Driver_ID').agg({'Gender':'last'})['Gender'])\n",
        "df1['City'] = list(df_new.groupby('Driver_ID').agg({'City':'last'})['City'])\n",
        "df1['Education'] = list(df_new.groupby('Driver_ID').agg({'Education_Level':'last'})['Education_Level'])\n",
        "df1['Income'] = list(df_new.groupby('Driver_ID').agg({'Income':'last'})['Income'])\n",
        "df1['Joining_Designation'] = list(df_new.groupby('Driver_ID').agg({'Joining Designation':'last'})['Joining Designation'])\n",
        "df1['Grade'] = list(df_new.groupby('Driver_ID').agg({'Grade':'last'})['Grade'])\n",
        "df1['Total_Business_Value'] = list(df_new.groupby('Driver_ID',axis=0).sum('Total Business Value')['Total Business Value'])\n",
        "df1['Last_Quarterly_Rating'] = list(df_new.groupby('Driver_ID').agg({'Quarterly Rating':'last'})['Quarterly Rating'])\n",
        "df1"
      ],
      "metadata": {
        "id": "4QJ1sJxOb6db"
      },
      "execution_count": null,
      "outputs": []
    },
    {
      "cell_type": "markdown",
      "source": [
        "Creating a column which tells if the quarterly rating has increased for that employee.\"quarterly rating\" = 1 means it has increased."
      ],
      "metadata": {
        "id": "kH3aFQk50hQk"
      }
    },
    {
      "cell_type": "code",
      "source": [
        "#First Quarterly rating\n",
        "qrf = df_new.groupby('Driver_ID').agg({'Quarterly Rating':'first'})\n",
        "#Latest Quarterly rating\n",
        "qrl = df_new.groupby('Driver_ID').agg({'Quarterly Rating':'last'})\n",
        "\n",
        "qr = (qrl['Quarterly Rating']>qrf['Quarterly Rating']).reset_index()\n",
        "empid = qr[qr['Quarterly Rating']==True]['Driver_ID']\n",
        "\n",
        "qri = []\n",
        "for i in df1['Driver_ID']:\n",
        " if i in empid.values:\n",
        "  qri.append(1)\n",
        " else:\n",
        "  qri.append(0)\n",
        "df1['Quarterly_Rating_Increased'] = qri\n",
        "df1.head(10)"
      ],
      "metadata": {
        "id": "CkTkhayefAq9"
      },
      "execution_count": null,
      "outputs": []
    },
    {
      "cell_type": "markdown",
      "source": [
        "Creating a column called target which tells if the person has left the company. Persons who have a last working date will have the value 1 otherwise 0."
      ],
      "metadata": {
        "id": "9BNRsj5eKf3H"
      }
    },
    {
      "cell_type": "code",
      "source": [
        "df_new.groupby('Driver_ID').agg({'LastWorkingDate':'last'})['LastWorkingDate']"
      ],
      "metadata": {
        "colab": {
          "base_uri": "https://localhost:8080/"
        },
        "id": "rVv8UPmC1hpM",
        "outputId": "eed2f1f9-dfa3-4c55-8f34-466e25d55c8e"
      },
      "execution_count": null,
      "outputs": [
        {
          "output_type": "execute_result",
          "data": {
            "text/plain": [
              "Driver_ID\n",
              "1      2019-03-11\n",
              "2             NaT\n",
              "4      2020-04-27\n",
              "5      2019-03-07\n",
              "6             NaT\n",
              "          ...    \n",
              "2784          NaT\n",
              "2785   2020-10-28\n",
              "2786   2019-09-22\n",
              "2787   2019-06-20\n",
              "2788          NaT\n",
              "Name: LastWorkingDate, Length: 2381, dtype: datetime64[ns]"
            ]
          },
          "metadata": {},
          "execution_count": 21
        }
      ]
    },
    {
      "cell_type": "code",
      "source": [
        "lwr = (df_new.groupby('Driver_ID').agg({'LastWorkingDate':'last'})['LastWorkingDate'].isna()).reset_index()\n",
        "#The employee ids who do not have last working date\n",
        "empid = lwr[lwr['LastWorkingDate']==True]['Driver_ID']\n",
        "target = []\n",
        "for i in df1['Driver_ID']:\n",
        " if i in empid.values:\n",
        "  target.append(0)\n",
        " elif i not in empid.values:\n",
        "  target.append(1)\n",
        "\n",
        "df1['Target'] = target\n",
        "df1.head()"
      ],
      "metadata": {
        "id": "D8EUeS2VKt47"
      },
      "execution_count": null,
      "outputs": []
    },
    {
      "cell_type": "markdown",
      "source": [
        "Creating a column which tells if the monthly income has increased for that employee. For those whose monthly income has increased we assign the value 1."
      ],
      "metadata": {
        "id": "ZyXruxn5LaPZ"
      }
    },
    {
      "cell_type": "code",
      "source": [
        "sf = df_new.groupby('Driver_ID').agg({'Income':'first'})\n",
        "sl = df_new.groupby('Driver_ID').agg({'Income':'last'})\n",
        "s = (sl['Income']>sf['Income']).reset_index()\n",
        "#the employee ids whose monthly income has increased\n",
        "empid = s[s['Income']==True]['Driver_ID']\n",
        "si = []\n",
        "for i in df1['Driver_ID']:\n",
        " if i in empid.values:\n",
        "  si.append(1)\n",
        " else:\n",
        "  si.append(0)\n",
        "df1['Income_Increased'] = si\n",
        "df1.head()"
      ],
      "metadata": {
        "id": "eCoXo2U3LHVR"
      },
      "execution_count": null,
      "outputs": []
    },
    {
      "cell_type": "code",
      "source": [
        "df1['Income_Increased'].value_counts()"
      ],
      "metadata": {
        "colab": {
          "base_uri": "https://localhost:8080/"
        },
        "id": "QZdXKBVdP6xu",
        "outputId": "27371bd2-895a-46f9-ae47-bdb29824cf26"
      },
      "execution_count": null,
      "outputs": [
        {
          "output_type": "execute_result",
          "data": {
            "text/plain": [
              "Income_Increased\n",
              "0    2338\n",
              "1      43\n",
              "Name: count, dtype: int64"
            ]
          },
          "metadata": {},
          "execution_count": 24
        }
      ]
    },
    {
      "cell_type": "code",
      "source": [
        "df1.describe().T"
      ],
      "metadata": {
        "colab": {
          "base_uri": "https://localhost:8080/",
          "height": 426
        },
        "id": "5I0nh2hkQASU",
        "outputId": "ff47c9b5-3f92-40c2-983c-39e905c680cd"
      },
      "execution_count": null,
      "outputs": [
        {
          "output_type": "execute_result",
          "data": {
            "text/plain": [
              "                             count          mean           std        min  \\\n",
              "Driver_ID                   2381.0  1.397559e+03  8.061616e+02        1.0   \n",
              "Age                         2381.0  3.377018e+01  5.933265e+00       21.0   \n",
              "Gender                      2381.0  4.105838e-01  4.914963e-01        0.0   \n",
              "Education                   2381.0  1.007560e+00  8.162900e-01        0.0   \n",
              "Income                      2381.0  5.933416e+04  2.838367e+04    10747.0   \n",
              "Joining_Designation         2381.0  1.820244e+00  8.414334e-01        1.0   \n",
              "Grade                       2381.0  2.096598e+00  9.415218e-01        1.0   \n",
              "Total_Business_Value        2381.0  4.586742e+06  9.127115e+06 -1385530.0   \n",
              "Last_Quarterly_Rating       2381.0  1.427971e+00  8.098389e-01        1.0   \n",
              "Quarterly_Rating_Increased  2381.0  1.503570e-01  3.574961e-01        0.0   \n",
              "Target                      2381.0  6.787064e-01  4.670713e-01        0.0   \n",
              "Income_Increased            2381.0  1.805964e-02  1.331951e-01        0.0   \n",
              "\n",
              "                                25%       50%        75%         max  \n",
              "Driver_ID                     695.0    1400.0     2100.0      2788.0  \n",
              "Age                            30.0      33.0       37.0        58.0  \n",
              "Gender                          0.0       0.0        1.0         1.0  \n",
              "Education                       0.0       1.0        2.0         2.0  \n",
              "Income                      39104.0   55315.0    75986.0    188418.0  \n",
              "Joining_Designation             1.0       2.0        2.0         5.0  \n",
              "Grade                           1.0       2.0        3.0         5.0  \n",
              "Total_Business_Value            0.0  817680.0  4173650.0  95331060.0  \n",
              "Last_Quarterly_Rating           1.0       1.0        2.0         4.0  \n",
              "Quarterly_Rating_Increased      0.0       0.0        0.0         1.0  \n",
              "Target                          0.0       1.0        1.0         1.0  \n",
              "Income_Increased                0.0       0.0        0.0         1.0  "
            ],
            "text/html": [
              "\n",
              "  <div id=\"df-04645cfe-1287-4cdb-9ab4-7c61716bac19\" class=\"colab-df-container\">\n",
              "    <div>\n",
              "<style scoped>\n",
              "    .dataframe tbody tr th:only-of-type {\n",
              "        vertical-align: middle;\n",
              "    }\n",
              "\n",
              "    .dataframe tbody tr th {\n",
              "        vertical-align: top;\n",
              "    }\n",
              "\n",
              "    .dataframe thead th {\n",
              "        text-align: right;\n",
              "    }\n",
              "</style>\n",
              "<table border=\"1\" class=\"dataframe\">\n",
              "  <thead>\n",
              "    <tr style=\"text-align: right;\">\n",
              "      <th></th>\n",
              "      <th>count</th>\n",
              "      <th>mean</th>\n",
              "      <th>std</th>\n",
              "      <th>min</th>\n",
              "      <th>25%</th>\n",
              "      <th>50%</th>\n",
              "      <th>75%</th>\n",
              "      <th>max</th>\n",
              "    </tr>\n",
              "  </thead>\n",
              "  <tbody>\n",
              "    <tr>\n",
              "      <th>Driver_ID</th>\n",
              "      <td>2381.0</td>\n",
              "      <td>1.397559e+03</td>\n",
              "      <td>8.061616e+02</td>\n",
              "      <td>1.0</td>\n",
              "      <td>695.0</td>\n",
              "      <td>1400.0</td>\n",
              "      <td>2100.0</td>\n",
              "      <td>2788.0</td>\n",
              "    </tr>\n",
              "    <tr>\n",
              "      <th>Age</th>\n",
              "      <td>2381.0</td>\n",
              "      <td>3.377018e+01</td>\n",
              "      <td>5.933265e+00</td>\n",
              "      <td>21.0</td>\n",
              "      <td>30.0</td>\n",
              "      <td>33.0</td>\n",
              "      <td>37.0</td>\n",
              "      <td>58.0</td>\n",
              "    </tr>\n",
              "    <tr>\n",
              "      <th>Gender</th>\n",
              "      <td>2381.0</td>\n",
              "      <td>4.105838e-01</td>\n",
              "      <td>4.914963e-01</td>\n",
              "      <td>0.0</td>\n",
              "      <td>0.0</td>\n",
              "      <td>0.0</td>\n",
              "      <td>1.0</td>\n",
              "      <td>1.0</td>\n",
              "    </tr>\n",
              "    <tr>\n",
              "      <th>Education</th>\n",
              "      <td>2381.0</td>\n",
              "      <td>1.007560e+00</td>\n",
              "      <td>8.162900e-01</td>\n",
              "      <td>0.0</td>\n",
              "      <td>0.0</td>\n",
              "      <td>1.0</td>\n",
              "      <td>2.0</td>\n",
              "      <td>2.0</td>\n",
              "    </tr>\n",
              "    <tr>\n",
              "      <th>Income</th>\n",
              "      <td>2381.0</td>\n",
              "      <td>5.933416e+04</td>\n",
              "      <td>2.838367e+04</td>\n",
              "      <td>10747.0</td>\n",
              "      <td>39104.0</td>\n",
              "      <td>55315.0</td>\n",
              "      <td>75986.0</td>\n",
              "      <td>188418.0</td>\n",
              "    </tr>\n",
              "    <tr>\n",
              "      <th>Joining_Designation</th>\n",
              "      <td>2381.0</td>\n",
              "      <td>1.820244e+00</td>\n",
              "      <td>8.414334e-01</td>\n",
              "      <td>1.0</td>\n",
              "      <td>1.0</td>\n",
              "      <td>2.0</td>\n",
              "      <td>2.0</td>\n",
              "      <td>5.0</td>\n",
              "    </tr>\n",
              "    <tr>\n",
              "      <th>Grade</th>\n",
              "      <td>2381.0</td>\n",
              "      <td>2.096598e+00</td>\n",
              "      <td>9.415218e-01</td>\n",
              "      <td>1.0</td>\n",
              "      <td>1.0</td>\n",
              "      <td>2.0</td>\n",
              "      <td>3.0</td>\n",
              "      <td>5.0</td>\n",
              "    </tr>\n",
              "    <tr>\n",
              "      <th>Total_Business_Value</th>\n",
              "      <td>2381.0</td>\n",
              "      <td>4.586742e+06</td>\n",
              "      <td>9.127115e+06</td>\n",
              "      <td>-1385530.0</td>\n",
              "      <td>0.0</td>\n",
              "      <td>817680.0</td>\n",
              "      <td>4173650.0</td>\n",
              "      <td>95331060.0</td>\n",
              "    </tr>\n",
              "    <tr>\n",
              "      <th>Last_Quarterly_Rating</th>\n",
              "      <td>2381.0</td>\n",
              "      <td>1.427971e+00</td>\n",
              "      <td>8.098389e-01</td>\n",
              "      <td>1.0</td>\n",
              "      <td>1.0</td>\n",
              "      <td>1.0</td>\n",
              "      <td>2.0</td>\n",
              "      <td>4.0</td>\n",
              "    </tr>\n",
              "    <tr>\n",
              "      <th>Quarterly_Rating_Increased</th>\n",
              "      <td>2381.0</td>\n",
              "      <td>1.503570e-01</td>\n",
              "      <td>3.574961e-01</td>\n",
              "      <td>0.0</td>\n",
              "      <td>0.0</td>\n",
              "      <td>0.0</td>\n",
              "      <td>0.0</td>\n",
              "      <td>1.0</td>\n",
              "    </tr>\n",
              "    <tr>\n",
              "      <th>Target</th>\n",
              "      <td>2381.0</td>\n",
              "      <td>6.787064e-01</td>\n",
              "      <td>4.670713e-01</td>\n",
              "      <td>0.0</td>\n",
              "      <td>0.0</td>\n",
              "      <td>1.0</td>\n",
              "      <td>1.0</td>\n",
              "      <td>1.0</td>\n",
              "    </tr>\n",
              "    <tr>\n",
              "      <th>Income_Increased</th>\n",
              "      <td>2381.0</td>\n",
              "      <td>1.805964e-02</td>\n",
              "      <td>1.331951e-01</td>\n",
              "      <td>0.0</td>\n",
              "      <td>0.0</td>\n",
              "      <td>0.0</td>\n",
              "      <td>0.0</td>\n",
              "      <td>1.0</td>\n",
              "    </tr>\n",
              "  </tbody>\n",
              "</table>\n",
              "</div>\n",
              "    <div class=\"colab-df-buttons\">\n",
              "\n",
              "  <div class=\"colab-df-container\">\n",
              "    <button class=\"colab-df-convert\" onclick=\"convertToInteractive('df-04645cfe-1287-4cdb-9ab4-7c61716bac19')\"\n",
              "            title=\"Convert this dataframe to an interactive table.\"\n",
              "            style=\"display:none;\">\n",
              "\n",
              "  <svg xmlns=\"http://www.w3.org/2000/svg\" height=\"24px\" viewBox=\"0 -960 960 960\">\n",
              "    <path d=\"M120-120v-720h720v720H120Zm60-500h600v-160H180v160Zm220 220h160v-160H400v160Zm0 220h160v-160H400v160ZM180-400h160v-160H180v160Zm440 0h160v-160H620v160ZM180-180h160v-160H180v160Zm440 0h160v-160H620v160Z\"/>\n",
              "  </svg>\n",
              "    </button>\n",
              "\n",
              "  <style>\n",
              "    .colab-df-container {\n",
              "      display:flex;\n",
              "      gap: 12px;\n",
              "    }\n",
              "\n",
              "    .colab-df-convert {\n",
              "      background-color: #E8F0FE;\n",
              "      border: none;\n",
              "      border-radius: 50%;\n",
              "      cursor: pointer;\n",
              "      display: none;\n",
              "      fill: #1967D2;\n",
              "      height: 32px;\n",
              "      padding: 0 0 0 0;\n",
              "      width: 32px;\n",
              "    }\n",
              "\n",
              "    .colab-df-convert:hover {\n",
              "      background-color: #E2EBFA;\n",
              "      box-shadow: 0px 1px 2px rgba(60, 64, 67, 0.3), 0px 1px 3px 1px rgba(60, 64, 67, 0.15);\n",
              "      fill: #174EA6;\n",
              "    }\n",
              "\n",
              "    .colab-df-buttons div {\n",
              "      margin-bottom: 4px;\n",
              "    }\n",
              "\n",
              "    [theme=dark] .colab-df-convert {\n",
              "      background-color: #3B4455;\n",
              "      fill: #D2E3FC;\n",
              "    }\n",
              "\n",
              "    [theme=dark] .colab-df-convert:hover {\n",
              "      background-color: #434B5C;\n",
              "      box-shadow: 0px 1px 3px 1px rgba(0, 0, 0, 0.15);\n",
              "      filter: drop-shadow(0px 1px 2px rgba(0, 0, 0, 0.3));\n",
              "      fill: #FFFFFF;\n",
              "    }\n",
              "  </style>\n",
              "\n",
              "    <script>\n",
              "      const buttonEl =\n",
              "        document.querySelector('#df-04645cfe-1287-4cdb-9ab4-7c61716bac19 button.colab-df-convert');\n",
              "      buttonEl.style.display =\n",
              "        google.colab.kernel.accessAllowed ? 'block' : 'none';\n",
              "\n",
              "      async function convertToInteractive(key) {\n",
              "        const element = document.querySelector('#df-04645cfe-1287-4cdb-9ab4-7c61716bac19');\n",
              "        const dataTable =\n",
              "          await google.colab.kernel.invokeFunction('convertToInteractive',\n",
              "                                                    [key], {});\n",
              "        if (!dataTable) return;\n",
              "\n",
              "        const docLinkHtml = 'Like what you see? Visit the ' +\n",
              "          '<a target=\"_blank\" href=https://colab.research.google.com/notebooks/data_table.ipynb>data table notebook</a>'\n",
              "          + ' to learn more about interactive tables.';\n",
              "        element.innerHTML = '';\n",
              "        dataTable['output_type'] = 'display_data';\n",
              "        await google.colab.output.renderOutput(dataTable, element);\n",
              "        const docLink = document.createElement('div');\n",
              "        docLink.innerHTML = docLinkHtml;\n",
              "        element.appendChild(docLink);\n",
              "      }\n",
              "    </script>\n",
              "  </div>\n",
              "\n",
              "\n",
              "<div id=\"df-11a436d1-7428-4d79-bcf8-525571dba440\">\n",
              "  <button class=\"colab-df-quickchart\" onclick=\"quickchart('df-11a436d1-7428-4d79-bcf8-525571dba440')\"\n",
              "            title=\"Suggest charts\"\n",
              "            style=\"display:none;\">\n",
              "\n",
              "<svg xmlns=\"http://www.w3.org/2000/svg\" height=\"24px\"viewBox=\"0 0 24 24\"\n",
              "     width=\"24px\">\n",
              "    <g>\n",
              "        <path d=\"M19 3H5c-1.1 0-2 .9-2 2v14c0 1.1.9 2 2 2h14c1.1 0 2-.9 2-2V5c0-1.1-.9-2-2-2zM9 17H7v-7h2v7zm4 0h-2V7h2v10zm4 0h-2v-4h2v4z\"/>\n",
              "    </g>\n",
              "</svg>\n",
              "  </button>\n",
              "\n",
              "<style>\n",
              "  .colab-df-quickchart {\n",
              "      --bg-color: #E8F0FE;\n",
              "      --fill-color: #1967D2;\n",
              "      --hover-bg-color: #E2EBFA;\n",
              "      --hover-fill-color: #174EA6;\n",
              "      --disabled-fill-color: #AAA;\n",
              "      --disabled-bg-color: #DDD;\n",
              "  }\n",
              "\n",
              "  [theme=dark] .colab-df-quickchart {\n",
              "      --bg-color: #3B4455;\n",
              "      --fill-color: #D2E3FC;\n",
              "      --hover-bg-color: #434B5C;\n",
              "      --hover-fill-color: #FFFFFF;\n",
              "      --disabled-bg-color: #3B4455;\n",
              "      --disabled-fill-color: #666;\n",
              "  }\n",
              "\n",
              "  .colab-df-quickchart {\n",
              "    background-color: var(--bg-color);\n",
              "    border: none;\n",
              "    border-radius: 50%;\n",
              "    cursor: pointer;\n",
              "    display: none;\n",
              "    fill: var(--fill-color);\n",
              "    height: 32px;\n",
              "    padding: 0;\n",
              "    width: 32px;\n",
              "  }\n",
              "\n",
              "  .colab-df-quickchart:hover {\n",
              "    background-color: var(--hover-bg-color);\n",
              "    box-shadow: 0 1px 2px rgba(60, 64, 67, 0.3), 0 1px 3px 1px rgba(60, 64, 67, 0.15);\n",
              "    fill: var(--button-hover-fill-color);\n",
              "  }\n",
              "\n",
              "  .colab-df-quickchart-complete:disabled,\n",
              "  .colab-df-quickchart-complete:disabled:hover {\n",
              "    background-color: var(--disabled-bg-color);\n",
              "    fill: var(--disabled-fill-color);\n",
              "    box-shadow: none;\n",
              "  }\n",
              "\n",
              "  .colab-df-spinner {\n",
              "    border: 2px solid var(--fill-color);\n",
              "    border-color: transparent;\n",
              "    border-bottom-color: var(--fill-color);\n",
              "    animation:\n",
              "      spin 1s steps(1) infinite;\n",
              "  }\n",
              "\n",
              "  @keyframes spin {\n",
              "    0% {\n",
              "      border-color: transparent;\n",
              "      border-bottom-color: var(--fill-color);\n",
              "      border-left-color: var(--fill-color);\n",
              "    }\n",
              "    20% {\n",
              "      border-color: transparent;\n",
              "      border-left-color: var(--fill-color);\n",
              "      border-top-color: var(--fill-color);\n",
              "    }\n",
              "    30% {\n",
              "      border-color: transparent;\n",
              "      border-left-color: var(--fill-color);\n",
              "      border-top-color: var(--fill-color);\n",
              "      border-right-color: var(--fill-color);\n",
              "    }\n",
              "    40% {\n",
              "      border-color: transparent;\n",
              "      border-right-color: var(--fill-color);\n",
              "      border-top-color: var(--fill-color);\n",
              "    }\n",
              "    60% {\n",
              "      border-color: transparent;\n",
              "      border-right-color: var(--fill-color);\n",
              "    }\n",
              "    80% {\n",
              "      border-color: transparent;\n",
              "      border-right-color: var(--fill-color);\n",
              "      border-bottom-color: var(--fill-color);\n",
              "    }\n",
              "    90% {\n",
              "      border-color: transparent;\n",
              "      border-bottom-color: var(--fill-color);\n",
              "    }\n",
              "  }\n",
              "</style>\n",
              "\n",
              "  <script>\n",
              "    async function quickchart(key) {\n",
              "      const quickchartButtonEl =\n",
              "        document.querySelector('#' + key + ' button');\n",
              "      quickchartButtonEl.disabled = true;  // To prevent multiple clicks.\n",
              "      quickchartButtonEl.classList.add('colab-df-spinner');\n",
              "      try {\n",
              "        const charts = await google.colab.kernel.invokeFunction(\n",
              "            'suggestCharts', [key], {});\n",
              "      } catch (error) {\n",
              "        console.error('Error during call to suggestCharts:', error);\n",
              "      }\n",
              "      quickchartButtonEl.classList.remove('colab-df-spinner');\n",
              "      quickchartButtonEl.classList.add('colab-df-quickchart-complete');\n",
              "    }\n",
              "    (() => {\n",
              "      let quickchartButtonEl =\n",
              "        document.querySelector('#df-11a436d1-7428-4d79-bcf8-525571dba440 button');\n",
              "      quickchartButtonEl.style.display =\n",
              "        google.colab.kernel.accessAllowed ? 'block' : 'none';\n",
              "    })();\n",
              "  </script>\n",
              "</div>\n",
              "\n",
              "    </div>\n",
              "  </div>\n"
            ],
            "application/vnd.google.colaboratory.intrinsic+json": {
              "type": "dataframe",
              "summary": "{\n  \"name\": \"df1\",\n  \"rows\": 12,\n  \"fields\": [\n    {\n      \"column\": \"count\",\n      \"properties\": {\n        \"dtype\": \"number\",\n        \"std\": 0.0,\n        \"min\": 2381.0,\n        \"max\": 2381.0,\n        \"num_unique_values\": 1,\n        \"samples\": [\n          2381.0\n        ],\n        \"semantic_type\": \"\",\n        \"description\": \"\"\n      }\n    },\n    {\n      \"column\": \"mean\",\n      \"properties\": {\n        \"dtype\": \"number\",\n        \"std\": 1322592.958350505,\n        \"min\": 0.018059638807223857,\n        \"max\": 4586741.8227635445,\n        \"num_unique_values\": 12,\n        \"samples\": [\n          0.6787064258714826\n        ],\n        \"semantic_type\": \"\",\n        \"description\": \"\"\n      }\n    },\n    {\n      \"column\": \"std\",\n      \"properties\": {\n        \"dtype\": \"number\",\n        \"std\": 2634017.5002043503,\n        \"min\": 0.13319511739872858,\n        \"max\": 9127115.313445644,\n        \"num_unique_values\": 12,\n        \"samples\": [\n          0.46707134025463637\n        ],\n        \"semantic_type\": \"\",\n        \"description\": \"\"\n      }\n    },\n    {\n      \"column\": \"min\",\n      \"properties\": {\n        \"dtype\": \"number\",\n        \"std\": 400262.66937800485,\n        \"min\": -1385530.0,\n        \"max\": 10747.0,\n        \"num_unique_values\": 5,\n        \"samples\": [\n          21.0\n        ],\n        \"semantic_type\": \"\",\n        \"description\": \"\"\n      }\n    },\n    {\n      \"column\": \"25%\",\n      \"properties\": {\n        \"dtype\": \"number\",\n        \"std\": 11271.004870368868,\n        \"min\": 0.0,\n        \"max\": 39104.0,\n        \"num_unique_values\": 5,\n        \"samples\": [\n          30.0\n        ],\n        \"semantic_type\": \"\",\n        \"description\": \"\"\n      }\n    },\n    {\n      \"column\": \"50%\",\n      \"properties\": {\n        \"dtype\": \"number\",\n        \"std\": 235090.42334288708,\n        \"min\": 0.0,\n        \"max\": 817680.0,\n        \"num_unique_values\": 7,\n        \"samples\": [\n          1400.0\n        ],\n        \"semantic_type\": \"\",\n        \"description\": \"\"\n      }\n    },\n    {\n      \"column\": \"75%\",\n      \"properties\": {\n        \"dtype\": \"number\",\n        \"std\": 1202975.8684523925,\n        \"min\": 0.0,\n        \"max\": 4173650.0,\n        \"num_unique_values\": 8,\n        \"samples\": [\n          37.0\n        ],\n        \"semantic_type\": \"\",\n        \"description\": \"\"\n      }\n    },\n    {\n      \"column\": \"max\",\n      \"properties\": {\n        \"dtype\": \"number\",\n        \"std\": 27514739.83969129,\n        \"min\": 1.0,\n        \"max\": 95331060.0,\n        \"num_unique_values\": 8,\n        \"samples\": [\n          58.0\n        ],\n        \"semantic_type\": \"\",\n        \"description\": \"\"\n      }\n    }\n  ]\n}"
            }
          },
          "metadata": {},
          "execution_count": 25
        }
      ]
    },
    {
      "cell_type": "code",
      "source": [
        "df1.describe(include=['O'])"
      ],
      "metadata": {
        "colab": {
          "base_uri": "https://localhost:8080/",
          "height": 175
        },
        "id": "x4qPKV4_QEPa",
        "outputId": "99d9c4d6-cf3e-4e5e-fab0-401693c939bf"
      },
      "execution_count": null,
      "outputs": [
        {
          "output_type": "execute_result",
          "data": {
            "text/plain": [
              "        City\n",
              "count   2381\n",
              "unique    29\n",
              "top      C20\n",
              "freq     152"
            ],
            "text/html": [
              "\n",
              "  <div id=\"df-8ec8a7ae-39f4-4c51-a1a0-e8f0d38df3eb\" class=\"colab-df-container\">\n",
              "    <div>\n",
              "<style scoped>\n",
              "    .dataframe tbody tr th:only-of-type {\n",
              "        vertical-align: middle;\n",
              "    }\n",
              "\n",
              "    .dataframe tbody tr th {\n",
              "        vertical-align: top;\n",
              "    }\n",
              "\n",
              "    .dataframe thead th {\n",
              "        text-align: right;\n",
              "    }\n",
              "</style>\n",
              "<table border=\"1\" class=\"dataframe\">\n",
              "  <thead>\n",
              "    <tr style=\"text-align: right;\">\n",
              "      <th></th>\n",
              "      <th>City</th>\n",
              "    </tr>\n",
              "  </thead>\n",
              "  <tbody>\n",
              "    <tr>\n",
              "      <th>count</th>\n",
              "      <td>2381</td>\n",
              "    </tr>\n",
              "    <tr>\n",
              "      <th>unique</th>\n",
              "      <td>29</td>\n",
              "    </tr>\n",
              "    <tr>\n",
              "      <th>top</th>\n",
              "      <td>C20</td>\n",
              "    </tr>\n",
              "    <tr>\n",
              "      <th>freq</th>\n",
              "      <td>152</td>\n",
              "    </tr>\n",
              "  </tbody>\n",
              "</table>\n",
              "</div>\n",
              "    <div class=\"colab-df-buttons\">\n",
              "\n",
              "  <div class=\"colab-df-container\">\n",
              "    <button class=\"colab-df-convert\" onclick=\"convertToInteractive('df-8ec8a7ae-39f4-4c51-a1a0-e8f0d38df3eb')\"\n",
              "            title=\"Convert this dataframe to an interactive table.\"\n",
              "            style=\"display:none;\">\n",
              "\n",
              "  <svg xmlns=\"http://www.w3.org/2000/svg\" height=\"24px\" viewBox=\"0 -960 960 960\">\n",
              "    <path d=\"M120-120v-720h720v720H120Zm60-500h600v-160H180v160Zm220 220h160v-160H400v160Zm0 220h160v-160H400v160ZM180-400h160v-160H180v160Zm440 0h160v-160H620v160ZM180-180h160v-160H180v160Zm440 0h160v-160H620v160Z\"/>\n",
              "  </svg>\n",
              "    </button>\n",
              "\n",
              "  <style>\n",
              "    .colab-df-container {\n",
              "      display:flex;\n",
              "      gap: 12px;\n",
              "    }\n",
              "\n",
              "    .colab-df-convert {\n",
              "      background-color: #E8F0FE;\n",
              "      border: none;\n",
              "      border-radius: 50%;\n",
              "      cursor: pointer;\n",
              "      display: none;\n",
              "      fill: #1967D2;\n",
              "      height: 32px;\n",
              "      padding: 0 0 0 0;\n",
              "      width: 32px;\n",
              "    }\n",
              "\n",
              "    .colab-df-convert:hover {\n",
              "      background-color: #E2EBFA;\n",
              "      box-shadow: 0px 1px 2px rgba(60, 64, 67, 0.3), 0px 1px 3px 1px rgba(60, 64, 67, 0.15);\n",
              "      fill: #174EA6;\n",
              "    }\n",
              "\n",
              "    .colab-df-buttons div {\n",
              "      margin-bottom: 4px;\n",
              "    }\n",
              "\n",
              "    [theme=dark] .colab-df-convert {\n",
              "      background-color: #3B4455;\n",
              "      fill: #D2E3FC;\n",
              "    }\n",
              "\n",
              "    [theme=dark] .colab-df-convert:hover {\n",
              "      background-color: #434B5C;\n",
              "      box-shadow: 0px 1px 3px 1px rgba(0, 0, 0, 0.15);\n",
              "      filter: drop-shadow(0px 1px 2px rgba(0, 0, 0, 0.3));\n",
              "      fill: #FFFFFF;\n",
              "    }\n",
              "  </style>\n",
              "\n",
              "    <script>\n",
              "      const buttonEl =\n",
              "        document.querySelector('#df-8ec8a7ae-39f4-4c51-a1a0-e8f0d38df3eb button.colab-df-convert');\n",
              "      buttonEl.style.display =\n",
              "        google.colab.kernel.accessAllowed ? 'block' : 'none';\n",
              "\n",
              "      async function convertToInteractive(key) {\n",
              "        const element = document.querySelector('#df-8ec8a7ae-39f4-4c51-a1a0-e8f0d38df3eb');\n",
              "        const dataTable =\n",
              "          await google.colab.kernel.invokeFunction('convertToInteractive',\n",
              "                                                    [key], {});\n",
              "        if (!dataTable) return;\n",
              "\n",
              "        const docLinkHtml = 'Like what you see? Visit the ' +\n",
              "          '<a target=\"_blank\" href=https://colab.research.google.com/notebooks/data_table.ipynb>data table notebook</a>'\n",
              "          + ' to learn more about interactive tables.';\n",
              "        element.innerHTML = '';\n",
              "        dataTable['output_type'] = 'display_data';\n",
              "        await google.colab.output.renderOutput(dataTable, element);\n",
              "        const docLink = document.createElement('div');\n",
              "        docLink.innerHTML = docLinkHtml;\n",
              "        element.appendChild(docLink);\n",
              "      }\n",
              "    </script>\n",
              "  </div>\n",
              "\n",
              "\n",
              "<div id=\"df-2d8ca2f4-b4ac-4edc-83c6-1b22bf4da595\">\n",
              "  <button class=\"colab-df-quickchart\" onclick=\"quickchart('df-2d8ca2f4-b4ac-4edc-83c6-1b22bf4da595')\"\n",
              "            title=\"Suggest charts\"\n",
              "            style=\"display:none;\">\n",
              "\n",
              "<svg xmlns=\"http://www.w3.org/2000/svg\" height=\"24px\"viewBox=\"0 0 24 24\"\n",
              "     width=\"24px\">\n",
              "    <g>\n",
              "        <path d=\"M19 3H5c-1.1 0-2 .9-2 2v14c0 1.1.9 2 2 2h14c1.1 0 2-.9 2-2V5c0-1.1-.9-2-2-2zM9 17H7v-7h2v7zm4 0h-2V7h2v10zm4 0h-2v-4h2v4z\"/>\n",
              "    </g>\n",
              "</svg>\n",
              "  </button>\n",
              "\n",
              "<style>\n",
              "  .colab-df-quickchart {\n",
              "      --bg-color: #E8F0FE;\n",
              "      --fill-color: #1967D2;\n",
              "      --hover-bg-color: #E2EBFA;\n",
              "      --hover-fill-color: #174EA6;\n",
              "      --disabled-fill-color: #AAA;\n",
              "      --disabled-bg-color: #DDD;\n",
              "  }\n",
              "\n",
              "  [theme=dark] .colab-df-quickchart {\n",
              "      --bg-color: #3B4455;\n",
              "      --fill-color: #D2E3FC;\n",
              "      --hover-bg-color: #434B5C;\n",
              "      --hover-fill-color: #FFFFFF;\n",
              "      --disabled-bg-color: #3B4455;\n",
              "      --disabled-fill-color: #666;\n",
              "  }\n",
              "\n",
              "  .colab-df-quickchart {\n",
              "    background-color: var(--bg-color);\n",
              "    border: none;\n",
              "    border-radius: 50%;\n",
              "    cursor: pointer;\n",
              "    display: none;\n",
              "    fill: var(--fill-color);\n",
              "    height: 32px;\n",
              "    padding: 0;\n",
              "    width: 32px;\n",
              "  }\n",
              "\n",
              "  .colab-df-quickchart:hover {\n",
              "    background-color: var(--hover-bg-color);\n",
              "    box-shadow: 0 1px 2px rgba(60, 64, 67, 0.3), 0 1px 3px 1px rgba(60, 64, 67, 0.15);\n",
              "    fill: var(--button-hover-fill-color);\n",
              "  }\n",
              "\n",
              "  .colab-df-quickchart-complete:disabled,\n",
              "  .colab-df-quickchart-complete:disabled:hover {\n",
              "    background-color: var(--disabled-bg-color);\n",
              "    fill: var(--disabled-fill-color);\n",
              "    box-shadow: none;\n",
              "  }\n",
              "\n",
              "  .colab-df-spinner {\n",
              "    border: 2px solid var(--fill-color);\n",
              "    border-color: transparent;\n",
              "    border-bottom-color: var(--fill-color);\n",
              "    animation:\n",
              "      spin 1s steps(1) infinite;\n",
              "  }\n",
              "\n",
              "  @keyframes spin {\n",
              "    0% {\n",
              "      border-color: transparent;\n",
              "      border-bottom-color: var(--fill-color);\n",
              "      border-left-color: var(--fill-color);\n",
              "    }\n",
              "    20% {\n",
              "      border-color: transparent;\n",
              "      border-left-color: var(--fill-color);\n",
              "      border-top-color: var(--fill-color);\n",
              "    }\n",
              "    30% {\n",
              "      border-color: transparent;\n",
              "      border-left-color: var(--fill-color);\n",
              "      border-top-color: var(--fill-color);\n",
              "      border-right-color: var(--fill-color);\n",
              "    }\n",
              "    40% {\n",
              "      border-color: transparent;\n",
              "      border-right-color: var(--fill-color);\n",
              "      border-top-color: var(--fill-color);\n",
              "    }\n",
              "    60% {\n",
              "      border-color: transparent;\n",
              "      border-right-color: var(--fill-color);\n",
              "    }\n",
              "    80% {\n",
              "      border-color: transparent;\n",
              "      border-right-color: var(--fill-color);\n",
              "      border-bottom-color: var(--fill-color);\n",
              "    }\n",
              "    90% {\n",
              "      border-color: transparent;\n",
              "      border-bottom-color: var(--fill-color);\n",
              "    }\n",
              "  }\n",
              "</style>\n",
              "\n",
              "  <script>\n",
              "    async function quickchart(key) {\n",
              "      const quickchartButtonEl =\n",
              "        document.querySelector('#' + key + ' button');\n",
              "      quickchartButtonEl.disabled = true;  // To prevent multiple clicks.\n",
              "      quickchartButtonEl.classList.add('colab-df-spinner');\n",
              "      try {\n",
              "        const charts = await google.colab.kernel.invokeFunction(\n",
              "            'suggestCharts', [key], {});\n",
              "      } catch (error) {\n",
              "        console.error('Error during call to suggestCharts:', error);\n",
              "      }\n",
              "      quickchartButtonEl.classList.remove('colab-df-spinner');\n",
              "      quickchartButtonEl.classList.add('colab-df-quickchart-complete');\n",
              "    }\n",
              "    (() => {\n",
              "      let quickchartButtonEl =\n",
              "        document.querySelector('#df-2d8ca2f4-b4ac-4edc-83c6-1b22bf4da595 button');\n",
              "      quickchartButtonEl.style.display =\n",
              "        google.colab.kernel.accessAllowed ? 'block' : 'none';\n",
              "    })();\n",
              "  </script>\n",
              "</div>\n",
              "\n",
              "    </div>\n",
              "  </div>\n"
            ],
            "application/vnd.google.colaboratory.intrinsic+json": {
              "type": "dataframe",
              "summary": "{\n  \"name\": \"df1\",\n  \"rows\": 4,\n  \"fields\": [\n    {\n      \"column\": \"City\",\n      \"properties\": {\n        \"dtype\": \"string\",\n        \"num_unique_values\": 4,\n        \"samples\": [\n          29,\n          \"152\",\n          \"2381\"\n        ],\n        \"semantic_type\": \"\",\n        \"description\": \"\"\n      }\n    }\n  ]\n}"
            }
          },
          "metadata": {},
          "execution_count": 26
        }
      ]
    },
    {
      "cell_type": "code",
      "source": [
        "df1['Target'].value_counts()"
      ],
      "metadata": {
        "colab": {
          "base_uri": "https://localhost:8080/"
        },
        "id": "8hIYirsXQnxM",
        "outputId": "c6183dc8-cc5d-48fd-a06a-ff323a77a6d3"
      },
      "execution_count": null,
      "outputs": [
        {
          "output_type": "execute_result",
          "data": {
            "text/plain": [
              "Target\n",
              "1    1616\n",
              "0     765\n",
              "Name: count, dtype: int64"
            ]
          },
          "metadata": {},
          "execution_count": 27
        }
      ]
    },
    {
      "cell_type": "code",
      "source": [
        "df1['Target'].value_counts(normalize=True)*100"
      ],
      "metadata": {
        "colab": {
          "base_uri": "https://localhost:8080/"
        },
        "id": "sQbViJyfRKCI",
        "outputId": "fc0e39b7-a20d-4b0e-e17b-f989ae03e289"
      },
      "execution_count": null,
      "outputs": [
        {
          "output_type": "execute_result",
          "data": {
            "text/plain": [
              "Target\n",
              "1    67.870643\n",
              "0    32.129357\n",
              "Name: proportion, dtype: float64"
            ]
          },
          "metadata": {},
          "execution_count": 28
        }
      ]
    },
    {
      "cell_type": "code",
      "source": [
        "df1['Target'].value_counts(normalize=True).plot(kind='bar')"
      ],
      "metadata": {
        "colab": {
          "base_uri": "https://localhost:8080/",
          "height": 461
        },
        "id": "REeZluUTRQPq",
        "outputId": "4a08dd86-0f2f-4948-c485-a7758abb5bac"
      },
      "execution_count": null,
      "outputs": [
        {
          "output_type": "execute_result",
          "data": {
            "text/plain": [
              "<Axes: xlabel='Target'>"
            ]
          },
          "metadata": {},
          "execution_count": 29
        },
        {
          "output_type": "display_data",
          "data": {
            "text/plain": [
              "<Figure size 640x480 with 1 Axes>"
            ],
            "image/png": "[encoded data removed]"
          },
          "metadata": {}
        }
      ]
    },
    {
      "cell_type": "markdown",
      "source": [
        "There are 2381 employees in the dataset. The minimum age of the employee in the data is 21 years and the maximum age is 58 years. 75% of the employees have their monthly income less than or equal to 75,986 units. 50% of the mployees have acquired 8,17,680 as the their total business value. Most of the drivers in the dataset were male, lived in C20 city and have completed their graduation in education. Out of 2381 drivers, 1616 drivers have left the organization. Around 68% driver have left the organization.\n"
      ],
      "metadata": {
        "id": "-NuQgicVQx0S"
      }
    },
    {
      "cell_type": "markdown",
      "source": [
        "### Categorical features analysis"
      ],
      "metadata": {
        "id": "Rip0QmtyRaCe"
      }
    },
    {
      "cell_type": "code",
      "source": [
        "n = ['Gender','City','Education','Joining_Designation','Grade','Last_Quarterly_Rating','Quarterly_Rating_Increased']\n",
        "for i in n:\n",
        " print(df1[i].value_counts())\n",
        " print(\"------------------------------------------------------------\")"
      ],
      "metadata": {
        "colab": {
          "base_uri": "https://localhost:8080/"
        },
        "id": "BkVC5-JdRZXi",
        "outputId": "f6cc767c-552e-4459-ce45-578cd06f1104"
      },
      "execution_count": null,
      "outputs": [
        {
          "output_type": "stream",
          "name": "stdout",
          "text": [
            "Gender\n",
            "0.0    1400\n",
            "1.0     975\n",
            "0.6       3\n",
            "0.2       2\n",
            "0.4       1\n",
            "Name: count, dtype: int64\n",
            "------------------------------------------------------------\n",
            "City\n",
            "C20    152\n",
            "C15    101\n",
            "C29     96\n",
            "C26     93\n",
            "C8      89\n",
            "C27     89\n",
            "C10     86\n",
            "C16     84\n",
            "C22     82\n",
            "C3      82\n",
            "C28     82\n",
            "C12     81\n",
            "C5      80\n",
            "C1      80\n",
            "C21     79\n",
            "C14     79\n",
            "C6      78\n",
            "C4      77\n",
            "C7      76\n",
            "C9      75\n",
            "C25     74\n",
            "C23     74\n",
            "C24     73\n",
            "C19     72\n",
            "C2      72\n",
            "C17     71\n",
            "C13     71\n",
            "C18     69\n",
            "C11     64\n",
            "Name: count, dtype: int64\n",
            "------------------------------------------------------------\n",
            "Education\n",
            "2.0    802\n",
            "1.0    795\n",
            "0.0    784\n",
            "Name: count, dtype: int64\n",
            "------------------------------------------------------------\n",
            "Joining_Designation\n",
            "1.0    1026\n",
            "2.0     815\n",
            "3.0     493\n",
            "4.0      36\n",
            "5.0      11\n",
            "Name: count, dtype: int64\n",
            "------------------------------------------------------------\n",
            "Grade\n",
            "2.0    855\n",
            "1.0    741\n",
            "3.0    623\n",
            "4.0    138\n",
            "5.0     24\n",
            "Name: count, dtype: int64\n",
            "------------------------------------------------------------\n",
            "Last_Quarterly_Rating\n",
            "1.0    1744\n",
            "2.0     362\n",
            "3.0     168\n",
            "4.0     107\n",
            "Name: count, dtype: int64\n",
            "------------------------------------------------------------\n",
            "Quarterly_Rating_Increased\n",
            "0    2023\n",
            "1     358\n",
            "Name: count, dtype: int64\n",
            "------------------------------------------------------------\n"
          ]
        }
      ]
    },
    {
      "cell_type": "code",
      "source": [
        "n = ['Gender','City','Education','Joining_Designation','Grade','Last_Quarterly_Rating','Quarterly_Rating_Increased']\n",
        "for i in n:\n",
        " print(df1[i].value_counts(normalize=True))\n",
        " print(\"------------------------------------------------------------\")"
      ],
      "metadata": {
        "colab": {
          "base_uri": "https://localhost:8080/"
        },
        "id": "gQdLECayRpz6",
        "outputId": "fb4ea4de-48e1-4a58-e94b-69eeb7fdc188"
      },
      "execution_count": null,
      "outputs": [
        {
          "output_type": "stream",
          "name": "stdout",
          "text": [
            "Gender\n",
            "0.0    0.587988\n",
            "1.0    0.409492\n",
            "0.6    0.001260\n",
            "0.2    0.000840\n",
            "0.4    0.000420\n",
            "Name: proportion, dtype: float64\n",
            "------------------------------------------------------------\n",
            "City\n",
            "C20    0.063839\n",
            "C15    0.042419\n",
            "C29    0.040319\n",
            "C26    0.039059\n",
            "C8     0.037379\n",
            "C27    0.037379\n",
            "C10    0.036119\n",
            "C16    0.035279\n",
            "C22    0.034439\n",
            "C3     0.034439\n",
            "C28    0.034439\n",
            "C12    0.034019\n",
            "C5     0.033599\n",
            "C1     0.033599\n",
            "C21    0.033179\n",
            "C14    0.033179\n",
            "C6     0.032759\n",
            "C4     0.032339\n",
            "C7     0.031919\n",
            "C9     0.031499\n",
            "C25    0.031079\n",
            "C23    0.031079\n",
            "C24    0.030659\n",
            "C19    0.030239\n",
            "C2     0.030239\n",
            "C17    0.029819\n",
            "C13    0.029819\n",
            "C18    0.028979\n",
            "C11    0.026879\n",
            "Name: proportion, dtype: float64\n",
            "------------------------------------------------------------\n",
            "Education\n",
            "2.0    0.336833\n",
            "1.0    0.333893\n",
            "0.0    0.329273\n",
            "Name: proportion, dtype: float64\n",
            "------------------------------------------------------------\n",
            "Joining_Designation\n",
            "1.0    0.430911\n",
            "2.0    0.342293\n",
            "3.0    0.207056\n",
            "4.0    0.015120\n",
            "5.0    0.004620\n",
            "Name: proportion, dtype: float64\n",
            "------------------------------------------------------------\n",
            "Grade\n",
            "2.0    0.359093\n",
            "1.0    0.311214\n",
            "3.0    0.261655\n",
            "4.0    0.057959\n",
            "5.0    0.010080\n",
            "Name: proportion, dtype: float64\n",
            "------------------------------------------------------------\n",
            "Last_Quarterly_Rating\n",
            "1.0    0.732465\n",
            "2.0    0.152037\n",
            "3.0    0.070559\n",
            "4.0    0.044939\n",
            "Name: proportion, dtype: float64\n",
            "------------------------------------------------------------\n",
            "Quarterly_Rating_Increased\n",
            "0    0.849643\n",
            "1    0.150357\n",
            "Name: proportion, dtype: float64\n",
            "------------------------------------------------------------\n"
          ]
        }
      ]
    },
    {
      "cell_type": "markdown",
      "source": [
        "Around 59% employees are of the Male gender.\n",
        "\n",
        "Around 6.4% employees are from city C20 and 4.2% from city C15.\n",
        "\n",
        "The proportion of the employees who have completed their Graduation and 12th are approximately same.\n",
        "\n",
        "Around 43% of the employees joined with the grade 1.\n",
        "\n",
        "At the time of reporting, 34% of the employees had their grade as 2.\n",
        "\n",
        "Around 73% of the employees had their last quarterly rating as 1.\n",
        "\n",
        "The quarterly rating has not increased for around 87% employees.\n"
      ],
      "metadata": {
        "id": "pjipZRagR7KC"
      }
    },
    {
      "cell_type": "code",
      "source": [
        "plt.subplots(figsize=(10,7))\n",
        "plt.subplot(231)\n",
        "df1['Gender'].value_counts(normalize=True).plot.bar(title='Gender')\n",
        "\n",
        "plt.subplot(232)\n",
        "df1['Education'].value_counts(normalize=True).plot.bar(title='Education')\n",
        "\n",
        "plt.subplot(233)\n",
        "df1['Joining_Designation'].value_counts(normalize=True).plot.bar(title='Joining Designation')\n",
        "\n",
        "plt.subplot(234)\n",
        "df1['Grade'].value_counts(normalize=True).plot.bar(title='Grade')\n",
        "\n",
        "plt.subplot(235)\n",
        "df1['Last_Quarterly_Rating'].value_counts(normalize=True).plot.bar(title='Last Quarterly Rating')\n",
        "\n",
        "plt.subplot(236)\n",
        "df1['Quarterly_Rating_Increased'].value_counts(normalize=True).plot.bar(title='Quarterly Rating Increased')\n"
      ],
      "metadata": {
        "colab": {
          "base_uri": "https://localhost:8080/",
          "height": 721
        },
        "id": "aPe5zCoQR2rP",
        "outputId": "cfde0691-3870-4b9b-972a-f5dc76d8ea1e"
      },
      "execution_count": null,
      "outputs": [
        {
          "output_type": "stream",
          "name": "stderr",
          "text": [
            "<ipython-input-32-9d1ca0246ff8>:2: MatplotlibDeprecationWarning: Auto-removal of overlapping axes is deprecated since 3.6 and will be removed two minor releases later; explicitly call ax.remove() as needed.\n",
            "  plt.subplot(231)\n"
          ]
        },
        {
          "output_type": "execute_result",
          "data": {
            "text/plain": [
              "<Axes: title={'center': 'Quarterly Rating Increased'}, xlabel='Quarterly_Rating_Increased'>"
            ]
          },
          "metadata": {},
          "execution_count": 32
        },
        {
          "output_type": "display_data",
          "data": {
            "text/plain": [
              "<Figure size 1000x700 with 6 Axes>"
            ],
            "image/png": "[encoded data removed]"
          },
          "metadata": {}
        }
      ]
    },
    {
      "cell_type": "code",
      "source": [
        "df1['City'].value_counts(normalize=True).plot.bar(title='City')"
      ],
      "metadata": {
        "colab": {
          "base_uri": "https://localhost:8080/",
          "height": 502
        },
        "id": "do2Fo2xVTiNo",
        "outputId": "dc2916be-28f7-4550-bbe8-b3c4fcec4d45"
      },
      "execution_count": null,
      "outputs": [
        {
          "output_type": "execute_result",
          "data": {
            "text/plain": [
              "<Axes: title={'center': 'City'}, xlabel='City'>"
            ]
          },
          "metadata": {},
          "execution_count": 33
        },
        {
          "output_type": "display_data",
          "data": {
            "text/plain": [
              "<Figure size 640x480 with 1 Axes>"
            ],
            "image/png": "[encoded data removed]"
          },
          "metadata": {}
        }
      ]
    },
    {
      "cell_type": "code",
      "source": [
        "plt.subplots(figsize=(15,5))\n",
        "plt.subplot(121)\n",
        "sns.distplot(df1['Age'],color='black')\n",
        "plt.title(\"Age of employees\")\n",
        "plt.subplot(122)\n",
        "df1['Age'].plot.box(title='Boxplot of Age')\n",
        "plt.tight_layout(pad=3)"
      ],
      "metadata": {
        "colab": {
          "base_uri": "https://localhost:8080/",
          "height": 640
        },
        "id": "7AZ64NmwTqVX",
        "outputId": "eb8f2b53-1030-499d-9322-246ef321369b"
      },
      "execution_count": null,
      "outputs": [
        {
          "output_type": "stream",
          "name": "stderr",
          "text": [
            "<ipython-input-34-376f5b7e7f3b>:2: MatplotlibDeprecationWarning: Auto-removal of overlapping axes is deprecated since 3.6 and will be removed two minor releases later; explicitly call ax.remove() as needed.\n",
            "  plt.subplot(121)\n",
            "<ipython-input-34-376f5b7e7f3b>:3: UserWarning: \n",
            "\n",
            "`distplot` is a deprecated function and will be removed in seaborn v0.14.0.\n",
            "\n",
            "Please adapt your code to use either `displot` (a figure-level function with\n",
            "similar flexibility) or `histplot` (an axes-level function for histograms).\n",
            "\n",
            "For a guide to updating your code to use the new functions, please see\n",
            "https://gist.github.com/mwaskom/de44147ed2974457ad6372750bbe5751\n",
            "\n",
            "  sns.distplot(df1['Age'],color='black')\n"
          ]
        },
        {
          "output_type": "display_data",
          "data": {
            "text/plain": [
              "<Figure size 1500x500 with 2 Axes>"
            ],
            "image/png": "[encoded data removed]"
          },
          "metadata": {}
        }
      ]
    },
    {
      "cell_type": "markdown",
      "source": [
        "There are few outliers in the Age. The distribution is towards the right"
      ],
      "metadata": {
        "id": "9ZGPuYhAT6Hw"
      }
    },
    {
      "cell_type": "code",
      "source": [
        "plt.subplots(figsize=(15,5))\n",
        "plt.subplot(121)\n",
        "sns.distplot(df1['Income'],color='black')\n",
        "plt.title(\"Income\")\n",
        "plt.subplot(122)\n",
        "df1['Income'].plot.box(title='Boxplot of Income')\n",
        "plt.tight_layout(pad=3)"
      ],
      "metadata": {
        "colab": {
          "base_uri": "https://localhost:8080/",
          "height": 640
        },
        "id": "fcDSuvoFTwpL",
        "outputId": "cfbbef41-c81c-42b6-ac2d-46dfbbdc2236"
      },
      "execution_count": null,
      "outputs": [
        {
          "output_type": "stream",
          "name": "stderr",
          "text": [
            "<ipython-input-35-1a2f5bdc069d>:2: MatplotlibDeprecationWarning: Auto-removal of overlapping axes is deprecated since 3.6 and will be removed two minor releases later; explicitly call ax.remove() as needed.\n",
            "  plt.subplot(121)\n",
            "<ipython-input-35-1a2f5bdc069d>:3: UserWarning: \n",
            "\n",
            "`distplot` is a deprecated function and will be removed in seaborn v0.14.0.\n",
            "\n",
            "Please adapt your code to use either `displot` (a figure-level function with\n",
            "similar flexibility) or `histplot` (an axes-level function for histograms).\n",
            "\n",
            "For a guide to updating your code to use the new functions, please see\n",
            "https://gist.github.com/mwaskom/de44147ed2974457ad6372750bbe5751\n",
            "\n",
            "  sns.distplot(df1['Income'],color='black')\n"
          ]
        },
        {
          "output_type": "display_data",
          "data": {
            "text/plain": [
              "<Figure size 1500x500 with 2 Axes>"
            ],
            "image/png": "[encoded data removed]"
          },
          "metadata": {}
        }
      ]
    },
    {
      "cell_type": "markdown",
      "source": [
        "The distribution of Salary is towards the right and there are outliers for this feature as well"
      ],
      "metadata": {
        "id": "B_7x6k6EUJhG"
      }
    },
    {
      "cell_type": "code",
      "source": [
        "plt.subplots(figsize=(15,5))\n",
        "plt.subplot(121)\n",
        "sns.distplot(df1['Total_Business_Value'],color='black')\n",
        "plt.title(\"Total Business Value\")\n",
        "plt.subplot(122)\n",
        "df1['Total_Business_Value'].plot.box(title='Boxplot of Total Business Value')\n",
        "plt.tight_layout(pad=3)"
      ],
      "metadata": {
        "colab": {
          "base_uri": "https://localhost:8080/",
          "height": 640
        },
        "id": "7oPBGGGCUFjk",
        "outputId": "8e28f617-571d-47a2-a79a-f7497bbc03c1"
      },
      "execution_count": null,
      "outputs": [
        {
          "output_type": "stream",
          "name": "stderr",
          "text": [
            "<ipython-input-36-c36e90af5843>:2: MatplotlibDeprecationWarning: Auto-removal of overlapping axes is deprecated since 3.6 and will be removed two minor releases later; explicitly call ax.remove() as needed.\n",
            "  plt.subplot(121)\n",
            "<ipython-input-36-c36e90af5843>:3: UserWarning: \n",
            "\n",
            "`distplot` is a deprecated function and will be removed in seaborn v0.14.0.\n",
            "\n",
            "Please adapt your code to use either `displot` (a figure-level function with\n",
            "similar flexibility) or `histplot` (an axes-level function for histograms).\n",
            "\n",
            "For a guide to updating your code to use the new functions, please see\n",
            "https://gist.github.com/mwaskom/de44147ed2974457ad6372750bbe5751\n",
            "\n",
            "  sns.distplot(df1['Total_Business_Value'],color='black')\n"
          ]
        },
        {
          "output_type": "display_data",
          "data": {
            "text/plain": [
              "<Figure size 1500x500 with 2 Axes>"
            ],
            "image/png": "[encoded data removed]"
          },
          "metadata": {}
        }
      ]
    },
    {
      "cell_type": "markdown",
      "source": [
        "The distribution of total business value is towards the right. There are a lot of outliers for the feature\n",
        "Total Business Value"
      ],
      "metadata": {
        "id": "sHzoBbjXUQyi"
      }
    },
    {
      "cell_type": "code",
      "source": [
        "figure,axes=plt.subplots(2,3,figsize=(15,9))\n",
        "#Gender with Target\n",
        "gender = pd.crosstab(df1['Gender'],df1['Target'])\n",
        "gender.div(gender.sum(1).astype(float),axis=0).plot(kind='bar',stacked=False,ax=axes[0,0],title='Gender vs Target')\n",
        "\n",
        "# Education with Target\n",
        "education = pd.crosstab(df1['Education'],df1['Target'])\n",
        "education.div(education.sum(1).astype(float),axis=0).plot(kind='bar',stacked=True,ax=axes[0,1],title='Education vs Target')\n",
        "\n",
        "# Joining Designation with Target\n",
        "jde = pd.crosstab(df1['Joining_Designation'],df1['Target'])\n",
        "jde.div(jde.sum(1).astype(float),axis=0).plot(kind='bar',stacked=True,ax=axes[0,2],title='Joining_Designation vs Target')\n",
        "\n",
        "#Designation feature with Target\n",
        "desig = pd.crosstab(df1['Grade'],df1['Target'])\n",
        "desig.div(desig.sum(1).astype(float),axis=0).plot(kind='bar',stacked=True,ax=axes[1,0],title='Designation vs Target')\n",
        "\n",
        "#Last Quarterly Rating feature with Target\n",
        "lqrate = pd.crosstab(df1['Last_Quarterly_Rating'],df1['Target'])\n",
        "lqrate.div(lqrate.sum(1).astype(float),axis=0).plot(kind='bar',stacked=True,ax=axes[1,1],title='Last Quarterly Rating vs Target')\n",
        "\n",
        "#Quarterly Rating Increased feature with Target\n",
        "qratei = pd.crosstab(df1['Quarterly_Rating_Increased'],df1['Target'])\n",
        "qratei.div(qratei.sum(1).astype(float),axis=0).plot(kind='bar',stacked=False,ax=axes[1,2],title=\"Quarterly Rating Increased\")\n",
        "\n",
        "plt.tight_layout(pad=3)\n"
      ],
      "metadata": {
        "colab": {
          "base_uri": "https://localhost:8080/",
          "height": 740
        },
        "id": "z6dNRkoHUOF0",
        "outputId": "d448f9ef-c2e2-4a8c-90e7-7ece2d6f8ed5"
      },
      "execution_count": null,
      "outputs": [
        {
          "output_type": "display_data",
          "data": {
            "text/plain": [
              "<Figure size 1500x900 with 6 Axes>"
            ],
            "image/png": "[encoded data removed]"
          },
          "metadata": {}
        }
      ]
    },
    {
      "cell_type": "markdown",
      "source": [
        "The proportion of gender and education is more or less the same for both the employees who left the organization and those who did not leave. The employees who have their grade as 3 or 4 at the time of joining are less likely to leave the\n",
        "organization. The employees who have their last quarterly rating as 3 or 4 at the time of reporting are less likely to\n",
        "leave the organization. The employees whose quarterly rating has increased are less likely to leave the organization."
      ],
      "metadata": {
        "id": "8P6SlUyeA1VT"
      }
    },
    {
      "cell_type": "code",
      "source": [
        "#City feature with the target\n",
        "plt.figure(figsize=(30,7))\n",
        "city = pd.crosstab(df1['City'],df1['Target'])\n",
        "city.div(city.sum(1).astype(float),axis=0).plot(kind='bar',stacked=True,title=\"City Vs Target\")\n",
        "plt.tight_layout()"
      ],
      "metadata": {
        "colab": {
          "base_uri": "https://localhost:8080/",
          "height": 504
        },
        "id": "TbkbRliTAP9q",
        "outputId": "85ce2d09-142b-4c68-d238-6bfaaa369b9e"
      },
      "execution_count": null,
      "outputs": [
        {
          "output_type": "display_data",
          "data": {
            "text/plain": [
              "<Figure size 3000x700 with 0 Axes>"
            ]
          },
          "metadata": {}
        },
        {
          "output_type": "display_data",
          "data": {
            "text/plain": [
              "<Figure size 640x480 with 1 Axes>"
            ],
            "image/png": "[encoded data removed]"
          },
          "metadata": {}
        }
      ]
    },
    {
      "cell_type": "code",
      "source": [
        "#Binning the Age into categories\n",
        "df1['Age_Bin'] = pd.cut(df1['Age'],bins=[20,35,50,65])\n",
        "#Age feature with Target\n",
        "agebin = pd.crosstab(df1['Age_Bin'],df1['Target'])\n",
        "agebin.div(agebin.sum(1).astype(float),axis=0).plot(kind='bar',stacked=True,title=\"Age with Target\")"
      ],
      "metadata": {
        "colab": {
          "base_uri": "https://localhost:8080/",
          "height": 530
        },
        "id": "ELGZx67nBG09",
        "outputId": "aeb40d98-ee98-481c-8226-c558f9712b0d"
      },
      "execution_count": null,
      "outputs": [
        {
          "output_type": "execute_result",
          "data": {
            "text/plain": [
              "<Axes: title={'center': 'Age with Target'}, xlabel='Age_Bin'>"
            ]
          },
          "metadata": {},
          "execution_count": 41
        },
        {
          "output_type": "display_data",
          "data": {
            "text/plain": [
              "<Figure size 640x480 with 1 Axes>"
            ],
            "image/png": "[encoded data removed]"
          },
          "metadata": {}
        }
      ]
    },
    {
      "cell_type": "markdown",
      "source": [
        "The employees whose age is in the 20-35 or 50-65 groups are less likely to leave the organization."
      ],
      "metadata": {
        "id": "eZNzv6OyBVTt"
      }
    },
    {
      "cell_type": "code",
      "source": [
        "#Binning the Income into categories\n",
        "df1['Income_Bin'] = pd.cut(df1['Income'],bins=[10000, 40000, 70000, 100000, 130000, 160000, 190000])\n",
        "#Salary feature with Target\n",
        "salarybin = pd.crosstab(df1['Income_Bin'],df1['Target'])\n",
        "salarybin.div(salarybin.sum(1).astype(float),axis=0).plot(kind='bar',stacked=True,title=\"Income vs Target\")"
      ],
      "metadata": {
        "colab": {
          "base_uri": "https://localhost:8080/",
          "height": 600
        },
        "id": "kgnTZdaoBQeP",
        "outputId": "f8c293f1-b582-4619-9aff-6cee55d6ae3e"
      },
      "execution_count": null,
      "outputs": [
        {
          "output_type": "execute_result",
          "data": {
            "text/plain": [
              "<Axes: title={'center': 'Income vs Target'}, xlabel='Income_Bin'>"
            ]
          },
          "metadata": {},
          "execution_count": 43
        },
        {
          "output_type": "display_data",
          "data": {
            "text/plain": [
              "<Figure size 640x480 with 1 Axes>"
            ],
            "image/png": "[encoded data removed]"
          },
          "metadata": {}
        }
      ]
    },
    {
      "cell_type": "markdown",
      "source": [
        "The employees whose monthly income is in 1,60,000-1,90,000 or 1,30,000-1,60,000 are less likely to leave\n",
        "the organization."
      ],
      "metadata": {
        "id": "4j9FcfyPBwwH"
      }
    },
    {
      "cell_type": "code",
      "source": [
        "#Defining the bins and groups\n",
        "m1 = round(df1['Total_Business_Value'].min())\n",
        "m2 = round(df1['Total_Business_Value'].max())\n",
        "bins = [m1, 80000 , 2000000 , 3200000, 4400000, 5600000, 6800000, m2]\n",
        "#Binning the Total Business Value into categories\n",
        "df1['TBV_Bin'] = pd.cut(df1['Total_Business_Value'],bins)\n",
        "#Total Business Value feature with Target\n",
        "tbvbin = pd.crosstab(df1['TBV_Bin'],df1['Target'])\n",
        "tbvbin.div(tbvbin.sum(1).astype(float),axis=0).plot(kind='bar',stacked=True,title=\"Total business value vs Target\")"
      ],
      "metadata": {
        "colab": {
          "base_uri": "https://localhost:8080/",
          "height": 626
        },
        "id": "3_VtXo7cBegb",
        "outputId": "72e42445-12de-46e4-86b1-4e018ac40464"
      },
      "execution_count": null,
      "outputs": [
        {
          "output_type": "execute_result",
          "data": {
            "text/plain": [
              "<Axes: title={'center': 'Total business value vs Target'}, xlabel='TBV_Bin'>"
            ]
          },
          "metadata": {},
          "execution_count": 44
        },
        {
          "output_type": "display_data",
          "data": {
            "text/plain": [
              "<Figure size 640x480 with 1 Axes>"
            ],
            "image/png": "[encoded data removed]"
          },
          "metadata": {}
        }
      ]
    },
    {
      "cell_type": "markdown",
      "source": [
        "The employees who have acquired total business value greater than 68,00,000 are less likely to leave the organiztion."
      ],
      "metadata": {
        "id": "YseVV0-YCM-g"
      }
    },
    {
      "cell_type": "code",
      "source": [
        "#Dropping the bins columns\n",
        "df1.drop(['Age_Bin','Income_Bin','TBV_Bin'],axis=1,inplace=True)"
      ],
      "metadata": {
        "id": "1-W2cpKsCJCE"
      },
      "execution_count": null,
      "outputs": []
    },
    {
      "cell_type": "code",
      "source": [
        "df1.head()"
      ],
      "metadata": {
        "id": "cN2tQV-SCUzB"
      },
      "execution_count": null,
      "outputs": []
    },
    {
      "cell_type": "markdown",
      "source": [
        "### One Hot Encoding\n",
        "\n",
        "Converting categorical variables to numeric values so that Machine Learning models can be applied"
      ],
      "metadata": {
        "id": "_opGpjAFChVI"
      }
    },
    {
      "cell_type": "code",
      "source": [
        "df1 = pd.concat([df1,pd.get_dummies(df1['City'],prefix='City')],axis=1)\n",
        "df1.head()"
      ],
      "metadata": {
        "id": "OMjEN1wyCXO3"
      },
      "execution_count": null,
      "outputs": []
    },
    {
      "cell_type": "markdown",
      "source": [
        "### Scaling on training set\n",
        "The goal of normalization is to change the values of numeric columns in the dataset to a common scale, without distorting differences in the ranges of values.\n"
      ],
      "metadata": {
        "id": "uTX-5R8NDHaU"
      }
    },
    {
      "cell_type": "code",
      "source": [
        "X = df1.drop(['Driver_ID','Target','City'],axis=1)\n",
        "X_cols=X.columns\n",
        "\n",
        "scaler = MinMaxScaler()\n",
        "X=scaler.fit_transform(X)"
      ],
      "metadata": {
        "id": "ny9nY_87CyLw"
      },
      "execution_count": null,
      "outputs": []
    },
    {
      "cell_type": "code",
      "source": [
        "X=pd.DataFrame(X)\n",
        "X.columns=X_cols\n",
        "X"
      ],
      "metadata": {
        "colab": {
          "base_uri": "https://localhost:8080/",
          "height": 444
        },
        "id": "k6ToEYkBDwrA",
        "outputId": "d0e4deca-8ad4-4134-d0bd-3d3927e38a84"
      },
      "execution_count": null,
      "outputs": [
        {
          "output_type": "execute_result",
          "data": {
            "text/plain": [
              "           Age  Gender  Education    Income  Joining_Designation  Grade  \\\n",
              "0     0.189189     0.0        1.0  0.262508                 0.00   0.00   \n",
              "1     0.270270     0.0        1.0  0.316703                 0.25   0.25   \n",
              "2     0.594595     0.0        1.0  0.308750                 0.25   0.25   \n",
              "3     0.216216     0.0        0.0  0.200489                 0.00   0.00   \n",
              "4     0.270270     1.0        0.5  0.382623                 0.50   0.50   \n",
              "...        ...     ...        ...       ...                  ...    ...   \n",
              "2376  0.351351     0.0        0.0  0.405626                 0.25   0.50   \n",
              "2377  0.351351     1.0        0.0  0.007643                 0.00   0.00   \n",
              "2378  0.648649     0.0        0.0  0.138588                 0.25   0.25   \n",
              "2379  0.189189     1.0        1.0  0.330673                 0.00   0.00   \n",
              "2380  0.243243     0.0        1.0  0.334928                 0.25   0.25   \n",
              "\n",
              "      Total_Business_Value  Last_Quarterly_Rating  Quarterly_Rating_Increased  \\\n",
              "0                 0.032064               0.333333                         0.0   \n",
              "1                 0.014326               0.000000                         0.0   \n",
              "2                 0.017944               0.000000                         0.0   \n",
              "3                 0.015570               0.000000                         0.0   \n",
              "4                 0.027405               0.333333                         1.0   \n",
              "...                    ...                    ...                         ...   \n",
              "2376              0.239197               1.000000                         1.0   \n",
              "2377              0.014326               0.000000                         0.0   \n",
              "2378              0.043432               0.000000                         0.0   \n",
              "2379              0.024436               0.000000                         0.0   \n",
              "2380              0.038088               0.333333                         1.0   \n",
              "\n",
              "      Income_Increased  ...  City_C27  City_C28  City_C29  City_C3  City_C4  \\\n",
              "0                  0.0  ...       0.0       0.0       0.0      0.0      0.0   \n",
              "1                  0.0  ...       0.0       0.0       0.0      0.0      0.0   \n",
              "2                  0.0  ...       0.0       0.0       0.0      0.0      0.0   \n",
              "3                  0.0  ...       0.0       0.0       0.0      0.0      0.0   \n",
              "4                  0.0  ...       0.0       0.0       0.0      0.0      0.0   \n",
              "...                ...  ...       ...       ...       ...      ...      ...   \n",
              "2376               0.0  ...       0.0       0.0       0.0      0.0      0.0   \n",
              "2377               0.0  ...       0.0       0.0       0.0      0.0      0.0   \n",
              "2378               0.0  ...       0.0       0.0       0.0      0.0      0.0   \n",
              "2379               0.0  ...       0.0       0.0       0.0      0.0      0.0   \n",
              "2380               0.0  ...       1.0       0.0       0.0      0.0      0.0   \n",
              "\n",
              "      City_C5  City_C6  City_C7  City_C8  City_C9  \n",
              "0         0.0      0.0      0.0      0.0      0.0  \n",
              "1         0.0      0.0      1.0      0.0      0.0  \n",
              "2         0.0      0.0      0.0      0.0      0.0  \n",
              "3         0.0      0.0      0.0      0.0      1.0  \n",
              "4         0.0      0.0      0.0      0.0      0.0  \n",
              "...       ...      ...      ...      ...      ...  \n",
              "2376      0.0      0.0      0.0      0.0      0.0  \n",
              "2377      0.0      0.0      0.0      0.0      1.0  \n",
              "2378      0.0      0.0      0.0      0.0      0.0  \n",
              "2379      0.0      0.0      0.0      0.0      0.0  \n",
              "2380      0.0      0.0      0.0      0.0      0.0  \n",
              "\n",
              "[2381 rows x 39 columns]"
            ],
            "text/html": [
              "\n",
              "  <div id=\"df-2ea20246-43a7-4668-9f9a-7321139aab8b\" class=\"colab-df-container\">\n",
              "    <div>\n",
              "<style scoped>\n",
              "    .dataframe tbody tr th:only-of-type {\n",
              "        vertical-align: middle;\n",
              "    }\n",
              "\n",
              "    .dataframe tbody tr th {\n",
              "        vertical-align: top;\n",
              "    }\n",
              "\n",
              "    .dataframe thead th {\n",
              "        text-align: right;\n",
              "    }\n",
              "</style>\n",
              "<table border=\"1\" class=\"dataframe\">\n",
              "  <thead>\n",
              "    <tr style=\"text-align: right;\">\n",
              "      <th></th>\n",
              "      <th>Age</th>\n",
              "      <th>Gender</th>\n",
              "      <th>Education</th>\n",
              "      <th>Income</th>\n",
              "      <th>Joining_Designation</th>\n",
              "      <th>Grade</th>\n",
              "      <th>Total_Business_Value</th>\n",
              "      <th>Last_Quarterly_Rating</th>\n",
              "      <th>Quarterly_Rating_Increased</th>\n",
              "      <th>Income_Increased</th>\n",
              "      <th>...</th>\n",
              "      <th>City_C27</th>\n",
              "      <th>City_C28</th>\n",
              "      <th>City_C29</th>\n",
              "      <th>City_C3</th>\n",
              "      <th>City_C4</th>\n",
              "      <th>City_C5</th>\n",
              "      <th>City_C6</th>\n",
              "      <th>City_C7</th>\n",
              "      <th>City_C8</th>\n",
              "      <th>City_C9</th>\n",
              "    </tr>\n",
              "  </thead>\n",
              "  <tbody>\n",
              "    <tr>\n",
              "      <th>0</th>\n",
              "      <td>0.189189</td>\n",
              "      <td>0.0</td>\n",
              "      <td>1.0</td>\n",
              "      <td>0.262508</td>\n",
              "      <td>0.00</td>\n",
              "      <td>0.00</td>\n",
              "      <td>0.032064</td>\n",
              "      <td>0.333333</td>\n",
              "      <td>0.0</td>\n",
              "      <td>0.0</td>\n",
              "      <td>...</td>\n",
              "      <td>0.0</td>\n",
              "      <td>0.0</td>\n",
              "      <td>0.0</td>\n",
              "      <td>0.0</td>\n",
              "      <td>0.0</td>\n",
              "      <td>0.0</td>\n",
              "      <td>0.0</td>\n",
              "      <td>0.0</td>\n",
              "      <td>0.0</td>\n",
              "      <td>0.0</td>\n",
              "    </tr>\n",
              "    <tr>\n",
              "      <th>1</th>\n",
              "      <td>0.270270</td>\n",
              "      <td>0.0</td>\n",
              "      <td>1.0</td>\n",
              "      <td>0.316703</td>\n",
              "      <td>0.25</td>\n",
              "      <td>0.25</td>\n",
              "      <td>0.014326</td>\n",
              "      <td>0.000000</td>\n",
              "      <td>0.0</td>\n",
              "      <td>0.0</td>\n",
              "      <td>...</td>\n",
              "      <td>0.0</td>\n",
              "      <td>0.0</td>\n",
              "      <td>0.0</td>\n",
              "      <td>0.0</td>\n",
              "      <td>0.0</td>\n",
              "      <td>0.0</td>\n",
              "      <td>0.0</td>\n",
              "      <td>1.0</td>\n",
              "      <td>0.0</td>\n",
              "      <td>0.0</td>\n",
              "    </tr>\n",
              "    <tr>\n",
              "      <th>2</th>\n",
              "      <td>0.594595</td>\n",
              "      <td>0.0</td>\n",
              "      <td>1.0</td>\n",
              "      <td>0.308750</td>\n",
              "      <td>0.25</td>\n",
              "      <td>0.25</td>\n",
              "      <td>0.017944</td>\n",
              "      <td>0.000000</td>\n",
              "      <td>0.0</td>\n",
              "      <td>0.0</td>\n",
              "      <td>...</td>\n",
              "      <td>0.0</td>\n",
              "      <td>0.0</td>\n",
              "      <td>0.0</td>\n",
              "      <td>0.0</td>\n",
              "      <td>0.0</td>\n",
              "      <td>0.0</td>\n",
              "      <td>0.0</td>\n",
              "      <td>0.0</td>\n",
              "      <td>0.0</td>\n",
              "      <td>0.0</td>\n",
              "    </tr>\n",
              "    <tr>\n",
              "      <th>3</th>\n",
              "      <td>0.216216</td>\n",
              "      <td>0.0</td>\n",
              "      <td>0.0</td>\n",
              "      <td>0.200489</td>\n",
              "      <td>0.00</td>\n",
              "      <td>0.00</td>\n",
              "      <td>0.015570</td>\n",
              "      <td>0.000000</td>\n",
              "      <td>0.0</td>\n",
              "      <td>0.0</td>\n",
              "      <td>...</td>\n",
              "      <td>0.0</td>\n",
              "      <td>0.0</td>\n",
              "      <td>0.0</td>\n",
              "      <td>0.0</td>\n",
              "      <td>0.0</td>\n",
              "      <td>0.0</td>\n",
              "      <td>0.0</td>\n",
              "      <td>0.0</td>\n",
              "      <td>0.0</td>\n",
              "      <td>1.0</td>\n",
              "    </tr>\n",
              "    <tr>\n",
              "      <th>4</th>\n",
              "      <td>0.270270</td>\n",
              "      <td>1.0</td>\n",
              "      <td>0.5</td>\n",
              "      <td>0.382623</td>\n",
              "      <td>0.50</td>\n",
              "      <td>0.50</td>\n",
              "      <td>0.027405</td>\n",
              "      <td>0.333333</td>\n",
              "      <td>1.0</td>\n",
              "      <td>0.0</td>\n",
              "      <td>...</td>\n",
              "      <td>0.0</td>\n",
              "      <td>0.0</td>\n",
              "      <td>0.0</td>\n",
              "      <td>0.0</td>\n",
              "      <td>0.0</td>\n",
              "      <td>0.0</td>\n",
              "      <td>0.0</td>\n",
              "      <td>0.0</td>\n",
              "      <td>0.0</td>\n",
              "      <td>0.0</td>\n",
              "    </tr>\n",
              "    <tr>\n",
              "      <th>...</th>\n",
              "      <td>...</td>\n",
              "      <td>...</td>\n",
              "      <td>...</td>\n",
              "      <td>...</td>\n",
              "      <td>...</td>\n",
              "      <td>...</td>\n",
              "      <td>...</td>\n",
              "      <td>...</td>\n",
              "      <td>...</td>\n",
              "      <td>...</td>\n",
              "      <td>...</td>\n",
              "      <td>...</td>\n",
              "      <td>...</td>\n",
              "      <td>...</td>\n",
              "      <td>...</td>\n",
              "      <td>...</td>\n",
              "      <td>...</td>\n",
              "      <td>...</td>\n",
              "      <td>...</td>\n",
              "      <td>...</td>\n",
              "      <td>...</td>\n",
              "    </tr>\n",
              "    <tr>\n",
              "      <th>2376</th>\n",
              "      <td>0.351351</td>\n",
              "      <td>0.0</td>\n",
              "      <td>0.0</td>\n",
              "      <td>0.405626</td>\n",
              "      <td>0.25</td>\n",
              "      <td>0.50</td>\n",
              "      <td>0.239197</td>\n",
              "      <td>1.000000</td>\n",
              "      <td>1.0</td>\n",
              "      <td>0.0</td>\n",
              "      <td>...</td>\n",
              "      <td>0.0</td>\n",
              "      <td>0.0</td>\n",
              "      <td>0.0</td>\n",
              "      <td>0.0</td>\n",
              "      <td>0.0</td>\n",
              "      <td>0.0</td>\n",
              "      <td>0.0</td>\n",
              "      <td>0.0</td>\n",
              "      <td>0.0</td>\n",
              "      <td>0.0</td>\n",
              "    </tr>\n",
              "    <tr>\n",
              "      <th>2377</th>\n",
              "      <td>0.351351</td>\n",
              "      <td>1.0</td>\n",
              "      <td>0.0</td>\n",
              "      <td>0.007643</td>\n",
              "      <td>0.00</td>\n",
              "      <td>0.00</td>\n",
              "      <td>0.014326</td>\n",
              "      <td>0.000000</td>\n",
              "      <td>0.0</td>\n",
              "      <td>0.0</td>\n",
              "      <td>...</td>\n",
              "      <td>0.0</td>\n",
              "      <td>0.0</td>\n",
              "      <td>0.0</td>\n",
              "      <td>0.0</td>\n",
              "      <td>0.0</td>\n",
              "      <td>0.0</td>\n",
              "      <td>0.0</td>\n",
              "      <td>0.0</td>\n",
              "      <td>0.0</td>\n",
              "      <td>1.0</td>\n",
              "    </tr>\n",
              "    <tr>\n",
              "      <th>2378</th>\n",
              "      <td>0.648649</td>\n",
              "      <td>0.0</td>\n",
              "      <td>0.0</td>\n",
              "      <td>0.138588</td>\n",
              "      <td>0.25</td>\n",
              "      <td>0.25</td>\n",
              "      <td>0.043432</td>\n",
              "      <td>0.000000</td>\n",
              "      <td>0.0</td>\n",
              "      <td>0.0</td>\n",
              "      <td>...</td>\n",
              "      <td>0.0</td>\n",
              "      <td>0.0</td>\n",
              "      <td>0.0</td>\n",
              "      <td>0.0</td>\n",
              "      <td>0.0</td>\n",
              "      <td>0.0</td>\n",
              "      <td>0.0</td>\n",
              "      <td>0.0</td>\n",
              "      <td>0.0</td>\n",
              "      <td>0.0</td>\n",
              "    </tr>\n",
              "    <tr>\n",
              "      <th>2379</th>\n",
              "      <td>0.189189</td>\n",
              "      <td>1.0</td>\n",
              "      <td>1.0</td>\n",
              "      <td>0.330673</td>\n",
              "      <td>0.00</td>\n",
              "      <td>0.00</td>\n",
              "      <td>0.024436</td>\n",
              "      <td>0.000000</td>\n",
              "      <td>0.0</td>\n",
              "      <td>0.0</td>\n",
              "      <td>...</td>\n",
              "      <td>0.0</td>\n",
              "      <td>0.0</td>\n",
              "      <td>0.0</td>\n",
              "      <td>0.0</td>\n",
              "      <td>0.0</td>\n",
              "      <td>0.0</td>\n",
              "      <td>0.0</td>\n",
              "      <td>0.0</td>\n",
              "      <td>0.0</td>\n",
              "      <td>0.0</td>\n",
              "    </tr>\n",
              "    <tr>\n",
              "      <th>2380</th>\n",
              "      <td>0.243243</td>\n",
              "      <td>0.0</td>\n",
              "      <td>1.0</td>\n",
              "      <td>0.334928</td>\n",
              "      <td>0.25</td>\n",
              "      <td>0.25</td>\n",
              "      <td>0.038088</td>\n",
              "      <td>0.333333</td>\n",
              "      <td>1.0</td>\n",
              "      <td>0.0</td>\n",
              "      <td>...</td>\n",
              "      <td>1.0</td>\n",
              "      <td>0.0</td>\n",
              "      <td>0.0</td>\n",
              "      <td>0.0</td>\n",
              "      <td>0.0</td>\n",
              "      <td>0.0</td>\n",
              "      <td>0.0</td>\n",
              "      <td>0.0</td>\n",
              "      <td>0.0</td>\n",
              "      <td>0.0</td>\n",
              "    </tr>\n",
              "  </tbody>\n",
              "</table>\n",
              "<p>2381 rows × 39 columns</p>\n",
              "</div>\n",
              "    <div class=\"colab-df-buttons\">\n",
              "\n",
              "  <div class=\"colab-df-container\">\n",
              "    <button class=\"colab-df-convert\" onclick=\"convertToInteractive('df-2ea20246-43a7-4668-9f9a-7321139aab8b')\"\n",
              "            title=\"Convert this dataframe to an interactive table.\"\n",
              "            style=\"display:none;\">\n",
              "\n",
              "  <svg xmlns=\"http://www.w3.org/2000/svg\" height=\"24px\" viewBox=\"0 -960 960 960\">\n",
              "    <path d=\"M120-120v-720h720v720H120Zm60-500h600v-160H180v160Zm220 220h160v-160H400v160Zm0 220h160v-160H400v160ZM180-400h160v-160H180v160Zm440 0h160v-160H620v160ZM180-180h160v-160H180v160Zm440 0h160v-160H620v160Z\"/>\n",
              "  </svg>\n",
              "    </button>\n",
              "\n",
              "  <style>\n",
              "    .colab-df-container {\n",
              "      display:flex;\n",
              "      gap: 12px;\n",
              "    }\n",
              "\n",
              "    .colab-df-convert {\n",
              "      background-color: #E8F0FE;\n",
              "      border: none;\n",
              "      border-radius: 50%;\n",
              "      cursor: pointer;\n",
              "      display: none;\n",
              "      fill: #1967D2;\n",
              "      height: 32px;\n",
              "      padding: 0 0 0 0;\n",
              "      width: 32px;\n",
              "    }\n",
              "\n",
              "    .colab-df-convert:hover {\n",
              "      background-color: #E2EBFA;\n",
              "      box-shadow: 0px 1px 2px rgba(60, 64, 67, 0.3), 0px 1px 3px 1px rgba(60, 64, 67, 0.15);\n",
              "      fill: #174EA6;\n",
              "    }\n",
              "\n",
              "    .colab-df-buttons div {\n",
              "      margin-bottom: 4px;\n",
              "    }\n",
              "\n",
              "    [theme=dark] .colab-df-convert {\n",
              "      background-color: #3B4455;\n",
              "      fill: #D2E3FC;\n",
              "    }\n",
              "\n",
              "    [theme=dark] .colab-df-convert:hover {\n",
              "      background-color: #434B5C;\n",
              "      box-shadow: 0px 1px 3px 1px rgba(0, 0, 0, 0.15);\n",
              "      filter: drop-shadow(0px 1px 2px rgba(0, 0, 0, 0.3));\n",
              "      fill: #FFFFFF;\n",
              "    }\n",
              "  </style>\n",
              "\n",
              "    <script>\n",
              "      const buttonEl =\n",
              "        document.querySelector('#df-2ea20246-43a7-4668-9f9a-7321139aab8b button.colab-df-convert');\n",
              "      buttonEl.style.display =\n",
              "        google.colab.kernel.accessAllowed ? 'block' : 'none';\n",
              "\n",
              "      async function convertToInteractive(key) {\n",
              "        const element = document.querySelector('#df-2ea20246-43a7-4668-9f9a-7321139aab8b');\n",
              "        const dataTable =\n",
              "          await google.colab.kernel.invokeFunction('convertToInteractive',\n",
              "                                                    [key], {});\n",
              "        if (!dataTable) return;\n",
              "\n",
              "        const docLinkHtml = 'Like what you see? Visit the ' +\n",
              "          '<a target=\"_blank\" href=https://colab.research.google.com/notebooks/data_table.ipynb>data table notebook</a>'\n",
              "          + ' to learn more about interactive tables.';\n",
              "        element.innerHTML = '';\n",
              "        dataTable['output_type'] = 'display_data';\n",
              "        await google.colab.output.renderOutput(dataTable, element);\n",
              "        const docLink = document.createElement('div');\n",
              "        docLink.innerHTML = docLinkHtml;\n",
              "        element.appendChild(docLink);\n",
              "      }\n",
              "    </script>\n",
              "  </div>\n",
              "\n",
              "\n",
              "<div id=\"df-b052d261-3c20-438c-ad50-d475805da652\">\n",
              "  <button class=\"colab-df-quickchart\" onclick=\"quickchart('df-b052d261-3c20-438c-ad50-d475805da652')\"\n",
              "            title=\"Suggest charts\"\n",
              "            style=\"display:none;\">\n",
              "\n",
              "<svg xmlns=\"http://www.w3.org/2000/svg\" height=\"24px\"viewBox=\"0 0 24 24\"\n",
              "     width=\"24px\">\n",
              "    <g>\n",
              "        <path d=\"M19 3H5c-1.1 0-2 .9-2 2v14c0 1.1.9 2 2 2h14c1.1 0 2-.9 2-2V5c0-1.1-.9-2-2-2zM9 17H7v-7h2v7zm4 0h-2V7h2v10zm4 0h-2v-4h2v4z\"/>\n",
              "    </g>\n",
              "</svg>\n",
              "  </button>\n",
              "\n",
              "<style>\n",
              "  .colab-df-quickchart {\n",
              "      --bg-color: #E8F0FE;\n",
              "      --fill-color: #1967D2;\n",
              "      --hover-bg-color: #E2EBFA;\n",
              "      --hover-fill-color: #174EA6;\n",
              "      --disabled-fill-color: #AAA;\n",
              "      --disabled-bg-color: #DDD;\n",
              "  }\n",
              "\n",
              "  [theme=dark] .colab-df-quickchart {\n",
              "      --bg-color: #3B4455;\n",
              "      --fill-color: #D2E3FC;\n",
              "      --hover-bg-color: #434B5C;\n",
              "      --hover-fill-color: #FFFFFF;\n",
              "      --disabled-bg-color: #3B4455;\n",
              "      --disabled-fill-color: #666;\n",
              "  }\n",
              "\n",
              "  .colab-df-quickchart {\n",
              "    background-color: var(--bg-color);\n",
              "    border: none;\n",
              "    border-radius: 50%;\n",
              "    cursor: pointer;\n",
              "    display: none;\n",
              "    fill: var(--fill-color);\n",
              "    height: 32px;\n",
              "    padding: 0;\n",
              "    width: 32px;\n",
              "  }\n",
              "\n",
              "  .colab-df-quickchart:hover {\n",
              "    background-color: var(--hover-bg-color);\n",
              "    box-shadow: 0 1px 2px rgba(60, 64, 67, 0.3), 0 1px 3px 1px rgba(60, 64, 67, 0.15);\n",
              "    fill: var(--button-hover-fill-color);\n",
              "  }\n",
              "\n",
              "  .colab-df-quickchart-complete:disabled,\n",
              "  .colab-df-quickchart-complete:disabled:hover {\n",
              "    background-color: var(--disabled-bg-color);\n",
              "    fill: var(--disabled-fill-color);\n",
              "    box-shadow: none;\n",
              "  }\n",
              "\n",
              "  .colab-df-spinner {\n",
              "    border: 2px solid var(--fill-color);\n",
              "    border-color: transparent;\n",
              "    border-bottom-color: var(--fill-color);\n",
              "    animation:\n",
              "      spin 1s steps(1) infinite;\n",
              "  }\n",
              "\n",
              "  @keyframes spin {\n",
              "    0% {\n",
              "      border-color: transparent;\n",
              "      border-bottom-color: var(--fill-color);\n",
              "      border-left-color: var(--fill-color);\n",
              "    }\n",
              "    20% {\n",
              "      border-color: transparent;\n",
              "      border-left-color: var(--fill-color);\n",
              "      border-top-color: var(--fill-color);\n",
              "    }\n",
              "    30% {\n",
              "      border-color: transparent;\n",
              "      border-left-color: var(--fill-color);\n",
              "      border-top-color: var(--fill-color);\n",
              "      border-right-color: var(--fill-color);\n",
              "    }\n",
              "    40% {\n",
              "      border-color: transparent;\n",
              "      border-right-color: var(--fill-color);\n",
              "      border-top-color: var(--fill-color);\n",
              "    }\n",
              "    60% {\n",
              "      border-color: transparent;\n",
              "      border-right-color: var(--fill-color);\n",
              "    }\n",
              "    80% {\n",
              "      border-color: transparent;\n",
              "      border-right-color: var(--fill-color);\n",
              "      border-bottom-color: var(--fill-color);\n",
              "    }\n",
              "    90% {\n",
              "      border-color: transparent;\n",
              "      border-bottom-color: var(--fill-color);\n",
              "    }\n",
              "  }\n",
              "</style>\n",
              "\n",
              "  <script>\n",
              "    async function quickchart(key) {\n",
              "      const quickchartButtonEl =\n",
              "        document.querySelector('#' + key + ' button');\n",
              "      quickchartButtonEl.disabled = true;  // To prevent multiple clicks.\n",
              "      quickchartButtonEl.classList.add('colab-df-spinner');\n",
              "      try {\n",
              "        const charts = await google.colab.kernel.invokeFunction(\n",
              "            'suggestCharts', [key], {});\n",
              "      } catch (error) {\n",
              "        console.error('Error during call to suggestCharts:', error);\n",
              "      }\n",
              "      quickchartButtonEl.classList.remove('colab-df-spinner');\n",
              "      quickchartButtonEl.classList.add('colab-df-quickchart-complete');\n",
              "    }\n",
              "    (() => {\n",
              "      let quickchartButtonEl =\n",
              "        document.querySelector('#df-b052d261-3c20-438c-ad50-d475805da652 button');\n",
              "      quickchartButtonEl.style.display =\n",
              "        google.colab.kernel.accessAllowed ? 'block' : 'none';\n",
              "    })();\n",
              "  </script>\n",
              "</div>\n",
              "\n",
              "  <div id=\"id_e7de0e9d-82cd-4b88-9d19-f99415ac6cd8\">\n",
              "    <style>\n",
              "      .colab-df-generate {\n",
              "        background-color: #E8F0FE;\n",
              "        border: none;\n",
              "        border-radius: 50%;\n",
              "        cursor: pointer;\n",
              "        display: none;\n",
              "        fill: #1967D2;\n",
              "        height: 32px;\n",
              "        padding: 0 0 0 0;\n",
              "        width: 32px;\n",
              "      }\n",
              "\n",
              "      .colab-df-generate:hover {\n",
              "        background-color: #E2EBFA;\n",
              "        box-shadow: 0px 1px 2px rgba(60, 64, 67, 0.3), 0px 1px 3px 1px rgba(60, 64, 67, 0.15);\n",
              "        fill: #174EA6;\n",
              "      }\n",
              "\n",
              "      [theme=dark] .colab-df-generate {\n",
              "        background-color: #3B4455;\n",
              "        fill: #D2E3FC;\n",
              "      }\n",
              "\n",
              "      [theme=dark] .colab-df-generate:hover {\n",
              "        background-color: #434B5C;\n",
              "        box-shadow: 0px 1px 3px 1px rgba(0, 0, 0, 0.15);\n",
              "        filter: drop-shadow(0px 1px 2px rgba(0, 0, 0, 0.3));\n",
              "        fill: #FFFFFF;\n",
              "      }\n",
              "    </style>\n",
              "    <button class=\"colab-df-generate\" onclick=\"generateWithVariable('X')\"\n",
              "            title=\"Generate code using this dataframe.\"\n",
              "            style=\"display:none;\">\n",
              "\n",
              "  <svg xmlns=\"http://www.w3.org/2000/svg\" height=\"24px\"viewBox=\"0 0 24 24\"\n",
              "       width=\"24px\">\n",
              "    <path d=\"M7,19H8.4L18.45,9,17,7.55,7,17.6ZM5,21V16.75L18.45,3.32a2,2,0,0,1,2.83,0l1.4,1.43a1.91,1.91,0,0,1,.58,1.4,1.91,1.91,0,0,1-.58,1.4L9.25,21ZM18.45,9,17,7.55Zm-12,3A5.31,5.31,0,0,0,4.9,8.1,5.31,5.31,0,0,0,1,6.5,5.31,5.31,0,0,0,4.9,4.9,5.31,5.31,0,0,0,6.5,1,5.31,5.31,0,0,0,8.1,4.9,5.31,5.31,0,0,0,12,6.5,5.46,5.46,0,0,0,6.5,12Z\"/>\n",
              "  </svg>\n",
              "    </button>\n",
              "    <script>\n",
              "      (() => {\n",
              "      const buttonEl =\n",
              "        document.querySelector('#id_e7de0e9d-82cd-4b88-9d19-f99415ac6cd8 button.colab-df-generate');\n",
              "      buttonEl.style.display =\n",
              "        google.colab.kernel.accessAllowed ? 'block' : 'none';\n",
              "\n",
              "      buttonEl.onclick = () => {\n",
              "        google.colab.notebook.generateWithVariable('X');\n",
              "      }\n",
              "      })();\n",
              "    </script>\n",
              "  </div>\n",
              "\n",
              "    </div>\n",
              "  </div>\n"
            ],
            "application/vnd.google.colaboratory.intrinsic+json": {
              "type": "dataframe",
              "variable_name": "X"
            }
          },
          "metadata": {},
          "execution_count": 52
        }
      ]
    },
    {
      "cell_type": "code",
      "source": [
        "#Target Variable\n",
        "y = df1['Target']\n",
        "# split into 80:20 ratio\n",
        "X_train, X_test, y_train, y_test = train_test_split(X, y, test_size = 0.20, random_state=42)"
      ],
      "metadata": {
        "id": "l5g0utP4D-4R"
      },
      "execution_count": null,
      "outputs": []
    },
    {
      "cell_type": "code",
      "source": [
        "y_train.value_counts()"
      ],
      "metadata": {
        "colab": {
          "base_uri": "https://localhost:8080/"
        },
        "id": "cELSofS1Ud4x",
        "outputId": "41af9ec6-6890-4fdc-a9e2-d09c7a456b4b"
      },
      "execution_count": null,
      "outputs": [
        {
          "output_type": "execute_result",
          "data": {
            "text/plain": [
              "Target\n",
              "1    1289\n",
              "0     615\n",
              "Name: count, dtype: int64"
            ]
          },
          "metadata": {},
          "execution_count": 73
        }
      ]
    },
    {
      "cell_type": "code",
      "source": [
        "y_train.value_counts(normalize=True)"
      ],
      "metadata": {
        "colab": {
          "base_uri": "https://localhost:8080/"
        },
        "id": "ug-sw7lGU0IQ",
        "outputId": "78cc7c43-9f84-4417-dd27-13656927ca97"
      },
      "execution_count": null,
      "outputs": [
        {
          "output_type": "execute_result",
          "data": {
            "text/plain": [
              "Target\n",
              "1    0.676996\n",
              "0    0.323004\n",
              "Name: proportion, dtype: float64"
            ]
          },
          "metadata": {},
          "execution_count": 74
        }
      ]
    },
    {
      "cell_type": "markdown",
      "source": [
        "Dataset is slightly imbalanced. We can use random Forest with class_weight='balanced' or SMOTE to make it balanced."
      ],
      "metadata": {
        "id": "WvMvOtV-ajqg"
      }
    },
    {
      "cell_type": "markdown",
      "source": [
        "# Random Forest Classifier"
      ],
      "metadata": {
        "id": "H0QjnfM_E8bd"
      }
    },
    {
      "cell_type": "code",
      "source": [
        "param = {'max_depth':[2,3,4], 'n_estimators':[50,100,150,200]}\n",
        "random_forest = RandomForestClassifier(class_weight ='balanced')\n",
        "c = GridSearchCV(random_forest,param,cv=3,scoring='f1')\n",
        "c.fit(X_train,y_train)\n",
        "def display(results):\n",
        " print(f'Best parameters are : {results.best_params_}')\n",
        " print(f'The score is : {results.best_score_}')\n",
        "display(c)\n",
        "y_pred = c.predict(X_test)\n",
        "\n",
        "print(classification_report(y_test, y_pred))\n",
        "cm = confusion_matrix(y_test, y_pred)\n",
        "print(cm)"
      ],
      "metadata": {
        "colab": {
          "base_uri": "https://localhost:8080/"
        },
        "id": "K6vuT0efE4hi",
        "outputId": "95006aca-ea37-4b88-8e42-2fdd69f190ba"
      },
      "execution_count": null,
      "outputs": [
        {
          "output_type": "stream",
          "name": "stdout",
          "text": [
            "Best parameters are : {'max_depth': 4, 'n_estimators': 200}\n",
            "The score is : 0.8599093887152146\n",
            "              precision    recall  f1-score   support\n",
            "\n",
            "           0       0.70      0.59      0.64       150\n",
            "           1       0.82      0.89      0.85       327\n",
            "\n",
            "    accuracy                           0.79       477\n",
            "   macro avg       0.76      0.74      0.75       477\n",
            "weighted avg       0.79      0.79      0.79       477\n",
            "\n",
            "[[ 88  62]\n",
            " [ 37 290]]\n"
          ]
        }
      ]
    },
    {
      "cell_type": "markdown",
      "source": [
        "The Random Forest With \"balanced\" Class Weight :\n",
        "\n",
        "Out of all predicted 0 70% are correct and out of all 1 82% are correct (Precision).\n",
        "\n",
        "Out of all actual 0 59% are identified, and out of all 1 89% are rightly identified (Recall).\n"
      ],
      "metadata": {
        "id": "Xs1b8CmlGUwC"
      }
    },
    {
      "cell_type": "code",
      "source": [
        "param = {'max_depth':[2,3,4], 'n_estimators':[50,100,150,200]}\n",
        "random_forest = RandomForestClassifier(class_weight ='balanced_subsample')\n",
        "c = GridSearchCV(random_forest,param,cv=3,scoring='f1')\n",
        "c.fit(X_train,y_train)\n",
        "def display(results):\n",
        " print(f'Best parameters are : {results.best_params_}')\n",
        " print(f'The score is : {results.best_score_}')\n",
        "display(c)\n",
        "y_pred = c.predict(X_test)\n",
        "\n",
        "print(classification_report(y_test, y_pred))\n",
        "cm = confusion_matrix(y_test, y_pred)\n",
        "print(cm)"
      ],
      "metadata": {
        "colab": {
          "base_uri": "https://localhost:8080/"
        },
        "id": "gm_P6fCFFKEU",
        "outputId": "77d5f6f1-9e62-459c-a1bb-73d1eecdfd25"
      },
      "execution_count": null,
      "outputs": [
        {
          "output_type": "stream",
          "name": "stdout",
          "text": [
            "Best parameters are : {'max_depth': 4, 'n_estimators': 50}\n",
            "The score is : 0.8592111507553025\n",
            "              precision    recall  f1-score   support\n",
            "\n",
            "           0       0.72      0.59      0.65       150\n",
            "           1       0.83      0.90      0.86       327\n",
            "\n",
            "    accuracy                           0.80       477\n",
            "   macro avg       0.77      0.74      0.75       477\n",
            "weighted avg       0.79      0.80      0.79       477\n",
            "\n",
            "[[ 88  62]\n",
            " [ 34 293]]\n"
          ]
        }
      ]
    },
    {
      "cell_type": "markdown",
      "source": [
        "The Random Forest With \"balanced_subsample\" Class Weight :\n",
        "\n",
        "Out of all predicted 0 72% are correct and out of all 1 83% are correct (Precision).\n",
        "\n",
        "Out of all actual 0 59% are identified, and out of all 1 90% are rightly identified (Recall)."
      ],
      "metadata": {
        "id": "nUOjk-u2HjlE"
      }
    },
    {
      "cell_type": "code",
      "source": [
        "## Using SMOTE\n",
        "print(\"Before OverSampling, counts of label '1': {}\".format(sum(y_train == 1)))\n",
        "print(\"Before OverSampling, counts of label '0': {} \\n\".format(sum(y_train == 0)))\n",
        "\n",
        "sm = SMOTE(random_state = 7)\n",
        "X_train, y_train = sm.fit_resample(X_train, y_train.ravel())\n",
        "\n",
        "print('After OverSampling, the shape of train_X: {}'.format(X_train.shape))\n",
        "print('After OverSampling, the shape of train_y: {} \\n'.format(y_train.shape))\n",
        "\n",
        "print(\"After OverSampling, counts of label '1': {}\".format(sum(y_train == 1)))\n",
        "print(\"After OverSampling, counts of label '0': {}\".format(sum(y_train == 0)))"
      ],
      "metadata": {
        "colab": {
          "base_uri": "https://localhost:8080/"
        },
        "id": "TBWjHyX0avs3",
        "outputId": "15fbc0a5-1f32-49c7-a85b-f9de3a16263e"
      },
      "execution_count": null,
      "outputs": [
        {
          "output_type": "stream",
          "name": "stdout",
          "text": [
            "Before OverSampling, counts of label '1': 1289\n",
            "Before OverSampling, counts of label '0': 615 \n",
            "\n",
            "After OverSampling, the shape of train_X: (2578, 39)\n",
            "After OverSampling, the shape of train_y: (2578,) \n",
            "\n",
            "After OverSampling, counts of label '1': 1289\n",
            "After OverSampling, counts of label '0': 1289\n"
          ]
        }
      ]
    },
    {
      "cell_type": "code",
      "source": [
        "param = {'max_depth':[2,3,4], 'n_estimators':[50,100,150,200]}\n",
        "random_forest = RandomForestClassifier(class_weight ='balanced')\n",
        "c = GridSearchCV(random_forest,param,cv=3,scoring='f1')\n",
        "c.fit(X_train,y_train)\n",
        "def display(results):\n",
        " print(f'Best parameters are : {results.best_params_}')\n",
        " print(f'The score is : {results.best_score_}')\n",
        "display(c)"
      ],
      "metadata": {
        "colab": {
          "base_uri": "https://localhost:8080/"
        },
        "id": "SCZ37pSMbtmY",
        "outputId": "b8a274e2-3141-4484-a82e-ec17832e3064"
      },
      "execution_count": null,
      "outputs": [
        {
          "output_type": "stream",
          "name": "stdout",
          "text": [
            "Best parameters are : {'max_depth': 4, 'n_estimators': 50}\n",
            "The score is : 0.817515652155765\n"
          ]
        }
      ]
    },
    {
      "cell_type": "code",
      "source": [
        "pred = c.predict(X_test)\n",
        "print(classification_report(y_test,pred))\n",
        "print(confusion_matrix(y_test,pred))"
      ],
      "metadata": {
        "colab": {
          "base_uri": "https://localhost:8080/"
        },
        "id": "wuL_fI4ub1d6",
        "outputId": "f807c68e-e8a8-42ff-b0a2-e75fc6131e49"
      },
      "execution_count": null,
      "outputs": [
        {
          "output_type": "stream",
          "name": "stdout",
          "text": [
            "              precision    recall  f1-score   support\n",
            "\n",
            "           0       0.73      0.59      0.65       150\n",
            "           1       0.83      0.90      0.86       327\n",
            "\n",
            "    accuracy                           0.80       477\n",
            "   macro avg       0.78      0.74      0.76       477\n",
            "weighted avg       0.80      0.80      0.80       477\n",
            "\n",
            "[[ 88  62]\n",
            " [ 32 295]]\n"
          ]
        }
      ]
    },
    {
      "cell_type": "markdown",
      "source": [
        "## XG Boost Classifier"
      ],
      "metadata": {
        "id": "4KMAfVZKJIBX"
      }
    },
    {
      "cell_type": "code",
      "source": [
        "my_model = xgb.XGBClassifier(class_weight ='balanced')\n",
        "my_model.fit(X_train, y_train)\n",
        "\n",
        "y_pred = my_model.predict(X_test)\n",
        "\n",
        "print(classification_report(y_test, y_pred))\n",
        "cm = confusion_matrix(y_test, y_pred)\n",
        "print(cm)"
      ],
      "metadata": {
        "colab": {
          "base_uri": "https://localhost:8080/"
        },
        "id": "oJV3L0rbIa8U",
        "outputId": "f24add0f-9f13-478e-b18c-a8a918b1d206"
      },
      "execution_count": null,
      "outputs": [
        {
          "output_type": "stream",
          "name": "stderr",
          "text": [
            "/usr/local/lib/python3.10/dist-packages/xgboost/core.py:160: UserWarning: [06:01:28] WARNING: /workspace/src/learner.cc:742: \n",
            "Parameters: { \"class_weight\" } are not used.\n",
            "\n",
            "  warnings.warn(smsg, UserWarning)\n"
          ]
        },
        {
          "output_type": "stream",
          "name": "stdout",
          "text": [
            "              precision    recall  f1-score   support\n",
            "\n",
            "           0       0.72      0.51      0.60       150\n",
            "           1       0.80      0.91      0.85       327\n",
            "\n",
            "    accuracy                           0.78       477\n",
            "   macro avg       0.76      0.71      0.72       477\n",
            "weighted avg       0.78      0.78      0.77       477\n",
            "\n",
            "[[ 76  74]\n",
            " [ 29 298]]\n"
          ]
        }
      ]
    },
    {
      "cell_type": "markdown",
      "source": [
        "XG Boost classifier :\n",
        "\n",
        "Out of all predicted 0 72% are correct and out of all 1 80% are correct (Precision).\n",
        "\n",
        "Out of all actual 0 51% are identified correctly, and out of all 1 91% are rightly identified (Recall)."
      ],
      "metadata": {
        "id": "lESAxj2zJgqT"
      }
    },
    {
      "cell_type": "markdown",
      "source": [
        "## Decision Tree Classifier"
      ],
      "metadata": {
        "id": "hvRmHmLCJsYz"
      }
    },
    {
      "cell_type": "code",
      "source": [
        "clf = DecisionTreeClassifier()\n",
        "clf = clf.fit(X_train,y_train)\n",
        "y_pred = clf.predict(X_test)\n",
        "\n",
        "print(classification_report(y_test, y_pred))\n",
        "cm = confusion_matrix(y_test, y_pred)\n",
        "print(cm)"
      ],
      "metadata": {
        "colab": {
          "base_uri": "https://localhost:8080/"
        },
        "id": "_Rj1eHsJJa_e",
        "outputId": "e5fb4f1c-9dde-49f5-9172-1ef35bf0ccc8"
      },
      "execution_count": null,
      "outputs": [
        {
          "output_type": "stream",
          "name": "stdout",
          "text": [
            "              precision    recall  f1-score   support\n",
            "\n",
            "           0       0.54      0.56      0.55       150\n",
            "           1       0.80      0.78      0.79       327\n",
            "\n",
            "    accuracy                           0.71       477\n",
            "   macro avg       0.67      0.67      0.67       477\n",
            "weighted avg       0.72      0.71      0.71       477\n",
            "\n",
            "[[ 84  66]\n",
            " [ 71 256]]\n"
          ]
        }
      ]
    },
    {
      "cell_type": "markdown",
      "source": [
        "Decision Tree Classifier classifier :\n",
        "\n",
        "Out of all predicted 0 54% are correct and out of all 1 80% are correct (Precision).\n",
        "\n",
        "Out of all actual 0 56% are identified correctly, and out of all 1 78% are rightly identified (Recall)."
      ],
      "metadata": {
        "id": "XGbw2ZGJKKWD"
      }
    },
    {
      "cell_type": "markdown",
      "source": [
        "We observe that we are not getting very high recall on target 0 which may be due to small unbalanced\n",
        "dataset.\n",
        "\n",
        "Higher precision means that an algorithm returns more relevant results than irrelevant ones.\n",
        "\n",
        "High recall means that an algorithm returns most of the relevant results (whether or not irrelevant ones are also\n",
        "returned).\n"
      ],
      "metadata": {
        "id": "q3zsnpYEKl27"
      }
    },
    {
      "cell_type": "markdown",
      "source": [
        "### Feature Importances"
      ],
      "metadata": {
        "id": "n1a0LI27clS2"
      }
    },
    {
      "cell_type": "code",
      "source": [
        "param = {'max_depth':[2,3,4], 'n_estimators':[50,100,150,200]}\n",
        "random_forest = RandomForestClassifier(class_weight ='balanced')\n",
        "random_forest.fit(X_train,y_train)\n",
        "def display(results):\n",
        " print(f'Best parameters are : {results.best_params_}')\n",
        " print(f'The score is : {results.best_score_}')\n",
        "display(c)"
      ],
      "metadata": {
        "colab": {
          "base_uri": "https://localhost:8080/"
        },
        "id": "VxUQmPXAeIDz",
        "outputId": "84c2a0a2-1867-428a-84ab-b515627e92f0"
      },
      "execution_count": null,
      "outputs": [
        {
          "output_type": "stream",
          "name": "stdout",
          "text": [
            "Best parameters are : {'max_depth': 4, 'n_estimators': 50}\n",
            "The score is : 0.817515652155765\n"
          ]
        }
      ]
    },
    {
      "cell_type": "code",
      "source": [
        "start_time = time.time()\n",
        "importances = random_forest.feature_importances_\n",
        "std = np.std([tree.feature_importances_ for tree in random_forest.estimators_], axis=0)\n",
        "elapsed_time = time.time() - start_time\n",
        "print(f\"Elapsed time to compute the importances: {elapsed_time:.3f} seconds\")"
      ],
      "metadata": {
        "colab": {
          "base_uri": "https://localhost:8080/"
        },
        "id": "T-dgSzAEckdd",
        "outputId": "e4788dd4-282e-47ff-a5e2-8386a9e10f52"
      },
      "execution_count": null,
      "outputs": [
        {
          "output_type": "stream",
          "name": "stdout",
          "text": [
            "Elapsed time to compute the importances: 0.016 seconds\n"
          ]
        }
      ]
    },
    {
      "cell_type": "code",
      "source": [
        "pd.DataFrame(zip(X_train.columns,std)).sort_values(by=[1], ascending=False)"
      ],
      "metadata": {
        "colab": {
          "base_uri": "https://localhost:8080/",
          "height": 1000
        },
        "id": "xSlKEV7kdTVA",
        "outputId": "b3d6b35a-873f-45c9-b93e-fc75498daf14"
      },
      "execution_count": null,
      "outputs": [
        {
          "output_type": "execute_result",
          "data": {
            "text/plain": [
              "                             0         1\n",
              "7        Last_Quarterly_Rating  0.088945\n",
              "8   Quarterly_Rating_Increased  0.055634\n",
              "6         Total_Business_Value  0.053638\n",
              "5                        Grade  0.043448\n",
              "4          Joining_Designation  0.029701\n",
              "3                       Income  0.020700\n",
              "0                          Age  0.014709\n",
              "2                    Education  0.010593\n",
              "1                       Gender  0.006804\n",
              "9             Income_Increased  0.006191\n",
              "22                    City_C20  0.003846\n",
              "27                    City_C25  0.003605\n",
              "13                    City_C12  0.003511\n",
              "17                    City_C16  0.003500\n",
              "24                    City_C22  0.003432\n",
              "28                    City_C26  0.003332\n",
              "20                    City_C19  0.003312\n",
              "33                     City_C4  0.003193\n",
              "14                    City_C13  0.003149\n",
              "21                     City_C2  0.003132\n",
              "32                     City_C3  0.003020\n",
              "26                    City_C24  0.002978\n",
              "10                     City_C1  0.002939\n",
              "38                     City_C9  0.002933\n",
              "18                    City_C17  0.002926\n",
              "36                     City_C7  0.002925\n",
              "34                     City_C5  0.002859\n",
              "16                    City_C15  0.002811\n",
              "25                    City_C23  0.002801\n",
              "31                    City_C29  0.002787\n",
              "15                    City_C14  0.002636\n",
              "37                     City_C8  0.002588\n",
              "19                    City_C18  0.002582\n",
              "29                    City_C27  0.002387\n",
              "30                    City_C28  0.002384\n",
              "35                     City_C6  0.002343\n",
              "11                    City_C10  0.002338\n",
              "23                    City_C21  0.002204\n",
              "12                    City_C11  0.002202"
            ],
            "text/html": [
              "\n",
              "  <div id=\"df-840ea820-fa41-4dc7-83c2-e910ec4c01c1\" class=\"colab-df-container\">\n",
              "    <div>\n",
              "<style scoped>\n",
              "    .dataframe tbody tr th:only-of-type {\n",
              "        vertical-align: middle;\n",
              "    }\n",
              "\n",
              "    .dataframe tbody tr th {\n",
              "        vertical-align: top;\n",
              "    }\n",
              "\n",
              "    .dataframe thead th {\n",
              "        text-align: right;\n",
              "    }\n",
              "</style>\n",
              "<table border=\"1\" class=\"dataframe\">\n",
              "  <thead>\n",
              "    <tr style=\"text-align: right;\">\n",
              "      <th></th>\n",
              "      <th>0</th>\n",
              "      <th>1</th>\n",
              "    </tr>\n",
              "  </thead>\n",
              "  <tbody>\n",
              "    <tr>\n",
              "      <th>7</th>\n",
              "      <td>Last_Quarterly_Rating</td>\n",
              "      <td>0.088945</td>\n",
              "    </tr>\n",
              "    <tr>\n",
              "      <th>8</th>\n",
              "      <td>Quarterly_Rating_Increased</td>\n",
              "      <td>0.055634</td>\n",
              "    </tr>\n",
              "    <tr>\n",
              "      <th>6</th>\n",
              "      <td>Total_Business_Value</td>\n",
              "      <td>0.053638</td>\n",
              "    </tr>\n",
              "    <tr>\n",
              "      <th>5</th>\n",
              "      <td>Grade</td>\n",
              "      <td>0.043448</td>\n",
              "    </tr>\n",
              "    <tr>\n",
              "      <th>4</th>\n",
              "      <td>Joining_Designation</td>\n",
              "      <td>0.029701</td>\n",
              "    </tr>\n",
              "    <tr>\n",
              "      <th>3</th>\n",
              "      <td>Income</td>\n",
              "      <td>0.020700</td>\n",
              "    </tr>\n",
              "    <tr>\n",
              "      <th>0</th>\n",
              "      <td>Age</td>\n",
              "      <td>0.014709</td>\n",
              "    </tr>\n",
              "    <tr>\n",
              "      <th>2</th>\n",
              "      <td>Education</td>\n",
              "      <td>0.010593</td>\n",
              "    </tr>\n",
              "    <tr>\n",
              "      <th>1</th>\n",
              "      <td>Gender</td>\n",
              "      <td>0.006804</td>\n",
              "    </tr>\n",
              "    <tr>\n",
              "      <th>9</th>\n",
              "      <td>Income_Increased</td>\n",
              "      <td>0.006191</td>\n",
              "    </tr>\n",
              "    <tr>\n",
              "      <th>22</th>\n",
              "      <td>City_C20</td>\n",
              "      <td>0.003846</td>\n",
              "    </tr>\n",
              "    <tr>\n",
              "      <th>27</th>\n",
              "      <td>City_C25</td>\n",
              "      <td>0.003605</td>\n",
              "    </tr>\n",
              "    <tr>\n",
              "      <th>13</th>\n",
              "      <td>City_C12</td>\n",
              "      <td>0.003511</td>\n",
              "    </tr>\n",
              "    <tr>\n",
              "      <th>17</th>\n",
              "      <td>City_C16</td>\n",
              "      <td>0.003500</td>\n",
              "    </tr>\n",
              "    <tr>\n",
              "      <th>24</th>\n",
              "      <td>City_C22</td>\n",
              "      <td>0.003432</td>\n",
              "    </tr>\n",
              "    <tr>\n",
              "      <th>28</th>\n",
              "      <td>City_C26</td>\n",
              "      <td>0.003332</td>\n",
              "    </tr>\n",
              "    <tr>\n",
              "      <th>20</th>\n",
              "      <td>City_C19</td>\n",
              "      <td>0.003312</td>\n",
              "    </tr>\n",
              "    <tr>\n",
              "      <th>33</th>\n",
              "      <td>City_C4</td>\n",
              "      <td>0.003193</td>\n",
              "    </tr>\n",
              "    <tr>\n",
              "      <th>14</th>\n",
              "      <td>City_C13</td>\n",
              "      <td>0.003149</td>\n",
              "    </tr>\n",
              "    <tr>\n",
              "      <th>21</th>\n",
              "      <td>City_C2</td>\n",
              "      <td>0.003132</td>\n",
              "    </tr>\n",
              "    <tr>\n",
              "      <th>32</th>\n",
              "      <td>City_C3</td>\n",
              "      <td>0.003020</td>\n",
              "    </tr>\n",
              "    <tr>\n",
              "      <th>26</th>\n",
              "      <td>City_C24</td>\n",
              "      <td>0.002978</td>\n",
              "    </tr>\n",
              "    <tr>\n",
              "      <th>10</th>\n",
              "      <td>City_C1</td>\n",
              "      <td>0.002939</td>\n",
              "    </tr>\n",
              "    <tr>\n",
              "      <th>38</th>\n",
              "      <td>City_C9</td>\n",
              "      <td>0.002933</td>\n",
              "    </tr>\n",
              "    <tr>\n",
              "      <th>18</th>\n",
              "      <td>City_C17</td>\n",
              "      <td>0.002926</td>\n",
              "    </tr>\n",
              "    <tr>\n",
              "      <th>36</th>\n",
              "      <td>City_C7</td>\n",
              "      <td>0.002925</td>\n",
              "    </tr>\n",
              "    <tr>\n",
              "      <th>34</th>\n",
              "      <td>City_C5</td>\n",
              "      <td>0.002859</td>\n",
              "    </tr>\n",
              "    <tr>\n",
              "      <th>16</th>\n",
              "      <td>City_C15</td>\n",
              "      <td>0.002811</td>\n",
              "    </tr>\n",
              "    <tr>\n",
              "      <th>25</th>\n",
              "      <td>City_C23</td>\n",
              "      <td>0.002801</td>\n",
              "    </tr>\n",
              "    <tr>\n",
              "      <th>31</th>\n",
              "      <td>City_C29</td>\n",
              "      <td>0.002787</td>\n",
              "    </tr>\n",
              "    <tr>\n",
              "      <th>15</th>\n",
              "      <td>City_C14</td>\n",
              "      <td>0.002636</td>\n",
              "    </tr>\n",
              "    <tr>\n",
              "      <th>37</th>\n",
              "      <td>City_C8</td>\n",
              "      <td>0.002588</td>\n",
              "    </tr>\n",
              "    <tr>\n",
              "      <th>19</th>\n",
              "      <td>City_C18</td>\n",
              "      <td>0.002582</td>\n",
              "    </tr>\n",
              "    <tr>\n",
              "      <th>29</th>\n",
              "      <td>City_C27</td>\n",
              "      <td>0.002387</td>\n",
              "    </tr>\n",
              "    <tr>\n",
              "      <th>30</th>\n",
              "      <td>City_C28</td>\n",
              "      <td>0.002384</td>\n",
              "    </tr>\n",
              "    <tr>\n",
              "      <th>35</th>\n",
              "      <td>City_C6</td>\n",
              "      <td>0.002343</td>\n",
              "    </tr>\n",
              "    <tr>\n",
              "      <th>11</th>\n",
              "      <td>City_C10</td>\n",
              "      <td>0.002338</td>\n",
              "    </tr>\n",
              "    <tr>\n",
              "      <th>23</th>\n",
              "      <td>City_C21</td>\n",
              "      <td>0.002204</td>\n",
              "    </tr>\n",
              "    <tr>\n",
              "      <th>12</th>\n",
              "      <td>City_C11</td>\n",
              "      <td>0.002202</td>\n",
              "    </tr>\n",
              "  </tbody>\n",
              "</table>\n",
              "</div>\n",
              "    <div class=\"colab-df-buttons\">\n",
              "\n",
              "  <div class=\"colab-df-container\">\n",
              "    <button class=\"colab-df-convert\" onclick=\"convertToInteractive('df-840ea820-fa41-4dc7-83c2-e910ec4c01c1')\"\n",
              "            title=\"Convert this dataframe to an interactive table.\"\n",
              "            style=\"display:none;\">\n",
              "\n",
              "  <svg xmlns=\"http://www.w3.org/2000/svg\" height=\"24px\" viewBox=\"0 -960 960 960\">\n",
              "    <path d=\"M120-120v-720h720v720H120Zm60-500h600v-160H180v160Zm220 220h160v-160H400v160Zm0 220h160v-160H400v160ZM180-400h160v-160H180v160Zm440 0h160v-160H620v160ZM180-180h160v-160H180v160Zm440 0h160v-160H620v160Z\"/>\n",
              "  </svg>\n",
              "    </button>\n",
              "\n",
              "  <style>\n",
              "    .colab-df-container {\n",
              "      display:flex;\n",
              "      gap: 12px;\n",
              "    }\n",
              "\n",
              "    .colab-df-convert {\n",
              "      background-color: #E8F0FE;\n",
              "      border: none;\n",
              "      border-radius: 50%;\n",
              "      cursor: pointer;\n",
              "      display: none;\n",
              "      fill: #1967D2;\n",
              "      height: 32px;\n",
              "      padding: 0 0 0 0;\n",
              "      width: 32px;\n",
              "    }\n",
              "\n",
              "    .colab-df-convert:hover {\n",
              "      background-color: #E2EBFA;\n",
              "      box-shadow: 0px 1px 2px rgba(60, 64, 67, 0.3), 0px 1px 3px 1px rgba(60, 64, 67, 0.15);\n",
              "      fill: #174EA6;\n",
              "    }\n",
              "\n",
              "    .colab-df-buttons div {\n",
              "      margin-bottom: 4px;\n",
              "    }\n",
              "\n",
              "    [theme=dark] .colab-df-convert {\n",
              "      background-color: #3B4455;\n",
              "      fill: #D2E3FC;\n",
              "    }\n",
              "\n",
              "    [theme=dark] .colab-df-convert:hover {\n",
              "      background-color: #434B5C;\n",
              "      box-shadow: 0px 1px 3px 1px rgba(0, 0, 0, 0.15);\n",
              "      filter: drop-shadow(0px 1px 2px rgba(0, 0, 0, 0.3));\n",
              "      fill: #FFFFFF;\n",
              "    }\n",
              "  </style>\n",
              "\n",
              "    <script>\n",
              "      const buttonEl =\n",
              "        document.querySelector('#df-840ea820-fa41-4dc7-83c2-e910ec4c01c1 button.colab-df-convert');\n",
              "      buttonEl.style.display =\n",
              "        google.colab.kernel.accessAllowed ? 'block' : 'none';\n",
              "\n",
              "      async function convertToInteractive(key) {\n",
              "        const element = document.querySelector('#df-840ea820-fa41-4dc7-83c2-e910ec4c01c1');\n",
              "        const dataTable =\n",
              "          await google.colab.kernel.invokeFunction('convertToInteractive',\n",
              "                                                    [key], {});\n",
              "        if (!dataTable) return;\n",
              "\n",
              "        const docLinkHtml = 'Like what you see? Visit the ' +\n",
              "          '<a target=\"_blank\" href=https://colab.research.google.com/notebooks/data_table.ipynb>data table notebook</a>'\n",
              "          + ' to learn more about interactive tables.';\n",
              "        element.innerHTML = '';\n",
              "        dataTable['output_type'] = 'display_data';\n",
              "        await google.colab.output.renderOutput(dataTable, element);\n",
              "        const docLink = document.createElement('div');\n",
              "        docLink.innerHTML = docLinkHtml;\n",
              "        element.appendChild(docLink);\n",
              "      }\n",
              "    </script>\n",
              "  </div>\n",
              "\n",
              "\n",
              "<div id=\"df-f6056a06-8162-47ca-b886-d68f86136005\">\n",
              "  <button class=\"colab-df-quickchart\" onclick=\"quickchart('df-f6056a06-8162-47ca-b886-d68f86136005')\"\n",
              "            title=\"Suggest charts\"\n",
              "            style=\"display:none;\">\n",
              "\n",
              "<svg xmlns=\"http://www.w3.org/2000/svg\" height=\"24px\"viewBox=\"0 0 24 24\"\n",
              "     width=\"24px\">\n",
              "    <g>\n",
              "        <path d=\"M19 3H5c-1.1 0-2 .9-2 2v14c0 1.1.9 2 2 2h14c1.1 0 2-.9 2-2V5c0-1.1-.9-2-2-2zM9 17H7v-7h2v7zm4 0h-2V7h2v10zm4 0h-2v-4h2v4z\"/>\n",
              "    </g>\n",
              "</svg>\n",
              "  </button>\n",
              "\n",
              "<style>\n",
              "  .colab-df-quickchart {\n",
              "      --bg-color: #E8F0FE;\n",
              "      --fill-color: #1967D2;\n",
              "      --hover-bg-color: #E2EBFA;\n",
              "      --hover-fill-color: #174EA6;\n",
              "      --disabled-fill-color: #AAA;\n",
              "      --disabled-bg-color: #DDD;\n",
              "  }\n",
              "\n",
              "  [theme=dark] .colab-df-quickchart {\n",
              "      --bg-color: #3B4455;\n",
              "      --fill-color: #D2E3FC;\n",
              "      --hover-bg-color: #434B5C;\n",
              "      --hover-fill-color: #FFFFFF;\n",
              "      --disabled-bg-color: #3B4455;\n",
              "      --disabled-fill-color: #666;\n",
              "  }\n",
              "\n",
              "  .colab-df-quickchart {\n",
              "    background-color: var(--bg-color);\n",
              "    border: none;\n",
              "    border-radius: 50%;\n",
              "    cursor: pointer;\n",
              "    display: none;\n",
              "    fill: var(--fill-color);\n",
              "    height: 32px;\n",
              "    padding: 0;\n",
              "    width: 32px;\n",
              "  }\n",
              "\n",
              "  .colab-df-quickchart:hover {\n",
              "    background-color: var(--hover-bg-color);\n",
              "    box-shadow: 0 1px 2px rgba(60, 64, 67, 0.3), 0 1px 3px 1px rgba(60, 64, 67, 0.15);\n",
              "    fill: var(--button-hover-fill-color);\n",
              "  }\n",
              "\n",
              "  .colab-df-quickchart-complete:disabled,\n",
              "  .colab-df-quickchart-complete:disabled:hover {\n",
              "    background-color: var(--disabled-bg-color);\n",
              "    fill: var(--disabled-fill-color);\n",
              "    box-shadow: none;\n",
              "  }\n",
              "\n",
              "  .colab-df-spinner {\n",
              "    border: 2px solid var(--fill-color);\n",
              "    border-color: transparent;\n",
              "    border-bottom-color: var(--fill-color);\n",
              "    animation:\n",
              "      spin 1s steps(1) infinite;\n",
              "  }\n",
              "\n",
              "  @keyframes spin {\n",
              "    0% {\n",
              "      border-color: transparent;\n",
              "      border-bottom-color: var(--fill-color);\n",
              "      border-left-color: var(--fill-color);\n",
              "    }\n",
              "    20% {\n",
              "      border-color: transparent;\n",
              "      border-left-color: var(--fill-color);\n",
              "      border-top-color: var(--fill-color);\n",
              "    }\n",
              "    30% {\n",
              "      border-color: transparent;\n",
              "      border-left-color: var(--fill-color);\n",
              "      border-top-color: var(--fill-color);\n",
              "      border-right-color: var(--fill-color);\n",
              "    }\n",
              "    40% {\n",
              "      border-color: transparent;\n",
              "      border-right-color: var(--fill-color);\n",
              "      border-top-color: var(--fill-color);\n",
              "    }\n",
              "    60% {\n",
              "      border-color: transparent;\n",
              "      border-right-color: var(--fill-color);\n",
              "    }\n",
              "    80% {\n",
              "      border-color: transparent;\n",
              "      border-right-color: var(--fill-color);\n",
              "      border-bottom-color: var(--fill-color);\n",
              "    }\n",
              "    90% {\n",
              "      border-color: transparent;\n",
              "      border-bottom-color: var(--fill-color);\n",
              "    }\n",
              "  }\n",
              "</style>\n",
              "\n",
              "  <script>\n",
              "    async function quickchart(key) {\n",
              "      const quickchartButtonEl =\n",
              "        document.querySelector('#' + key + ' button');\n",
              "      quickchartButtonEl.disabled = true;  // To prevent multiple clicks.\n",
              "      quickchartButtonEl.classList.add('colab-df-spinner');\n",
              "      try {\n",
              "        const charts = await google.colab.kernel.invokeFunction(\n",
              "            'suggestCharts', [key], {});\n",
              "      } catch (error) {\n",
              "        console.error('Error during call to suggestCharts:', error);\n",
              "      }\n",
              "      quickchartButtonEl.classList.remove('colab-df-spinner');\n",
              "      quickchartButtonEl.classList.add('colab-df-quickchart-complete');\n",
              "    }\n",
              "    (() => {\n",
              "      let quickchartButtonEl =\n",
              "        document.querySelector('#df-f6056a06-8162-47ca-b886-d68f86136005 button');\n",
              "      quickchartButtonEl.style.display =\n",
              "        google.colab.kernel.accessAllowed ? 'block' : 'none';\n",
              "    })();\n",
              "  </script>\n",
              "</div>\n",
              "\n",
              "    </div>\n",
              "  </div>\n"
            ],
            "application/vnd.google.colaboratory.intrinsic+json": {
              "type": "dataframe",
              "summary": "{\n  \"name\": \"pd\",\n  \"rows\": 39,\n  \"fields\": [\n    {\n      \"column\": 0,\n      \"properties\": {\n        \"dtype\": \"string\",\n        \"num_unique_values\": 39,\n        \"samples\": [\n          \"City_C27\",\n          \"City_C10\",\n          \"Joining_Designation\"\n        ],\n        \"semantic_type\": \"\",\n        \"description\": \"\"\n      }\n    },\n    {\n      \"column\": 1,\n      \"properties\": {\n        \"dtype\": \"number\",\n        \"std\": 0.01873009184544813,\n        \"min\": 0.0022016756351784616,\n        \"max\": 0.0889448385822249,\n        \"num_unique_values\": 39,\n        \"samples\": [\n          0.0023865564651899904,\n          0.002337565244161631,\n          0.0297005233924413\n        ],\n        \"semantic_type\": \"\",\n        \"description\": \"\"\n      }\n    }\n  ]\n}"
            }
          },
          "metadata": {},
          "execution_count": 88
        }
      ]
    },
    {
      "cell_type": "markdown",
      "source": [
        "## Insights and Recommendations"
      ],
      "metadata": {
        "id": "rgJXiesj-rSl"
      }
    },
    {
      "cell_type": "markdown",
      "source": [
        "-> From feature importances Last_Quarterly_Rating\tand Quarterly_Rating_Increased factors seem to be really influencing the driver attrition rate. Getting bad reviews and ratings or getting frequent warnings for not adhering to compliances could be a reason. We need to check if there's any policy change regarding compliance regulations. Recognitions in form of high rating is definitely a motivating factor for employees to stick to company and perform well.\n",
        "\n",
        "-> The employees whose age is in 20-35 or 50-65 groups are less likely to leave the organization. Recruit drivers from this age group more.\n",
        "\n",
        "-> Change in the incentive program or commission structure, e.g increase in commission rate per ride in the area or in the particular category.\n",
        "\n",
        "-> Relaxing promotion criteria for Grade 1 drivers. Grade 2 and above employees are less likely to leave org."
      ],
      "metadata": {
        "id": "rkHoZURE-0Ym"
      }
    },
    {
      "cell_type": "code",
      "source": [],
      "metadata": {
        "id": "LAm8J526F5mX"
      },
      "execution_count": null,
      "outputs": []
    }
  ]
}