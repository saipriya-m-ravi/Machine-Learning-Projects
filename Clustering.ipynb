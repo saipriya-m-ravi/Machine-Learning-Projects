{
  "nbformat": 4,
  "nbformat_minor": 0,
  "metadata": {
    "colab": {
      "provenance": []
    },
    "kernelspec": {
      "name": "python3",
      "display_name": "Python 3"
    },
    "language_info": {
      "name": "python"
    }
  },
  "cells": [
    {
      "cell_type": "markdown",
      "source": [
        "# Problem Statement:\n",
        "\n",
        "Details of a segment of learners of an online learning platform offering Software Development courses are given and we need to cluster the learners on the basis of their job profile, company, and other features which we can use to  identify the best companies and job positions to work for.\n",
        "\n",
        "Concepts Used: Manual Clustering, Unsupervised Clustering - K-means, Hierarchical Clustering"
      ],
      "metadata": {
        "id": "oUH73EZ5d3N_"
      }
    },
    {
      "cell_type": "code",
      "execution_count": null,
      "metadata": {
        "id": "5uCOU93odygI"
      },
      "outputs": [],
      "source": [
        "import pandas as pd\n",
        "import numpy as np\n",
        "import re"
      ]
    },
    {
      "cell_type": "markdown",
      "source": [
        "## Structure of dataset"
      ],
      "metadata": {
        "id": "p1EEGJ9gcAvA"
      }
    },
    {
      "cell_type": "code",
      "source": [
        "df=pd.read_csv(\"clustering.csv\")\n",
        "df.head()"
      ],
      "metadata": {
        "id": "hUOUBsA2ZXFM"
      },
      "execution_count": null,
      "outputs": []
    },
    {
      "cell_type": "code",
      "source": [
        "print(df.shape)"
      ],
      "metadata": {
        "colab": {
          "base_uri": "https://localhost:8080/"
        },
        "id": "Y85X6mnHcFw3",
        "outputId": "edc76133-4eff-434c-98b9-6630e14dcc3f"
      },
      "execution_count": null,
      "outputs": [
        {
          "output_type": "stream",
          "name": "stdout",
          "text": [
            "(205843, 7)\n"
          ]
        }
      ]
    },
    {
      "cell_type": "code",
      "source": [
        "df.info()"
      ],
      "metadata": {
        "colab": {
          "base_uri": "https://localhost:8080/"
        },
        "id": "cQeDPYCTbA5b",
        "outputId": "131bdc60-beaf-489b-e726-23f1aabc2473"
      },
      "execution_count": null,
      "outputs": [
        {
          "output_type": "stream",
          "name": "stdout",
          "text": [
            "<class 'pandas.core.frame.DataFrame'>\n",
            "RangeIndex: 205843 entries, 0 to 205842\n",
            "Data columns (total 7 columns):\n",
            " #   Column            Non-Null Count   Dtype  \n",
            "---  ------            --------------   -----  \n",
            " 0   Unnamed: 0        205843 non-null  int64  \n",
            " 1   company_hash      205799 non-null  object \n",
            " 2   email_hash        205843 non-null  object \n",
            " 3   orgyear           205757 non-null  float64\n",
            " 4   ctc               205843 non-null  int64  \n",
            " 5   job_position      153279 non-null  object \n",
            " 6   ctc_updated_year  205843 non-null  float64\n",
            "dtypes: float64(2), int64(2), object(3)\n",
            "memory usage: 11.0+ MB\n"
          ]
        }
      ]
    },
    {
      "cell_type": "code",
      "source": [
        "df['job_position'].value_counts()"
      ],
      "metadata": {
        "colab": {
          "base_uri": "https://localhost:8080/"
        },
        "id": "SdIxp_bmbm7s",
        "outputId": "611a8120-d1df-4e4c-e026-7ecc0e8b9028"
      },
      "execution_count": null,
      "outputs": [
        {
          "output_type": "execute_result",
          "data": {
            "text/plain": [
              "job_position\n",
              "Backend Engineer                 43554\n",
              "FullStack Engineer               24717\n",
              "Other                            18071\n",
              "Frontend Engineer                10417\n",
              "Engineering Leadership            6870\n",
              "                                 ...  \n",
              "PhD. Student                         1\n",
              "Front-End Developer                  1\n",
              "ayS                                  1\n",
              "Principal Product Engineer           1\n",
              "Android Application developer        1\n",
              "Name: count, Length: 1016, dtype: int64"
            ]
          },
          "metadata": {},
          "execution_count": 76
        }
      ]
    },
    {
      "cell_type": "markdown",
      "source": [
        "## Data Preprocessing"
      ],
      "metadata": {
        "id": "cJZpVcKCcKyR"
      }
    },
    {
      "cell_type": "code",
      "source": [
        "df.drop(columns=['email_hash','Unnamed: 0'],inplace=True)"
      ],
      "metadata": {
        "id": "28rZuaYZb023"
      },
      "execution_count": null,
      "outputs": []
    },
    {
      "cell_type": "code",
      "source": [
        "df['job_position'].nunique()"
      ],
      "metadata": {
        "colab": {
          "base_uri": "https://localhost:8080/"
        },
        "id": "n89uL36ocRC3",
        "outputId": "ed86bc12-055b-49a0-fcb5-40a80978e098"
      },
      "execution_count": null,
      "outputs": [
        {
          "output_type": "execute_result",
          "data": {
            "text/plain": [
              "1016"
            ]
          },
          "metadata": {},
          "execution_count": 78
        }
      ]
    },
    {
      "cell_type": "code",
      "source": [
        "def preprocess_string(string):\n",
        "    new_string= re.sub('[^A-Za-z ]+', '', string).lower().strip()\n",
        "    return new_string\n",
        "\n",
        "df.job_position=df.job_position.apply(lambda x: preprocess_string(str(x)))\n",
        "df.job_position.nunique()"
      ],
      "metadata": {
        "colab": {
          "base_uri": "https://localhost:8080/"
        },
        "id": "fl2-12IYchnf",
        "outputId": "73b691bb-b118-4800-e1c0-c06686ea653c"
      },
      "execution_count": null,
      "outputs": [
        {
          "output_type": "execute_result",
          "data": {
            "text/plain": [
              "856"
            ]
          },
          "metadata": {},
          "execution_count": 79
        }
      ]
    },
    {
      "cell_type": "code",
      "source": [
        "df.drop_duplicates(inplace=True)\n",
        "df.shape"
      ],
      "metadata": {
        "colab": {
          "base_uri": "https://localhost:8080/"
        },
        "id": "Sa2R3o9mdLu0",
        "outputId": "cbc34686-be3f-4f65-de8d-0641e50c3e63"
      },
      "execution_count": null,
      "outputs": [
        {
          "output_type": "execute_result",
          "data": {
            "text/plain": [
              "(188246, 5)"
            ]
          },
          "metadata": {},
          "execution_count": 80
        }
      ]
    },
    {
      "cell_type": "code",
      "source": [
        "df['company_hash'].value_counts().sort_index()"
      ],
      "metadata": {
        "colab": {
          "base_uri": "https://localhost:8080/"
        },
        "id": "-V578I46dS_v",
        "outputId": "49232ea0-61c2-44e9-eb69-bc380c37211a"
      },
      "execution_count": null,
      "outputs": [
        {
          "output_type": "execute_result",
          "data": {
            "text/plain": [
              "company_hash\n",
              "0                                 2\n",
              "0000                              1\n",
              "01 ojztqsj                        2\n",
              "05mz exzytvrny uqxcvnt rxbxnta    2\n",
              "1                                 2\n",
              "                                 ..\n",
              "zyvzwt wgzohrnxzs tzsxzttqo       1\n",
              "zz                                2\n",
              "zzb ztdnstz vacxogqj ucn rna      2\n",
              "zzgato                            1\n",
              "zzzbzb                            1\n",
              "Name: count, Length: 37299, dtype: int64"
            ]
          },
          "metadata": {},
          "execution_count": 81
        }
      ]
    },
    {
      "cell_type": "code",
      "source": [
        "df.company_hash.nunique()"
      ],
      "metadata": {
        "colab": {
          "base_uri": "https://localhost:8080/"
        },
        "id": "nZ_sQFr-deCW",
        "outputId": "7f35596b-c6d7-41e2-d9f5-51eebadf10c5"
      },
      "execution_count": null,
      "outputs": [
        {
          "output_type": "execute_result",
          "data": {
            "text/plain": [
              "37299"
            ]
          },
          "metadata": {},
          "execution_count": 82
        }
      ]
    },
    {
      "cell_type": "code",
      "source": [
        "df.company_hash=df.company_hash.apply(lambda x: preprocess_string(str(x)))\n",
        "df.company_hash.nunique()"
      ],
      "metadata": {
        "colab": {
          "base_uri": "https://localhost:8080/"
        },
        "id": "_3GPhSCGdf8U",
        "outputId": "c9d8162e-4ebc-43fc-b2c4-ef601e9c127b"
      },
      "execution_count": null,
      "outputs": [
        {
          "output_type": "execute_result",
          "data": {
            "text/plain": [
              "37208"
            ]
          },
          "metadata": {},
          "execution_count": 83
        }
      ]
    },
    {
      "cell_type": "code",
      "source": [
        "df['company_hash'].value_counts().sort_index()"
      ],
      "metadata": {
        "colab": {
          "base_uri": "https://localhost:8080/"
        },
        "id": "W7GRTFewdh9g",
        "outputId": "871260c8-f9f7-44f8-f685-9ef71274bfc4"
      },
      "execution_count": null,
      "outputs": [
        {
          "output_type": "execute_result",
          "data": {
            "text/plain": [
              "company_hash\n",
              "                                                85\n",
              "a                                                1\n",
              "a b onttr wgqu                                   1\n",
              "a j uvnxr owyggr ge tzsxzttqxzs vwvatbj vbmx     1\n",
              "a ntwy ogrhnxgzo ucn rna                         2\n",
              "                                                ..\n",
              "zz                                               2\n",
              "zz wgzztwn mya                                   1\n",
              "zzb ztdnstz vacxogqj ucn rna                     2\n",
              "zzgato                                           1\n",
              "zzzbzb                                           1\n",
              "Name: count, Length: 37208, dtype: int64"
            ]
          },
          "metadata": {},
          "execution_count": 84
        }
      ]
    },
    {
      "cell_type": "code",
      "source": [
        "#removing rows where company or job_position is not available\n",
        "df=df[ ~((df['company_hash']=='') | (df['job_position']==''))]"
      ],
      "metadata": {
        "id": "Yh0AfWShdjry"
      },
      "execution_count": null,
      "outputs": []
    },
    {
      "cell_type": "code",
      "source": [
        "## Missing value treatment using Median imputation\n",
        "df['orgyear'].isnull().sum()"
      ],
      "metadata": {
        "colab": {
          "base_uri": "https://localhost:8080/"
        },
        "id": "UT-Afakjdmrs",
        "outputId": "f10d5177-e431-47a1-c5d5-ae6c62fb5abd"
      },
      "execution_count": null,
      "outputs": [
        {
          "output_type": "execute_result",
          "data": {
            "text/plain": [
              "86"
            ]
          },
          "metadata": {},
          "execution_count": 86
        }
      ]
    },
    {
      "cell_type": "code",
      "source": [
        "df['orgyear'].fillna(df.groupby('company_hash')['orgyear'].transform('median'), inplace=True)"
      ],
      "metadata": {
        "id": "oU4a4RjUd90r"
      },
      "execution_count": null,
      "outputs": []
    },
    {
      "cell_type": "code",
      "source": [
        "df['orgyear'].isnull().sum()"
      ],
      "metadata": {
        "colab": {
          "base_uri": "https://localhost:8080/"
        },
        "id": "w9B3WSt-d_-J",
        "outputId": "ae598ba7-7cf1-4430-d444-8dd20aeb640f"
      },
      "execution_count": null,
      "outputs": [
        {
          "output_type": "execute_result",
          "data": {
            "text/plain": [
              "26"
            ]
          },
          "metadata": {},
          "execution_count": 88
        }
      ]
    },
    {
      "cell_type": "code",
      "source": [
        "df = df.loc[~df['orgyear'].isna()]"
      ],
      "metadata": {
        "id": "cbMwk9p3eH3R"
      },
      "execution_count": null,
      "outputs": []
    },
    {
      "cell_type": "code",
      "source": [
        "df['orgyear'].isnull().sum()"
      ],
      "metadata": {
        "colab": {
          "base_uri": "https://localhost:8080/"
        },
        "id": "3uai4Of6enII",
        "outputId": "cb5e9d31-524b-4f57-d0b0-be3251db163a"
      },
      "execution_count": null,
      "outputs": [
        {
          "output_type": "execute_result",
          "data": {
            "text/plain": [
              "0"
            ]
          },
          "metadata": {},
          "execution_count": 90
        }
      ]
    },
    {
      "cell_type": "code",
      "source": [
        "## Checking for outliers\n",
        "df['orgyear'].value_counts()"
      ],
      "metadata": {
        "colab": {
          "base_uri": "https://localhost:8080/"
        },
        "id": "cVxhFwCEepJ5",
        "outputId": "c795662e-c2a3-4216-e534-93a89e999ef4"
      },
      "execution_count": null,
      "outputs": [
        {
          "output_type": "execute_result",
          "data": {
            "text/plain": [
              "orgyear\n",
              "2018.0    22157\n",
              "2016.0    21477\n",
              "2017.0    21320\n",
              "2015.0    19613\n",
              "2019.0    18550\n",
              "          ...  \n",
              "2107.0        1\n",
              "1972.0        1\n",
              "2101.0        1\n",
              "206.0         1\n",
              "200.0         1\n",
              "Name: count, Length: 79, dtype: int64"
            ]
          },
          "metadata": {},
          "execution_count": 91
        }
      ]
    },
    {
      "cell_type": "code",
      "source": [
        "df.orgyear.describe()"
      ],
      "metadata": {
        "colab": {
          "base_uri": "https://localhost:8080/"
        },
        "id": "1WG-_wtLfgp3",
        "outputId": "48f3188d-2091-4c74-ad9f-dbeb9fce8ad6"
      },
      "execution_count": null,
      "outputs": [
        {
          "output_type": "execute_result",
          "data": {
            "text/plain": [
              "count    188126.000000\n",
              "mean       2014.613995\n",
              "std          66.472920\n",
              "min           0.000000\n",
              "25%        2013.000000\n",
              "50%        2016.000000\n",
              "75%        2018.000000\n",
              "max       20165.000000\n",
              "Name: orgyear, dtype: float64"
            ]
          },
          "metadata": {},
          "execution_count": 92
        }
      ]
    },
    {
      "cell_type": "code",
      "source": [
        "df['orgyear'] = df['orgyear'].clip(lower=df.orgyear.quantile(0.01), upper=df.orgyear.quantile(0.99))\n",
        "df['ctc'] = df['ctc'].clip(lower=df.ctc.quantile(0.01), upper=df.ctc.quantile(0.99))"
      ],
      "metadata": {
        "id": "d0ZfGVcKflHq",
        "colab": {
          "base_uri": "https://localhost:8080/"
        },
        "outputId": "fff8848d-6610-43ee-92b1-1d206b8e69c6"
      },
      "execution_count": null,
      "outputs": [
        {
          "output_type": "stream",
          "name": "stderr",
          "text": [
            "<ipython-input-93-da7511c5fe38>:1: SettingWithCopyWarning: \n",
            "A value is trying to be set on a copy of a slice from a DataFrame.\n",
            "Try using .loc[row_indexer,col_indexer] = value instead\n",
            "\n",
            "See the caveats in the documentation: https://pandas.pydata.org/pandas-docs/stable/user_guide/indexing.html#returning-a-view-versus-a-copy\n",
            "  df['orgyear'] = df['orgyear'].clip(lower=df.orgyear.quantile(0.01), upper=df.orgyear.quantile(0.99))\n",
            "<ipython-input-93-da7511c5fe38>:2: SettingWithCopyWarning: \n",
            "A value is trying to be set on a copy of a slice from a DataFrame.\n",
            "Try using .loc[row_indexer,col_indexer] = value instead\n",
            "\n",
            "See the caveats in the documentation: https://pandas.pydata.org/pandas-docs/stable/user_guide/indexing.html#returning-a-view-versus-a-copy\n",
            "  df['ctc'] = df['ctc'].clip(lower=df.ctc.quantile(0.01), upper=df.ctc.quantile(0.99))\n"
          ]
        }
      ]
    },
    {
      "cell_type": "code",
      "source": [
        "#Removing 'nan's from job_position\n",
        "df.loc[df['job_position']=='nan', 'job_position']=np.nan"
      ],
      "metadata": {
        "id": "4OeggP3IfqK0"
      },
      "execution_count": null,
      "outputs": []
    },
    {
      "cell_type": "code",
      "source": [
        "df['company_hash'].value_counts()"
      ],
      "metadata": {
        "colab": {
          "base_uri": "https://localhost:8080/"
        },
        "id": "-qBOBkbSgCWO",
        "outputId": "65c38c0b-7ebe-4720-832d-dc5a8cf9eb14"
      },
      "execution_count": null,
      "outputs": [
        {
          "output_type": "execute_result",
          "data": {
            "text/plain": [
              "company_hash\n",
              "nvnv wgzohrnvzwj otqcxwto     4284\n",
              "xzegojo                       3043\n",
              "vbvkgz                        3005\n",
              "wgszxkvzn                     2262\n",
              "zgn vuurxwvmrt vwwghzn        2207\n",
              "                              ... \n",
              "nojo wvqa ntwy                   1\n",
              "wtzwgoha ov                      1\n",
              "sgzxjg                           1\n",
              "ozvu gz mhoxztoo ogrhnxgzo       1\n",
              "bvptbjnqxu td vbvkgz             1\n",
              "Name: count, Length: 37180, dtype: int64"
            ]
          },
          "metadata": {},
          "execution_count": 95
        }
      ]
    },
    {
      "cell_type": "code",
      "source": [
        "## Masking companies by renaming it to \"other\" having count<5\n",
        "\n",
        "df.loc[df.groupby('company_hash')['ctc'].transform('count') < 5, 'company_hash'] = 'Others'"
      ],
      "metadata": {
        "id": "n89LhfLCgUl9"
      },
      "execution_count": null,
      "outputs": []
    },
    {
      "cell_type": "code",
      "source": [
        "df['orgyear'].describe()"
      ],
      "metadata": {
        "colab": {
          "base_uri": "https://localhost:8080/"
        },
        "id": "cv2BeO8kgh7q",
        "outputId": "b666f509-96be-4c34-9fee-c28fd7e5bbc2"
      },
      "execution_count": null,
      "outputs": [
        {
          "output_type": "execute_result",
          "data": {
            "text/plain": [
              "count    188126.000000\n",
              "mean       2014.891357\n",
              "std           4.138710\n",
              "min        2000.000000\n",
              "25%        2013.000000\n",
              "50%        2016.000000\n",
              "75%        2018.000000\n",
              "max        2021.000000\n",
              "Name: orgyear, dtype: float64"
            ]
          },
          "metadata": {},
          "execution_count": 97
        }
      ]
    },
    {
      "cell_type": "code",
      "source": [
        "## Creating years of experience column\n",
        "df['years_of_experience']=2024-df['orgyear']"
      ],
      "metadata": {
        "id": "NZtEU6a8gj8f"
      },
      "execution_count": null,
      "outputs": []
    },
    {
      "cell_type": "code",
      "source": [
        "df.drop_duplicates(inplace=True)\n",
        "df.shape"
      ],
      "metadata": {
        "colab": {
          "base_uri": "https://localhost:8080/"
        },
        "id": "-Udabnjkgryw",
        "outputId": "ea54f304-ae89-4a4b-82f8-151c81a1a109"
      },
      "execution_count": null,
      "outputs": [
        {
          "output_type": "execute_result",
          "data": {
            "text/plain": [
              "(166851, 6)"
            ]
          },
          "metadata": {},
          "execution_count": 99
        }
      ]
    },
    {
      "cell_type": "code",
      "source": [
        "df=df[~df['years_of_experience'].isnull()]"
      ],
      "metadata": {
        "id": "JgteDS78hHQO"
      },
      "execution_count": null,
      "outputs": []
    },
    {
      "cell_type": "code",
      "source": [
        "#update cant be before joining\n",
        "df['ctc_updated_year'] = df[['ctc_updated_year', 'orgyear']].max(axis=1)"
      ],
      "metadata": {
        "id": "AoFbQkH2hQj0"
      },
      "execution_count": null,
      "outputs": []
    },
    {
      "cell_type": "code",
      "source": [
        "#Filling remaining null values with others\n",
        "df['job_position'] = df['job_position'].fillna('Others')\n",
        "df['company_hash'] = df['company_hash'].fillna('Others')"
      ],
      "metadata": {
        "id": "CsIpjG-7hSuJ"
      },
      "execution_count": null,
      "outputs": []
    },
    {
      "cell_type": "code",
      "source": [
        "df.isnull().sum()"
      ],
      "metadata": {
        "colab": {
          "base_uri": "https://localhost:8080/"
        },
        "id": "vsEaraVRhVqi",
        "outputId": "76877fbb-74dd-4d21-a9c6-030af256504c"
      },
      "execution_count": null,
      "outputs": [
        {
          "output_type": "execute_result",
          "data": {
            "text/plain": [
              "company_hash           0\n",
              "orgyear                0\n",
              "ctc                    0\n",
              "job_position           0\n",
              "ctc_updated_year       0\n",
              "years_of_experience    0\n",
              "dtype: int64"
            ]
          },
          "metadata": {},
          "execution_count": 103
        }
      ]
    },
    {
      "cell_type": "code",
      "source": [
        "df.drop_duplicates(inplace=True)\n",
        "df.shape"
      ],
      "metadata": {
        "colab": {
          "base_uri": "https://localhost:8080/"
        },
        "id": "089BC527hbYP",
        "outputId": "b67f91ca-9524-40d6-e806-258d2c17ed1d"
      },
      "execution_count": null,
      "outputs": [
        {
          "output_type": "execute_result",
          "data": {
            "text/plain": [
              "(165721, 6)"
            ]
          },
          "metadata": {},
          "execution_count": 104
        }
      ]
    },
    {
      "cell_type": "code",
      "source": [
        "df.describe()"
      ],
      "metadata": {
        "colab": {
          "base_uri": "https://localhost:8080/",
          "height": 300
        },
        "id": "lc1Rc4W1heiZ",
        "outputId": "3180d3f9-1a5c-4ce7-c620-a02415d59545"
      },
      "execution_count": null,
      "outputs": [
        {
          "output_type": "execute_result",
          "data": {
            "text/plain": [
              "             orgyear           ctc  ctc_updated_year  years_of_experience\n",
              "count  165721.000000  1.657210e+05     165721.000000        165721.000000\n",
              "mean     2014.784526  1.539199e+06       2019.583746             9.215474\n",
              "std         4.187307  1.836945e+06          1.325783             4.187307\n",
              "min      2000.000000  3.000000e+04       2015.000000             3.000000\n",
              "25%      2013.000000  6.000000e+05       2019.000000             6.000000\n",
              "50%      2016.000000  1.040000e+06       2020.000000             8.000000\n",
              "75%      2018.000000  1.800000e+06       2021.000000            11.000000\n",
              "max      2021.000000  1.500000e+07       2021.000000            24.000000"
            ],
            "text/html": [
              "\n",
              "  <div id=\"df-fd5ba158-c010-4fed-9483-ef168e03e0f2\" class=\"colab-df-container\">\n",
              "    <div>\n",
              "<style scoped>\n",
              "    .dataframe tbody tr th:only-of-type {\n",
              "        vertical-align: middle;\n",
              "    }\n",
              "\n",
              "    .dataframe tbody tr th {\n",
              "        vertical-align: top;\n",
              "    }\n",
              "\n",
              "    .dataframe thead th {\n",
              "        text-align: right;\n",
              "    }\n",
              "</style>\n",
              "<table border=\"1\" class=\"dataframe\">\n",
              "  <thead>\n",
              "    <tr style=\"text-align: right;\">\n",
              "      <th></th>\n",
              "      <th>orgyear</th>\n",
              "      <th>ctc</th>\n",
              "      <th>ctc_updated_year</th>\n",
              "      <th>years_of_experience</th>\n",
              "    </tr>\n",
              "  </thead>\n",
              "  <tbody>\n",
              "    <tr>\n",
              "      <th>count</th>\n",
              "      <td>165721.000000</td>\n",
              "      <td>1.657210e+05</td>\n",
              "      <td>165721.000000</td>\n",
              "      <td>165721.000000</td>\n",
              "    </tr>\n",
              "    <tr>\n",
              "      <th>mean</th>\n",
              "      <td>2014.784526</td>\n",
              "      <td>1.539199e+06</td>\n",
              "      <td>2019.583746</td>\n",
              "      <td>9.215474</td>\n",
              "    </tr>\n",
              "    <tr>\n",
              "      <th>std</th>\n",
              "      <td>4.187307</td>\n",
              "      <td>1.836945e+06</td>\n",
              "      <td>1.325783</td>\n",
              "      <td>4.187307</td>\n",
              "    </tr>\n",
              "    <tr>\n",
              "      <th>min</th>\n",
              "      <td>2000.000000</td>\n",
              "      <td>3.000000e+04</td>\n",
              "      <td>2015.000000</td>\n",
              "      <td>3.000000</td>\n",
              "    </tr>\n",
              "    <tr>\n",
              "      <th>25%</th>\n",
              "      <td>2013.000000</td>\n",
              "      <td>6.000000e+05</td>\n",
              "      <td>2019.000000</td>\n",
              "      <td>6.000000</td>\n",
              "    </tr>\n",
              "    <tr>\n",
              "      <th>50%</th>\n",
              "      <td>2016.000000</td>\n",
              "      <td>1.040000e+06</td>\n",
              "      <td>2020.000000</td>\n",
              "      <td>8.000000</td>\n",
              "    </tr>\n",
              "    <tr>\n",
              "      <th>75%</th>\n",
              "      <td>2018.000000</td>\n",
              "      <td>1.800000e+06</td>\n",
              "      <td>2021.000000</td>\n",
              "      <td>11.000000</td>\n",
              "    </tr>\n",
              "    <tr>\n",
              "      <th>max</th>\n",
              "      <td>2021.000000</td>\n",
              "      <td>1.500000e+07</td>\n",
              "      <td>2021.000000</td>\n",
              "      <td>24.000000</td>\n",
              "    </tr>\n",
              "  </tbody>\n",
              "</table>\n",
              "</div>\n",
              "    <div class=\"colab-df-buttons\">\n",
              "\n",
              "  <div class=\"colab-df-container\">\n",
              "    <button class=\"colab-df-convert\" onclick=\"convertToInteractive('df-fd5ba158-c010-4fed-9483-ef168e03e0f2')\"\n",
              "            title=\"Convert this dataframe to an interactive table.\"\n",
              "            style=\"display:none;\">\n",
              "\n",
              "  <svg xmlns=\"http://www.w3.org/2000/svg\" height=\"24px\" viewBox=\"0 -960 960 960\">\n",
              "    <path d=\"M120-120v-720h720v720H120Zm60-500h600v-160H180v160Zm220 220h160v-160H400v160Zm0 220h160v-160H400v160ZM180-400h160v-160H180v160Zm440 0h160v-160H620v160ZM180-180h160v-160H180v160Zm440 0h160v-160H620v160Z\"/>\n",
              "  </svg>\n",
              "    </button>\n",
              "\n",
              "  <style>\n",
              "    .colab-df-container {\n",
              "      display:flex;\n",
              "      gap: 12px;\n",
              "    }\n",
              "\n",
              "    .colab-df-convert {\n",
              "      background-color: #E8F0FE;\n",
              "      border: none;\n",
              "      border-radius: 50%;\n",
              "      cursor: pointer;\n",
              "      display: none;\n",
              "      fill: #1967D2;\n",
              "      height: 32px;\n",
              "      padding: 0 0 0 0;\n",
              "      width: 32px;\n",
              "    }\n",
              "\n",
              "    .colab-df-convert:hover {\n",
              "      background-color: #E2EBFA;\n",
              "      box-shadow: 0px 1px 2px rgba(60, 64, 67, 0.3), 0px 1px 3px 1px rgba(60, 64, 67, 0.15);\n",
              "      fill: #174EA6;\n",
              "    }\n",
              "\n",
              "    .colab-df-buttons div {\n",
              "      margin-bottom: 4px;\n",
              "    }\n",
              "\n",
              "    [theme=dark] .colab-df-convert {\n",
              "      background-color: #3B4455;\n",
              "      fill: #D2E3FC;\n",
              "    }\n",
              "\n",
              "    [theme=dark] .colab-df-convert:hover {\n",
              "      background-color: #434B5C;\n",
              "      box-shadow: 0px 1px 3px 1px rgba(0, 0, 0, 0.15);\n",
              "      filter: drop-shadow(0px 1px 2px rgba(0, 0, 0, 0.3));\n",
              "      fill: #FFFFFF;\n",
              "    }\n",
              "  </style>\n",
              "\n",
              "    <script>\n",
              "      const buttonEl =\n",
              "        document.querySelector('#df-fd5ba158-c010-4fed-9483-ef168e03e0f2 button.colab-df-convert');\n",
              "      buttonEl.style.display =\n",
              "        google.colab.kernel.accessAllowed ? 'block' : 'none';\n",
              "\n",
              "      async function convertToInteractive(key) {\n",
              "        const element = document.querySelector('#df-fd5ba158-c010-4fed-9483-ef168e03e0f2');\n",
              "        const dataTable =\n",
              "          await google.colab.kernel.invokeFunction('convertToInteractive',\n",
              "                                                    [key], {});\n",
              "        if (!dataTable) return;\n",
              "\n",
              "        const docLinkHtml = 'Like what you see? Visit the ' +\n",
              "          '<a target=\"_blank\" href=https://colab.research.google.com/notebooks/data_table.ipynb>data table notebook</a>'\n",
              "          + ' to learn more about interactive tables.';\n",
              "        element.innerHTML = '';\n",
              "        dataTable['output_type'] = 'display_data';\n",
              "        await google.colab.output.renderOutput(dataTable, element);\n",
              "        const docLink = document.createElement('div');\n",
              "        docLink.innerHTML = docLinkHtml;\n",
              "        element.appendChild(docLink);\n",
              "      }\n",
              "    </script>\n",
              "  </div>\n",
              "\n",
              "\n",
              "<div id=\"df-616d6507-3725-4c0b-8c99-8b4b8d6e7cd4\">\n",
              "  <button class=\"colab-df-quickchart\" onclick=\"quickchart('df-616d6507-3725-4c0b-8c99-8b4b8d6e7cd4')\"\n",
              "            title=\"Suggest charts\"\n",
              "            style=\"display:none;\">\n",
              "\n",
              "<svg xmlns=\"http://www.w3.org/2000/svg\" height=\"24px\"viewBox=\"0 0 24 24\"\n",
              "     width=\"24px\">\n",
              "    <g>\n",
              "        <path d=\"M19 3H5c-1.1 0-2 .9-2 2v14c0 1.1.9 2 2 2h14c1.1 0 2-.9 2-2V5c0-1.1-.9-2-2-2zM9 17H7v-7h2v7zm4 0h-2V7h2v10zm4 0h-2v-4h2v4z\"/>\n",
              "    </g>\n",
              "</svg>\n",
              "  </button>\n",
              "\n",
              "<style>\n",
              "  .colab-df-quickchart {\n",
              "      --bg-color: #E8F0FE;\n",
              "      --fill-color: #1967D2;\n",
              "      --hover-bg-color: #E2EBFA;\n",
              "      --hover-fill-color: #174EA6;\n",
              "      --disabled-fill-color: #AAA;\n",
              "      --disabled-bg-color: #DDD;\n",
              "  }\n",
              "\n",
              "  [theme=dark] .colab-df-quickchart {\n",
              "      --bg-color: #3B4455;\n",
              "      --fill-color: #D2E3FC;\n",
              "      --hover-bg-color: #434B5C;\n",
              "      --hover-fill-color: #FFFFFF;\n",
              "      --disabled-bg-color: #3B4455;\n",
              "      --disabled-fill-color: #666;\n",
              "  }\n",
              "\n",
              "  .colab-df-quickchart {\n",
              "    background-color: var(--bg-color);\n",
              "    border: none;\n",
              "    border-radius: 50%;\n",
              "    cursor: pointer;\n",
              "    display: none;\n",
              "    fill: var(--fill-color);\n",
              "    height: 32px;\n",
              "    padding: 0;\n",
              "    width: 32px;\n",
              "  }\n",
              "\n",
              "  .colab-df-quickchart:hover {\n",
              "    background-color: var(--hover-bg-color);\n",
              "    box-shadow: 0 1px 2px rgba(60, 64, 67, 0.3), 0 1px 3px 1px rgba(60, 64, 67, 0.15);\n",
              "    fill: var(--button-hover-fill-color);\n",
              "  }\n",
              "\n",
              "  .colab-df-quickchart-complete:disabled,\n",
              "  .colab-df-quickchart-complete:disabled:hover {\n",
              "    background-color: var(--disabled-bg-color);\n",
              "    fill: var(--disabled-fill-color);\n",
              "    box-shadow: none;\n",
              "  }\n",
              "\n",
              "  .colab-df-spinner {\n",
              "    border: 2px solid var(--fill-color);\n",
              "    border-color: transparent;\n",
              "    border-bottom-color: var(--fill-color);\n",
              "    animation:\n",
              "      spin 1s steps(1) infinite;\n",
              "  }\n",
              "\n",
              "  @keyframes spin {\n",
              "    0% {\n",
              "      border-color: transparent;\n",
              "      border-bottom-color: var(--fill-color);\n",
              "      border-left-color: var(--fill-color);\n",
              "    }\n",
              "    20% {\n",
              "      border-color: transparent;\n",
              "      border-left-color: var(--fill-color);\n",
              "      border-top-color: var(--fill-color);\n",
              "    }\n",
              "    30% {\n",
              "      border-color: transparent;\n",
              "      border-left-color: var(--fill-color);\n",
              "      border-top-color: var(--fill-color);\n",
              "      border-right-color: var(--fill-color);\n",
              "    }\n",
              "    40% {\n",
              "      border-color: transparent;\n",
              "      border-right-color: var(--fill-color);\n",
              "      border-top-color: var(--fill-color);\n",
              "    }\n",
              "    60% {\n",
              "      border-color: transparent;\n",
              "      border-right-color: var(--fill-color);\n",
              "    }\n",
              "    80% {\n",
              "      border-color: transparent;\n",
              "      border-right-color: var(--fill-color);\n",
              "      border-bottom-color: var(--fill-color);\n",
              "    }\n",
              "    90% {\n",
              "      border-color: transparent;\n",
              "      border-bottom-color: var(--fill-color);\n",
              "    }\n",
              "  }\n",
              "</style>\n",
              "\n",
              "  <script>\n",
              "    async function quickchart(key) {\n",
              "      const quickchartButtonEl =\n",
              "        document.querySelector('#' + key + ' button');\n",
              "      quickchartButtonEl.disabled = true;  // To prevent multiple clicks.\n",
              "      quickchartButtonEl.classList.add('colab-df-spinner');\n",
              "      try {\n",
              "        const charts = await google.colab.kernel.invokeFunction(\n",
              "            'suggestCharts', [key], {});\n",
              "      } catch (error) {\n",
              "        console.error('Error during call to suggestCharts:', error);\n",
              "      }\n",
              "      quickchartButtonEl.classList.remove('colab-df-spinner');\n",
              "      quickchartButtonEl.classList.add('colab-df-quickchart-complete');\n",
              "    }\n",
              "    (() => {\n",
              "      let quickchartButtonEl =\n",
              "        document.querySelector('#df-616d6507-3725-4c0b-8c99-8b4b8d6e7cd4 button');\n",
              "      quickchartButtonEl.style.display =\n",
              "        google.colab.kernel.accessAllowed ? 'block' : 'none';\n",
              "    })();\n",
              "  </script>\n",
              "</div>\n",
              "\n",
              "    </div>\n",
              "  </div>\n"
            ],
            "application/vnd.google.colaboratory.intrinsic+json": {
              "type": "dataframe",
              "summary": "{\n  \"name\": \"df\",\n  \"rows\": 8,\n  \"fields\": [\n    {\n      \"column\": \"orgyear\",\n      \"properties\": {\n        \"dtype\": \"number\",\n        \"std\": 57985.001816078,\n        \"min\": 4.187307199444177,\n        \"max\": 165721.0,\n        \"num_unique_values\": 8,\n        \"samples\": [\n          2014.7845264028094,\n          2016.0,\n          165721.0\n        ],\n        \"semantic_type\": \"\",\n        \"description\": \"\"\n      }\n    },\n    {\n      \"column\": \"ctc\",\n      \"properties\": {\n        \"dtype\": \"number\",\n        \"std\": 4998402.432423191,\n        \"min\": 30000.0,\n        \"max\": 15000000.0,\n        \"num_unique_values\": 8,\n        \"samples\": [\n          1539199.3331623632,\n          1040000.0,\n          165721.0\n        ],\n        \"semantic_type\": \"\",\n        \"description\": \"\"\n      }\n    },\n    {\n      \"column\": \"ctc_updated_year\",\n      \"properties\": {\n        \"dtype\": \"number\",\n        \"std\": 57983.52496438494,\n        \"min\": 1.3257826390312508,\n        \"max\": 165721.0,\n        \"num_unique_values\": 7,\n        \"samples\": [\n          165721.0,\n          2019.5837461758015,\n          2020.0\n        ],\n        \"semantic_type\": \"\",\n        \"description\": \"\"\n      }\n    },\n    {\n      \"column\": \"years_of_experience\",\n      \"properties\": {\n        \"dtype\": \"number\",\n        \"std\": 58587.91846579674,\n        \"min\": 3.0,\n        \"max\": 165721.0,\n        \"num_unique_values\": 8,\n        \"samples\": [\n          9.215473597190458,\n          8.0,\n          165721.0\n        ],\n        \"semantic_type\": \"\",\n        \"description\": \"\"\n      }\n    }\n  ]\n}"
            }
          },
          "metadata": {},
          "execution_count": 105
        }
      ]
    },
    {
      "cell_type": "markdown",
      "source": [
        "# Manual Clustering"
      ],
      "metadata": {
        "id": "rHKnS3OyhvYT"
      }
    },
    {
      "cell_type": "code",
      "source": [
        "## Manual clustering based on company, job position, years of experience\n",
        "grouped_c_j_y = df.groupby(['years_of_experience','job_position','company_hash'])['ctc'].describe()\n",
        "grouped_c_j_y"
      ],
      "metadata": {
        "id": "FbFY8Qqthgf0"
      },
      "execution_count": null,
      "outputs": []
    },
    {
      "cell_type": "code",
      "source": [
        "df_cjy=df.merge(grouped_c_j_y, on=['years_of_experience','job_position','company_hash'], how='left')\n",
        "df_cjy"
      ],
      "metadata": {
        "id": "klaKGehQitHB"
      },
      "execution_count": null,
      "outputs": []
    },
    {
      "cell_type": "code",
      "source": [
        "## Creating designation based on the ctc they have in their respective company.\n",
        "\n",
        "def segment(a,b_50,b_75):\n",
        "    if a<b_50:\n",
        "        return 3\n",
        "    elif a>=b_50 and a<=b_75:\n",
        "        return 2\n",
        "\n",
        "    elif a>=b_75:\n",
        "        return 1\n",
        "\n",
        "df_cjy['designation'] =df_cjy.apply(lambda x: segment(x['ctc'],x['50%'],x['75%']),axis=1)\n",
        "df_cjy.head()"
      ],
      "metadata": {
        "id": "1sNMDtUNjscE"
      },
      "execution_count": null,
      "outputs": []
    },
    {
      "cell_type": "code",
      "source": [
        "df_cjy.designation.value_counts(normalize=True)"
      ],
      "metadata": {
        "colab": {
          "base_uri": "https://localhost:8080/"
        },
        "id": "d2BFdQT5k27w",
        "outputId": "bdf1a5fd-208a-4146-f26f-fef95cbbdc2a"
      },
      "execution_count": null,
      "outputs": [
        {
          "output_type": "execute_result",
          "data": {
            "text/plain": [
              "designation\n",
              "2    0.453630\n",
              "3    0.333193\n",
              "1    0.213178\n",
              "Name: proportion, dtype: float64"
            ]
          },
          "metadata": {},
          "execution_count": 109
        }
      ]
    },
    {
      "cell_type": "code",
      "source": [
        "## Manual clustering based on company and job position\n",
        "grouped_c_j=df.groupby(['job_position','company_hash'])['ctc'].describe()\n",
        "grouped_c_j.head()"
      ],
      "metadata": {
        "id": "Vd14Nc7nlBDQ"
      },
      "execution_count": null,
      "outputs": []
    },
    {
      "cell_type": "code",
      "source": [
        "df_cj=df.merge(grouped_c_j, on=['job_position','company_hash'], how='left')\n",
        "df_cj.head()"
      ],
      "metadata": {
        "id": "ZyTcgXt4lP6Q"
      },
      "execution_count": null,
      "outputs": []
    },
    {
      "cell_type": "code",
      "source": [
        "df_cj['class'] = df_cj.apply(lambda x: segment(x['ctc'],x['50%'],x['75%']),axis=1)\n",
        "df_cj.head()"
      ],
      "metadata": {
        "id": "FXfg8FQFlZGb"
      },
      "execution_count": null,
      "outputs": []
    },
    {
      "cell_type": "code",
      "source": [
        "df_cj['class'].value_counts(normalize=True)"
      ],
      "metadata": {
        "colab": {
          "base_uri": "https://localhost:8080/"
        },
        "id": "v1J1E1sqlb8C",
        "outputId": "d283e4ce-f527-40d4-c768-b8065913969e"
      },
      "execution_count": null,
      "outputs": [
        {
          "output_type": "execute_result",
          "data": {
            "text/plain": [
              "class\n",
              "3    0.435135\n",
              "2    0.320412\n",
              "1    0.244453\n",
              "Name: proportion, dtype: float64"
            ]
          },
          "metadata": {},
          "execution_count": 113
        }
      ]
    },
    {
      "cell_type": "code",
      "source": [
        "# job position that has the highest class\n",
        "df_cj[df_cj['class']==1][['job_position','ctc']].groupby('job_position')['ctc'].describe().sort_values(by=['count','mean'],ascending=False)[:10]"
      ],
      "metadata": {
        "colab": {
          "base_uri": "https://localhost:8080/",
          "height": 394
        },
        "id": "XBr6HVojmJ10",
        "outputId": "db8a8b4e-0050-45ec-8b33-2bfd3e225f02"
      },
      "execution_count": null,
      "outputs": [
        {
          "output_type": "execute_result",
          "data": {
            "text/plain": [
              "                         count          mean           std       min  \\\n",
              "job_position                                                           \n",
              "backend engineer        9237.0  3.146579e+06  2.571010e+06   50000.0   \n",
              "Others                  9163.0  2.980927e+06  2.645259e+06   50000.0   \n",
              "fullstack engineer      5188.0  2.800158e+06  2.675664e+06   59000.0   \n",
              "other                   3493.0  3.209997e+06  3.758033e+06   72000.0   \n",
              "frontend engineer       2169.0  2.428533e+06  2.589030e+06   90000.0   \n",
              "engineering leadership  1513.0  5.082294e+06  3.073236e+06  200000.0   \n",
              "qa engineer             1380.0  2.293655e+06  2.631809e+06   65000.0   \n",
              "data scientist          1143.0  2.995843e+06  2.488414e+06  115000.0   \n",
              "sdet                    1066.0  2.087732e+06  1.914372e+06  400000.0   \n",
              "devops engineer         1035.0  2.402530e+06  2.074831e+06   56000.0   \n",
              "\n",
              "                              25%        50%        75%         max  \n",
              "job_position                                                         \n",
              "backend engineer        1700000.0  2400000.0  3700000.0  15000000.0  \n",
              "Others                  1500000.0  2250000.0  3400000.0  15000000.0  \n",
              "fullstack engineer      1426000.0  2000000.0  3000000.0  15000000.0  \n",
              "other                   1200000.0  1880000.0  3000000.0  15000000.0  \n",
              "frontend engineer       1300000.0  1700000.0  2400000.0  15000000.0  \n",
              "engineering leadership  3300000.0  4100000.0  5500000.0  15000000.0  \n",
              "qa engineer             1000000.0  1500000.0  2555000.0  15000000.0  \n",
              "data scientist          1705000.0  2300000.0  3200000.0  15000000.0  \n",
              "sdet                     950000.0  1600000.0  2500000.0  15000000.0  \n",
              "devops engineer         1400000.0  1900000.0  2600000.0  15000000.0  "
            ],
            "text/html": [
              "\n",
              "  <div id=\"df-705792bd-8253-4934-b49e-c851b3aafcfe\" class=\"colab-df-container\">\n",
              "    <div>\n",
              "<style scoped>\n",
              "    .dataframe tbody tr th:only-of-type {\n",
              "        vertical-align: middle;\n",
              "    }\n",
              "\n",
              "    .dataframe tbody tr th {\n",
              "        vertical-align: top;\n",
              "    }\n",
              "\n",
              "    .dataframe thead th {\n",
              "        text-align: right;\n",
              "    }\n",
              "</style>\n",
              "<table border=\"1\" class=\"dataframe\">\n",
              "  <thead>\n",
              "    <tr style=\"text-align: right;\">\n",
              "      <th></th>\n",
              "      <th>count</th>\n",
              "      <th>mean</th>\n",
              "      <th>std</th>\n",
              "      <th>min</th>\n",
              "      <th>25%</th>\n",
              "      <th>50%</th>\n",
              "      <th>75%</th>\n",
              "      <th>max</th>\n",
              "    </tr>\n",
              "    <tr>\n",
              "      <th>job_position</th>\n",
              "      <th></th>\n",
              "      <th></th>\n",
              "      <th></th>\n",
              "      <th></th>\n",
              "      <th></th>\n",
              "      <th></th>\n",
              "      <th></th>\n",
              "      <th></th>\n",
              "    </tr>\n",
              "  </thead>\n",
              "  <tbody>\n",
              "    <tr>\n",
              "      <th>backend engineer</th>\n",
              "      <td>9237.0</td>\n",
              "      <td>3.146579e+06</td>\n",
              "      <td>2.571010e+06</td>\n",
              "      <td>50000.0</td>\n",
              "      <td>1700000.0</td>\n",
              "      <td>2400000.0</td>\n",
              "      <td>3700000.0</td>\n",
              "      <td>15000000.0</td>\n",
              "    </tr>\n",
              "    <tr>\n",
              "      <th>Others</th>\n",
              "      <td>9163.0</td>\n",
              "      <td>2.980927e+06</td>\n",
              "      <td>2.645259e+06</td>\n",
              "      <td>50000.0</td>\n",
              "      <td>1500000.0</td>\n",
              "      <td>2250000.0</td>\n",
              "      <td>3400000.0</td>\n",
              "      <td>15000000.0</td>\n",
              "    </tr>\n",
              "    <tr>\n",
              "      <th>fullstack engineer</th>\n",
              "      <td>5188.0</td>\n",
              "      <td>2.800158e+06</td>\n",
              "      <td>2.675664e+06</td>\n",
              "      <td>59000.0</td>\n",
              "      <td>1426000.0</td>\n",
              "      <td>2000000.0</td>\n",
              "      <td>3000000.0</td>\n",
              "      <td>15000000.0</td>\n",
              "    </tr>\n",
              "    <tr>\n",
              "      <th>other</th>\n",
              "      <td>3493.0</td>\n",
              "      <td>3.209997e+06</td>\n",
              "      <td>3.758033e+06</td>\n",
              "      <td>72000.0</td>\n",
              "      <td>1200000.0</td>\n",
              "      <td>1880000.0</td>\n",
              "      <td>3000000.0</td>\n",
              "      <td>15000000.0</td>\n",
              "    </tr>\n",
              "    <tr>\n",
              "      <th>frontend engineer</th>\n",
              "      <td>2169.0</td>\n",
              "      <td>2.428533e+06</td>\n",
              "      <td>2.589030e+06</td>\n",
              "      <td>90000.0</td>\n",
              "      <td>1300000.0</td>\n",
              "      <td>1700000.0</td>\n",
              "      <td>2400000.0</td>\n",
              "      <td>15000000.0</td>\n",
              "    </tr>\n",
              "    <tr>\n",
              "      <th>engineering leadership</th>\n",
              "      <td>1513.0</td>\n",
              "      <td>5.082294e+06</td>\n",
              "      <td>3.073236e+06</td>\n",
              "      <td>200000.0</td>\n",
              "      <td>3300000.0</td>\n",
              "      <td>4100000.0</td>\n",
              "      <td>5500000.0</td>\n",
              "      <td>15000000.0</td>\n",
              "    </tr>\n",
              "    <tr>\n",
              "      <th>qa engineer</th>\n",
              "      <td>1380.0</td>\n",
              "      <td>2.293655e+06</td>\n",
              "      <td>2.631809e+06</td>\n",
              "      <td>65000.0</td>\n",
              "      <td>1000000.0</td>\n",
              "      <td>1500000.0</td>\n",
              "      <td>2555000.0</td>\n",
              "      <td>15000000.0</td>\n",
              "    </tr>\n",
              "    <tr>\n",
              "      <th>data scientist</th>\n",
              "      <td>1143.0</td>\n",
              "      <td>2.995843e+06</td>\n",
              "      <td>2.488414e+06</td>\n",
              "      <td>115000.0</td>\n",
              "      <td>1705000.0</td>\n",
              "      <td>2300000.0</td>\n",
              "      <td>3200000.0</td>\n",
              "      <td>15000000.0</td>\n",
              "    </tr>\n",
              "    <tr>\n",
              "      <th>sdet</th>\n",
              "      <td>1066.0</td>\n",
              "      <td>2.087732e+06</td>\n",
              "      <td>1.914372e+06</td>\n",
              "      <td>400000.0</td>\n",
              "      <td>950000.0</td>\n",
              "      <td>1600000.0</td>\n",
              "      <td>2500000.0</td>\n",
              "      <td>15000000.0</td>\n",
              "    </tr>\n",
              "    <tr>\n",
              "      <th>devops engineer</th>\n",
              "      <td>1035.0</td>\n",
              "      <td>2.402530e+06</td>\n",
              "      <td>2.074831e+06</td>\n",
              "      <td>56000.0</td>\n",
              "      <td>1400000.0</td>\n",
              "      <td>1900000.0</td>\n",
              "      <td>2600000.0</td>\n",
              "      <td>15000000.0</td>\n",
              "    </tr>\n",
              "  </tbody>\n",
              "</table>\n",
              "</div>\n",
              "    <div class=\"colab-df-buttons\">\n",
              "\n",
              "  <div class=\"colab-df-container\">\n",
              "    <button class=\"colab-df-convert\" onclick=\"convertToInteractive('df-705792bd-8253-4934-b49e-c851b3aafcfe')\"\n",
              "            title=\"Convert this dataframe to an interactive table.\"\n",
              "            style=\"display:none;\">\n",
              "\n",
              "  <svg xmlns=\"http://www.w3.org/2000/svg\" height=\"24px\" viewBox=\"0 -960 960 960\">\n",
              "    <path d=\"M120-120v-720h720v720H120Zm60-500h600v-160H180v160Zm220 220h160v-160H400v160Zm0 220h160v-160H400v160ZM180-400h160v-160H180v160Zm440 0h160v-160H620v160ZM180-180h160v-160H180v160Zm440 0h160v-160H620v160Z\"/>\n",
              "  </svg>\n",
              "    </button>\n",
              "\n",
              "  <style>\n",
              "    .colab-df-container {\n",
              "      display:flex;\n",
              "      gap: 12px;\n",
              "    }\n",
              "\n",
              "    .colab-df-convert {\n",
              "      background-color: #E8F0FE;\n",
              "      border: none;\n",
              "      border-radius: 50%;\n",
              "      cursor: pointer;\n",
              "      display: none;\n",
              "      fill: #1967D2;\n",
              "      height: 32px;\n",
              "      padding: 0 0 0 0;\n",
              "      width: 32px;\n",
              "    }\n",
              "\n",
              "    .colab-df-convert:hover {\n",
              "      background-color: #E2EBFA;\n",
              "      box-shadow: 0px 1px 2px rgba(60, 64, 67, 0.3), 0px 1px 3px 1px rgba(60, 64, 67, 0.15);\n",
              "      fill: #174EA6;\n",
              "    }\n",
              "\n",
              "    .colab-df-buttons div {\n",
              "      margin-bottom: 4px;\n",
              "    }\n",
              "\n",
              "    [theme=dark] .colab-df-convert {\n",
              "      background-color: #3B4455;\n",
              "      fill: #D2E3FC;\n",
              "    }\n",
              "\n",
              "    [theme=dark] .colab-df-convert:hover {\n",
              "      background-color: #434B5C;\n",
              "      box-shadow: 0px 1px 3px 1px rgba(0, 0, 0, 0.15);\n",
              "      filter: drop-shadow(0px 1px 2px rgba(0, 0, 0, 0.3));\n",
              "      fill: #FFFFFF;\n",
              "    }\n",
              "  </style>\n",
              "\n",
              "    <script>\n",
              "      const buttonEl =\n",
              "        document.querySelector('#df-705792bd-8253-4934-b49e-c851b3aafcfe button.colab-df-convert');\n",
              "      buttonEl.style.display =\n",
              "        google.colab.kernel.accessAllowed ? 'block' : 'none';\n",
              "\n",
              "      async function convertToInteractive(key) {\n",
              "        const element = document.querySelector('#df-705792bd-8253-4934-b49e-c851b3aafcfe');\n",
              "        const dataTable =\n",
              "          await google.colab.kernel.invokeFunction('convertToInteractive',\n",
              "                                                    [key], {});\n",
              "        if (!dataTable) return;\n",
              "\n",
              "        const docLinkHtml = 'Like what you see? Visit the ' +\n",
              "          '<a target=\"_blank\" href=https://colab.research.google.com/notebooks/data_table.ipynb>data table notebook</a>'\n",
              "          + ' to learn more about interactive tables.';\n",
              "        element.innerHTML = '';\n",
              "        dataTable['output_type'] = 'display_data';\n",
              "        await google.colab.output.renderOutput(dataTable, element);\n",
              "        const docLink = document.createElement('div');\n",
              "        docLink.innerHTML = docLinkHtml;\n",
              "        element.appendChild(docLink);\n",
              "      }\n",
              "    </script>\n",
              "  </div>\n",
              "\n",
              "\n",
              "<div id=\"df-55f59263-3849-43a4-bf55-e96ec647e60a\">\n",
              "  <button class=\"colab-df-quickchart\" onclick=\"quickchart('df-55f59263-3849-43a4-bf55-e96ec647e60a')\"\n",
              "            title=\"Suggest charts\"\n",
              "            style=\"display:none;\">\n",
              "\n",
              "<svg xmlns=\"http://www.w3.org/2000/svg\" height=\"24px\"viewBox=\"0 0 24 24\"\n",
              "     width=\"24px\">\n",
              "    <g>\n",
              "        <path d=\"M19 3H5c-1.1 0-2 .9-2 2v14c0 1.1.9 2 2 2h14c1.1 0 2-.9 2-2V5c0-1.1-.9-2-2-2zM9 17H7v-7h2v7zm4 0h-2V7h2v10zm4 0h-2v-4h2v4z\"/>\n",
              "    </g>\n",
              "</svg>\n",
              "  </button>\n",
              "\n",
              "<style>\n",
              "  .colab-df-quickchart {\n",
              "      --bg-color: #E8F0FE;\n",
              "      --fill-color: #1967D2;\n",
              "      --hover-bg-color: #E2EBFA;\n",
              "      --hover-fill-color: #174EA6;\n",
              "      --disabled-fill-color: #AAA;\n",
              "      --disabled-bg-color: #DDD;\n",
              "  }\n",
              "\n",
              "  [theme=dark] .colab-df-quickchart {\n",
              "      --bg-color: #3B4455;\n",
              "      --fill-color: #D2E3FC;\n",
              "      --hover-bg-color: #434B5C;\n",
              "      --hover-fill-color: #FFFFFF;\n",
              "      --disabled-bg-color: #3B4455;\n",
              "      --disabled-fill-color: #666;\n",
              "  }\n",
              "\n",
              "  .colab-df-quickchart {\n",
              "    background-color: var(--bg-color);\n",
              "    border: none;\n",
              "    border-radius: 50%;\n",
              "    cursor: pointer;\n",
              "    display: none;\n",
              "    fill: var(--fill-color);\n",
              "    height: 32px;\n",
              "    padding: 0;\n",
              "    width: 32px;\n",
              "  }\n",
              "\n",
              "  .colab-df-quickchart:hover {\n",
              "    background-color: var(--hover-bg-color);\n",
              "    box-shadow: 0 1px 2px rgba(60, 64, 67, 0.3), 0 1px 3px 1px rgba(60, 64, 67, 0.15);\n",
              "    fill: var(--button-hover-fill-color);\n",
              "  }\n",
              "\n",
              "  .colab-df-quickchart-complete:disabled,\n",
              "  .colab-df-quickchart-complete:disabled:hover {\n",
              "    background-color: var(--disabled-bg-color);\n",
              "    fill: var(--disabled-fill-color);\n",
              "    box-shadow: none;\n",
              "  }\n",
              "\n",
              "  .colab-df-spinner {\n",
              "    border: 2px solid var(--fill-color);\n",
              "    border-color: transparent;\n",
              "    border-bottom-color: var(--fill-color);\n",
              "    animation:\n",
              "      spin 1s steps(1) infinite;\n",
              "  }\n",
              "\n",
              "  @keyframes spin {\n",
              "    0% {\n",
              "      border-color: transparent;\n",
              "      border-bottom-color: var(--fill-color);\n",
              "      border-left-color: var(--fill-color);\n",
              "    }\n",
              "    20% {\n",
              "      border-color: transparent;\n",
              "      border-left-color: var(--fill-color);\n",
              "      border-top-color: var(--fill-color);\n",
              "    }\n",
              "    30% {\n",
              "      border-color: transparent;\n",
              "      border-left-color: var(--fill-color);\n",
              "      border-top-color: var(--fill-color);\n",
              "      border-right-color: var(--fill-color);\n",
              "    }\n",
              "    40% {\n",
              "      border-color: transparent;\n",
              "      border-right-color: var(--fill-color);\n",
              "      border-top-color: var(--fill-color);\n",
              "    }\n",
              "    60% {\n",
              "      border-color: transparent;\n",
              "      border-right-color: var(--fill-color);\n",
              "    }\n",
              "    80% {\n",
              "      border-color: transparent;\n",
              "      border-right-color: var(--fill-color);\n",
              "      border-bottom-color: var(--fill-color);\n",
              "    }\n",
              "    90% {\n",
              "      border-color: transparent;\n",
              "      border-bottom-color: var(--fill-color);\n",
              "    }\n",
              "  }\n",
              "</style>\n",
              "\n",
              "  <script>\n",
              "    async function quickchart(key) {\n",
              "      const quickchartButtonEl =\n",
              "        document.querySelector('#' + key + ' button');\n",
              "      quickchartButtonEl.disabled = true;  // To prevent multiple clicks.\n",
              "      quickchartButtonEl.classList.add('colab-df-spinner');\n",
              "      try {\n",
              "        const charts = await google.colab.kernel.invokeFunction(\n",
              "            'suggestCharts', [key], {});\n",
              "      } catch (error) {\n",
              "        console.error('Error during call to suggestCharts:', error);\n",
              "      }\n",
              "      quickchartButtonEl.classList.remove('colab-df-spinner');\n",
              "      quickchartButtonEl.classList.add('colab-df-quickchart-complete');\n",
              "    }\n",
              "    (() => {\n",
              "      let quickchartButtonEl =\n",
              "        document.querySelector('#df-55f59263-3849-43a4-bf55-e96ec647e60a button');\n",
              "      quickchartButtonEl.style.display =\n",
              "        google.colab.kernel.accessAllowed ? 'block' : 'none';\n",
              "    })();\n",
              "  </script>\n",
              "</div>\n",
              "\n",
              "    </div>\n",
              "  </div>\n"
            ],
            "application/vnd.google.colaboratory.intrinsic+json": {
              "type": "dataframe",
              "summary": "{\n  \"name\": \"df_cj[df_cj['class']==1][['job_position','ctc']]\",\n  \"rows\": 10,\n  \"fields\": [\n    {\n      \"column\": \"job_position\",\n      \"properties\": {\n        \"dtype\": \"string\",\n        \"num_unique_values\": 10,\n        \"samples\": [\n          \"sdet\",\n          \"Others\",\n          \"engineering leadership\"\n        ],\n        \"semantic_type\": \"\",\n        \"description\": \"\"\n      }\n    },\n    {\n      \"column\": \"count\",\n      \"properties\": {\n        \"dtype\": \"number\",\n        \"std\": 3258.958833397221,\n        \"min\": 1035.0,\n        \"max\": 9237.0,\n        \"num_unique_values\": 10,\n        \"samples\": [\n          1066.0,\n          9163.0,\n          1513.0\n        ],\n        \"semantic_type\": \"\",\n        \"description\": \"\"\n      }\n    },\n    {\n      \"column\": \"mean\",\n      \"properties\": {\n        \"dtype\": \"number\",\n        \"std\": 844844.4971168388,\n        \"min\": 2087731.6857410881,\n        \"max\": 5082293.70720423,\n        \"num_unique_values\": 10,\n        \"samples\": [\n          2087731.6857410881,\n          2980927.1912037544,\n          5082293.70720423\n        ],\n        \"semantic_type\": \"\",\n        \"description\": \"\"\n      }\n    },\n    {\n      \"column\": \"std\",\n      \"properties\": {\n        \"dtype\": \"number\",\n        \"std\": 507203.6028153772,\n        \"min\": 1914371.5831150631,\n        \"max\": 3758033.3755085603,\n        \"num_unique_values\": 10,\n        \"samples\": [\n          1914371.5831150631,\n          2645258.860422044,\n          3073235.5452527497\n        ],\n        \"semantic_type\": \"\",\n        \"description\": \"\"\n      }\n    },\n    {\n      \"column\": \"min\",\n      \"properties\": {\n        \"dtype\": \"number\",\n        \"std\": 109790.76059082162,\n        \"min\": 50000.0,\n        \"max\": 400000.0,\n        \"num_unique_values\": 9,\n        \"samples\": [\n          400000.0,\n          59000.0,\n          65000.0\n        ],\n        \"semantic_type\": \"\",\n        \"description\": \"\"\n      }\n    },\n    {\n      \"column\": \"25%\",\n      \"properties\": {\n        \"dtype\": \"number\",\n        \"std\": 666405.3571213245,\n        \"min\": 950000.0,\n        \"max\": 3300000.0,\n        \"num_unique_values\": 10,\n        \"samples\": [\n          950000.0,\n          1500000.0,\n          3300000.0\n        ],\n        \"semantic_type\": \"\",\n        \"description\": \"\"\n      }\n    },\n    {\n      \"column\": \"50%\",\n      \"properties\": {\n        \"dtype\": \"number\",\n        \"std\": 743954.1503196133,\n        \"min\": 1500000.0,\n        \"max\": 4100000.0,\n        \"num_unique_values\": 10,\n        \"samples\": [\n          1600000.0,\n          2250000.0,\n          4100000.0\n        ],\n        \"semantic_type\": \"\",\n        \"description\": \"\"\n      }\n    },\n    {\n      \"column\": \"75%\",\n      \"properties\": {\n        \"dtype\": \"number\",\n        \"std\": 916752.8747341528,\n        \"min\": 2400000.0,\n        \"max\": 5500000.0,\n        \"num_unique_values\": 9,\n        \"samples\": [\n          2500000.0,\n          3400000.0,\n          2555000.0\n        ],\n        \"semantic_type\": \"\",\n        \"description\": \"\"\n      }\n    },\n    {\n      \"column\": \"max\",\n      \"properties\": {\n        \"dtype\": \"number\",\n        \"std\": 0.0,\n        \"min\": 15000000.0,\n        \"max\": 15000000.0,\n        \"num_unique_values\": 1,\n        \"samples\": [\n          15000000.0\n        ],\n        \"semantic_type\": \"\",\n        \"description\": \"\"\n      }\n    }\n  ]\n}"
            }
          },
          "metadata": {},
          "execution_count": 114
        }
      ]
    },
    {
      "cell_type": "code",
      "source": [
        "df_cj.drop(columns=['count','mean','std','min','25%','50%','75%','max'],inplace=True)\n",
        "df_cjy.drop(columns=['count','mean','std','min','25%','50%','75%','max'],inplace=True)"
      ],
      "metadata": {
        "id": "i3HOY9WmmQdo"
      },
      "execution_count": null,
      "outputs": []
    },
    {
      "cell_type": "code",
      "source": [
        "df_cj.head()"
      ],
      "metadata": {
        "id": "APjrjcRlmboQ"
      },
      "execution_count": null,
      "outputs": []
    },
    {
      "cell_type": "code",
      "source": [
        "df_cjy.head()"
      ],
      "metadata": {
        "id": "trXlkLA-n2Lh"
      },
      "execution_count": null,
      "outputs": []
    },
    {
      "cell_type": "code",
      "source": [
        "df_cjy_cj=df_cj.merge(df_cjy, on=['company_hash','orgyear','ctc','job_position','years_of_experience','ctc_updated_year'], how='left')\n",
        "df_cjy_cj.head()"
      ],
      "metadata": {
        "id": "GM0pM97Qn4Gy"
      },
      "execution_count": null,
      "outputs": []
    },
    {
      "cell_type": "code",
      "source": [
        "## Manual clustering based on company\n",
        "grouped_c = df.groupby(['company_hash'])['ctc'].describe()\n",
        "df_c = df.merge(grouped_c, on=['company_hash'], how='left')\n",
        "df_c.head()"
      ],
      "metadata": {
        "id": "so7rwRaqoGq1"
      },
      "execution_count": null,
      "outputs": []
    },
    {
      "cell_type": "code",
      "source": [
        "df_c['tier'] =df_c.apply(lambda x: segment(x['ctc'],x['50%'],x['75%']),axis=1)\n",
        "df_c.head()"
      ],
      "metadata": {
        "id": "-f2yXIpjogIE"
      },
      "execution_count": null,
      "outputs": []
    },
    {
      "cell_type": "code",
      "source": [
        "df_c.tier.value_counts(normalize=True)"
      ],
      "metadata": {
        "colab": {
          "base_uri": "https://localhost:8080/"
        },
        "id": "ZID18QjponvL",
        "outputId": "2eb101aa-c070-4607-fd06-3f61afcd2a6f"
      },
      "execution_count": null,
      "outputs": [
        {
          "output_type": "execute_result",
          "data": {
            "text/plain": [
              "tier\n",
              "3    0.477115\n",
              "2    0.282420\n",
              "1    0.240464\n",
              "Name: proportion, dtype: float64"
            ]
          },
          "metadata": {},
          "execution_count": 121
        }
      ]
    },
    {
      "cell_type": "code",
      "source": [
        "df_cjy_cj_c=df_cjy_cj.merge(df_c, on=['company_hash','orgyear','ctc','job_position','years_of_experience','ctc_updated_year'], how='left')\n",
        "df_cjy_cj_c.head()"
      ],
      "metadata": {
        "id": "_zOR6SGxop6X"
      },
      "execution_count": null,
      "outputs": []
    },
    {
      "cell_type": "code",
      "source": [
        "df_cjy_cj_c.drop(columns=['count','mean','std','min','25%','50%','75%','max'],inplace=True)\n",
        "df_cjy_cj_c.head()"
      ],
      "metadata": {
        "id": "7u-Xl4KZot5-"
      },
      "execution_count": null,
      "outputs": []
    },
    {
      "cell_type": "code",
      "source": [
        "df_cjy_cj_c.columns"
      ],
      "metadata": {
        "colab": {
          "base_uri": "https://localhost:8080/"
        },
        "id": "1JU-PmlAoxHw",
        "outputId": "1beec707-90b4-4f42-ff58-79ac6383d8c8"
      },
      "execution_count": null,
      "outputs": [
        {
          "output_type": "execute_result",
          "data": {
            "text/plain": [
              "Index(['company_hash', 'orgyear', 'ctc', 'job_position', 'ctc_updated_year',\n",
              "       'years_of_experience', 'class', 'designation', 'tier'],\n",
              "      dtype='object')"
            ]
          },
          "metadata": {},
          "execution_count": 124
        }
      ]
    },
    {
      "cell_type": "code",
      "source": [
        "# Top 10 employees (earning more than most of the employees in the company)\n",
        "df_cjy_cj_c[df_cjy_cj_c['tier']==1].sort_values(['ctc'],ascending=False)[:10]"
      ],
      "metadata": {
        "id": "hs8T3SQ_gSbU"
      },
      "execution_count": null,
      "outputs": []
    },
    {
      "cell_type": "code",
      "source": [
        "# Top 10 employees of data science in Amazon / TCS etc earning more than their peers\n",
        "df_cjy_cj_c[(df_cjy_cj_c['class']==1) & (df_cjy_cj_c['company_hash']=='cbfvqt')].sort_values(['ctc'],ascending=False)[:10]"
      ],
      "metadata": {
        "id": "WzhLeV5HhwKC"
      },
      "execution_count": null,
      "outputs": []
    },
    {
      "cell_type": "code",
      "source": [
        "# Bottom 10 employees of data science in Amazon / TCS etc earning less than their peers\n",
        "df_cjy_cj_c[(df_cjy_cj_c['class']==3) & (df_cjy_cj_c['company_hash']=='cbfvqt')].sort_values(['ctc'])[:10]"
      ],
      "metadata": {
        "id": "ov1aekbNiTZh"
      },
      "execution_count": null,
      "outputs": []
    },
    {
      "cell_type": "code",
      "source": [
        "# Bottom 10 employees (earning less than most of the employees in the company)\n",
        "df_cjy_cj_c[df_cjy_cj_c['tier']==3].sort_values(['ctc'])[:10]"
      ],
      "metadata": {
        "id": "lfdprbjLimKw"
      },
      "execution_count": null,
      "outputs": []
    },
    {
      "cell_type": "code",
      "source": [
        "# Top 10 employees in Amazon- X department - having 5/6/7 years of experience earning more than their peers - Tier X\n",
        "temp=df_cjy_cj_c[(df_cjy_cj_c['class']==1) & (df_cjy_cj_c['company_hash']=='cbfvqt')].sort_values(['ctc'],ascending=False)\n",
        "temp[(temp['years_of_experience']>=5) & (temp['years_of_experience']<=7)]"
      ],
      "metadata": {
        "id": "F8KoV-qri3Ur"
      },
      "execution_count": null,
      "outputs": []
    },
    {
      "cell_type": "code",
      "source": [
        "# Top 10 companies (based on their CTC)\n",
        "df_c[['company_hash','max']].sort_values(by='max',ascending=False).value_counts()[:10]"
      ],
      "metadata": {
        "colab": {
          "base_uri": "https://localhost:8080/"
        },
        "id": "reOj7hMZkowY",
        "outputId": "1e8cba19-f5d7-4de9-afbd-a5c40fb899dc"
      },
      "execution_count": null,
      "outputs": [
        {
          "output_type": "execute_result",
          "data": {
            "text/plain": [
              "company_hash               max       \n",
              "Others                     15000000.0    26349\n",
              "nvnv wgzohrnvzwj otqcxwto  15000000.0     4191\n",
              "xzegojo                    15000000.0     2999\n",
              "vbvkgz                     15000000.0     2975\n",
              "wgszxkvzn                  15000000.0     2243\n",
              "zgn vuurxwvmrt vwwghzn     15000000.0     2159\n",
              "gqvwrt                     15000000.0     2108\n",
              "vwwtznhqt                  15000000.0     2102\n",
              "bxwqgogen                  15000000.0     1956\n",
              "fxuqg rxbxnta              15000000.0     1822\n",
              "Name: count, dtype: int64"
            ]
          },
          "metadata": {},
          "execution_count": 130
        }
      ]
    },
    {
      "cell_type": "code",
      "source": [
        "# Top 2 positions in every company (based on their CTC)\n",
        "temp=df_cj.sort_values(by='ctc',ascending=False).groupby(['company_hash']).head(2)\n",
        "temp[['company_hash','job_position','ctc']].sort_values('company_hash')"
      ],
      "metadata": {
        "id": "HcEzUVoQndbl"
      },
      "execution_count": null,
      "outputs": []
    },
    {
      "cell_type": "code",
      "source": [
        "X = df_cjy_cj_c[['ctc', 'years_of_experience', 'class', 'designation', 'tier']].copy()"
      ],
      "metadata": {
        "id": "rJLm67oaozES"
      },
      "execution_count": null,
      "outputs": []
    },
    {
      "cell_type": "code",
      "source": [
        "from sklearn.preprocessing import StandardScaler\n",
        "\n",
        "scaler = StandardScaler()\n",
        "scaler.fit(X)\n",
        "X_sc = pd.DataFrame(scaler.transform(X), columns=X.columns, index=X.index)"
      ],
      "metadata": {
        "id": "GfUbI4gXpHMT"
      },
      "execution_count": null,
      "outputs": []
    },
    {
      "cell_type": "code",
      "source": [
        "X_sc.shape"
      ],
      "metadata": {
        "colab": {
          "base_uri": "https://localhost:8080/"
        },
        "id": "OHekubO0qOGT",
        "outputId": "6b48354e-9d4a-4393-ffd8-99625c22a0ae"
      },
      "execution_count": null,
      "outputs": [
        {
          "output_type": "execute_result",
          "data": {
            "text/plain": [
              "(165721, 5)"
            ]
          },
          "metadata": {},
          "execution_count": 134
        }
      ]
    },
    {
      "cell_type": "code",
      "source": [
        "import scipy.cluster.hierarchy as sch\n",
        "import matplotlib.pyplot as plt\n",
        "\n",
        "sample = X_sc.sample(500)\n",
        "Z = sch.linkage(sample, method='ward')\n",
        "\n",
        "fig, ax = plt.subplots(figsize=(20, 12))\n",
        "sch.dendrogram(Z, labels=sample.index, ax=ax, color_threshold=2)\n",
        "plt.xticks(rotation=90)\n",
        "ax.set_ylabel('distance')"
      ],
      "metadata": {
        "colab": {
          "base_uri": "https://localhost:8080/",
          "height": 635
        },
        "id": "SAY4X8_IqRuA",
        "outputId": "bc7e5564-6524-4010-838e-e620fed89077"
      },
      "execution_count": null,
      "outputs": [
        {
          "output_type": "execute_result",
          "data": {
            "text/plain": [
              "Text(0, 0.5, 'distance')"
            ]
          },
          "metadata": {},
          "execution_count": 135
        },
        {
          "output_type": "display_data",
          "data": {
            "text/plain": [
              "<Figure size 2000x1200 with 1 Axes>"
            ],
            "image/png": "[encoded data removed]"
          },
          "metadata": {}
        }
      ]
    },
    {
      "cell_type": "code",
      "source": [
        "from sklearn.cluster import KMeans\n",
        "\n",
        "k = 3\n",
        "kmeans = KMeans(n_clusters=k, random_state=42)\n",
        "y_pred = kmeans.fit_predict(X_sc)\n",
        "\n",
        "##coordinates of the cluster centers\n",
        "# kmeans.cluster_centers_\n",
        "clusters = pd.DataFrame(X_sc, columns=X.columns)\n",
        "clusters['label'] = kmeans.labels_"
      ],
      "metadata": {
        "colab": {
          "base_uri": "https://localhost:8080/"
        },
        "id": "QDjTJkaiqXOA",
        "outputId": "0879b348-bf1c-45f6-e3bf-65d4acfefa73"
      },
      "execution_count": null,
      "outputs": [
        {
          "output_type": "stream",
          "name": "stderr",
          "text": [
            "/usr/local/lib/python3.10/dist-packages/sklearn/cluster/_kmeans.py:870: FutureWarning: The default value of `n_init` will change from 10 to 'auto' in 1.4. Set the value of `n_init` explicitly to suppress the warning\n",
            "  warnings.warn(\n"
          ]
        }
      ]
    },
    {
      "cell_type": "code",
      "source": [
        "X_sc.columns"
      ],
      "metadata": {
        "colab": {
          "base_uri": "https://localhost:8080/"
        },
        "id": "uNeCnwdxrBZ7",
        "outputId": "edb4f858-ca7c-41a5-cb78-7934a4486a15"
      },
      "execution_count": null,
      "outputs": [
        {
          "output_type": "execute_result",
          "data": {
            "text/plain": [
              "Index(['ctc', 'years_of_experience', 'class', 'designation', 'tier'], dtype='object')"
            ]
          },
          "metadata": {},
          "execution_count": 137
        }
      ]
    },
    {
      "cell_type": "code",
      "source": [
        "x_axis = 'years_of_experience'\n",
        "y_axis = 'class'\n",
        "\n",
        "plt.scatter(clusters[x_axis], clusters[y_axis], c=clusters['label'], )\n",
        "plt.scatter(kmeans.cluster_centers_[:, 1], kmeans.cluster_centers_[:, 2], color=\"red\", marker=\"X\", s=100)\n",
        "plt.xlabel(x_axis)\n",
        "plt.ylabel(y_axis);"
      ],
      "metadata": {
        "colab": {
          "base_uri": "https://localhost:8080/",
          "height": 450
        },
        "id": "lToJv6GXrEzW",
        "outputId": "90404e4d-cf18-4584-d82f-3dcbb7110496"
      },
      "execution_count": null,
      "outputs": [
        {
          "output_type": "display_data",
          "data": {
            "text/plain": [
              "<Figure size 640x480 with 1 Axes>"
            ],
            "image/png": "[encoded data removed]"
          },
          "metadata": {}
        }
      ]
    },
    {
      "cell_type": "markdown",
      "source": [
        "## Insights and Recommendations\n",
        "\n",
        "-> Top Paying job positions are 'Engineering Leadership', 'Backend Engineer', 'Product Manager', 'Program Manager', 'SDET', 'QA Engineer', 'Data Scientist', 'Android Engineer' and 'FullStack Engineer'.\n",
        "\n",
        "Freshers who want to work on technical side should look for roles like Backend Engineer, SDET, QA engineer, Dataa Scientist, Android Engineer,Full stack engineer to get good salaries as expirience increases.\n",
        "\n",
        "-> Top paying companies are nvnv wgzohrnvzwj otqcxwto, xzegojo,vbvkgz. Freshers who want best pay should aim for these companies."
      ],
      "metadata": {
        "id": "sVHKKFTDcpDk"
      }
    },
    {
      "cell_type": "code",
      "source": [],
      "metadata": {
        "id": "mwMp6lCaPZQd"
      },
      "execution_count": null,
      "outputs": []
    }
  ]
}